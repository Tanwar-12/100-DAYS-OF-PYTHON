{
 "cells": [
  {
   "cell_type": "markdown",
   "id": "baadcc5e",
   "metadata": {},
   "source": [
    "# <div style=\"padding:20px;color:white;margin:0;font-size:35px;font-family:Georgia;text-align:left;display:fill;border-radius:5px;background-color:#254E58;overflow:hidden\"><b> Day 15- Python Regex</b>"
   ]
  },
  {
   "cell_type": "markdown",
   "id": "93936489",
   "metadata": {},
   "source": [
    "## Python RegEx"
   ]
  },
  {
   "cell_type": "markdown",
   "id": "de0a4c15",
   "metadata": {},
   "source": [
    "**A RegEx, or Regular Expression, is a sequence of characters that forms a search pattern.**\n",
    "\n",
    "**RegEx can be used to check if a string contains the specified search pattern.**"
   ]
  },
  {
   "cell_type": "markdown",
   "id": "c4aef577",
   "metadata": {},
   "source": [
    "### RegEx Module"
   ]
  },
  {
   "cell_type": "markdown",
   "id": "e635a224",
   "metadata": {},
   "source": [
    "**Python has a built-in package called re, which can be used to work with Regular Expressions.**\n",
    "\n",
    "**Import the re module:**"
   ]
  },
  {
   "cell_type": "code",
   "execution_count": 1,
   "id": "3be5cafc",
   "metadata": {},
   "outputs": [],
   "source": [
    "import re"
   ]
  },
  {
   "cell_type": "markdown",
   "id": "acd0604e",
   "metadata": {},
   "source": [
    "## RegEx in Python"
   ]
  },
  {
   "cell_type": "markdown",
   "id": "d18ef859",
   "metadata": {},
   "source": [
    "**When you have imported the re module, you can start using regular expressions:**"
   ]
  },
  {
   "cell_type": "markdown",
   "id": "e4ad5c2b",
   "metadata": {},
   "source": [
    "### ExampleGet your own Python Server\n",
    "**Search the string to see if it starts with \"The\" and ends with \"Spain\":**"
   ]
  },
  {
   "cell_type": "code",
   "execution_count": 2,
   "id": "9491e6ba",
   "metadata": {},
   "outputs": [],
   "source": [
    "import re\n",
    "\n",
    "txt = \"The rain in Spain\"\n",
    "x = re.search(\"^The.*Spain$\", txt)"
   ]
  },
  {
   "cell_type": "markdown",
   "id": "0df519fb",
   "metadata": {},
   "source": [
    "## The search() Function"
   ]
  },
  {
   "cell_type": "markdown",
   "id": "c1db946a",
   "metadata": {},
   "source": [
    "**The search() function searches the string for a match, and returns a Match object if there is a match.**\n",
    "\n",
    "**If there is more than one match, only the first occurrence of the match will be returned:**"
   ]
  },
  {
   "cell_type": "markdown",
   "id": "b92f105f",
   "metadata": {},
   "source": [
    "### Example\n",
    "**Search for the first white-space character in the string:**"
   ]
  },
  {
   "cell_type": "code",
   "execution_count": 3,
   "id": "34f9cc4d",
   "metadata": {},
   "outputs": [
    {
     "name": "stdout",
     "output_type": "stream",
     "text": [
      "The first white-space character is located in position: 3\n"
     ]
    }
   ],
   "source": [
    "import re\n",
    "\n",
    "txt = \"The rain in Spain\"\n",
    "x = re.search(\"\\s\", txt)\n",
    "\n",
    "print(\"The first white-space character is located in position:\", x.start())"
   ]
  },
  {
   "cell_type": "markdown",
   "id": "af654cb5",
   "metadata": {},
   "source": [
    "**If no matches are found, the value None is returned:**"
   ]
  },
  {
   "cell_type": "markdown",
   "id": "27f7a165",
   "metadata": {},
   "source": [
    "### Example\n",
    "**Make a search that returns no match:**"
   ]
  },
  {
   "cell_type": "code",
   "execution_count": 4,
   "id": "01f7c319",
   "metadata": {},
   "outputs": [
    {
     "name": "stdout",
     "output_type": "stream",
     "text": [
      "None\n"
     ]
    }
   ],
   "source": [
    "import re\n",
    "\n",
    "txt = \"The rain in Spain\"\n",
    "x = re.search(\"Portugal\", txt)\n",
    "print(x)"
   ]
  },
  {
   "cell_type": "markdown",
   "id": "feb76f2d",
   "metadata": {},
   "source": [
    "## The split() Function\n",
    "**The split() function returns a list where the string has been split at each match:**"
   ]
  },
  {
   "cell_type": "markdown",
   "id": "734b671c",
   "metadata": {},
   "source": [
    "### Example\n",
    "**Split at each white-space character:**"
   ]
  },
  {
   "cell_type": "code",
   "execution_count": 5,
   "id": "c0d11cee",
   "metadata": {},
   "outputs": [
    {
     "name": "stdout",
     "output_type": "stream",
     "text": [
      "['The', 'rain', 'in', 'Spain']\n"
     ]
    }
   ],
   "source": [
    "import re\n",
    "\n",
    "txt = \"The rain in Spain\"\n",
    "x = re.split(\"\\s\", txt)\n",
    "print(x)"
   ]
  },
  {
   "cell_type": "markdown",
   "id": "572bbca9",
   "metadata": {},
   "source": [
    "**You can control the number of occurrences by specifying the maxsplit parameter:**"
   ]
  },
  {
   "cell_type": "markdown",
   "id": "66909473",
   "metadata": {},
   "source": [
    "### Example\n",
    "**Split the string only at the first occurrence:**"
   ]
  },
  {
   "cell_type": "code",
   "execution_count": 6,
   "id": "d0a4927d",
   "metadata": {},
   "outputs": [
    {
     "name": "stdout",
     "output_type": "stream",
     "text": [
      "['The', 'rain in Spain']\n"
     ]
    }
   ],
   "source": [
    "import re\n",
    "\n",
    "txt = \"The rain in Spain\"\n",
    "x = re.split(\"\\s\", txt, 1)\n",
    "print(x)"
   ]
  },
  {
   "cell_type": "markdown",
   "id": "e8cf2e63",
   "metadata": {},
   "source": [
    "## The sub() Function\n",
    "**The sub() function replaces the matches with the text of your choice:**"
   ]
  },
  {
   "cell_type": "markdown",
   "id": "0dec2af6",
   "metadata": {},
   "source": [
    "### Example\n",
    "**Replace every white-space character with the number 9:**"
   ]
  },
  {
   "cell_type": "code",
   "execution_count": 7,
   "id": "64fa80b3",
   "metadata": {},
   "outputs": [
    {
     "name": "stdout",
     "output_type": "stream",
     "text": [
      "The9rain9in9Spain\n"
     ]
    }
   ],
   "source": [
    "import re\n",
    "\n",
    "txt = \"The rain in Spain\"\n",
    "x = re.sub(\"\\s\", \"9\", txt)\n",
    "print(x)"
   ]
  },
  {
   "cell_type": "markdown",
   "id": "2e5ab01d",
   "metadata": {},
   "source": [
    "**You can control the number of replacements by specifying the count parameter:**"
   ]
  },
  {
   "cell_type": "markdown",
   "id": "901517e3",
   "metadata": {},
   "source": [
    "### Example\n",
    "**Replace the first 2 occurrences:**"
   ]
  },
  {
   "cell_type": "code",
   "execution_count": 8,
   "id": "0e70befa",
   "metadata": {},
   "outputs": [
    {
     "name": "stdout",
     "output_type": "stream",
     "text": [
      "The9rain9in Spain\n"
     ]
    }
   ],
   "source": [
    "import re\n",
    "\n",
    "txt = \"The rain in Spain\"\n",
    "x = re.sub(\"\\s\", \"9\", txt, 2)\n",
    "print(x)"
   ]
  },
  {
   "cell_type": "markdown",
   "id": "663dbced",
   "metadata": {},
   "source": [
    "## Match Object\n",
    "**A Match Object is an object containing information about the search and the result**"
   ]
  },
  {
   "cell_type": "markdown",
   "id": "66446522",
   "metadata": {},
   "source": [
    "**Note**: If there is no match, the value None will be returned, instead of the Match Object."
   ]
  },
  {
   "cell_type": "markdown",
   "id": "f0e68f7b",
   "metadata": {},
   "source": [
    "### Example\n",
    "**Do a search that will return a Match Object:**"
   ]
  },
  {
   "cell_type": "code",
   "execution_count": 9,
   "id": "ec4767e0",
   "metadata": {},
   "outputs": [
    {
     "name": "stdout",
     "output_type": "stream",
     "text": [
      "<re.Match object; span=(5, 7), match='ai'>\n"
     ]
    }
   ],
   "source": [
    "import re\n",
    "\n",
    "txt = \"The rain in Spain\"\n",
    "x = re.search(\"ai\", txt)\n",
    "print(x) #this will print an object"
   ]
  },
  {
   "cell_type": "markdown",
   "id": "08039a9c",
   "metadata": {},
   "source": [
    "#### The Match object has properties and methods used to retrieve information about the search, and the result:\n",
    "\n",
    ".span() returns a tuple containing the start-, and end positions of the match.\n",
    "\n",
    ".string returns the string passed into the function\n",
    "\n",
    ".group() returns the part of the string where there was a match"
   ]
  },
  {
   "cell_type": "markdown",
   "id": "9f6857b3",
   "metadata": {},
   "source": [
    "### Example\n",
    "**Print the position (start- and end-position) of the first match occurrence.**\n",
    "\n",
    "**The regular expression looks for any words that starts with an upper case \"S\":**"
   ]
  },
  {
   "cell_type": "code",
   "execution_count": 10,
   "id": "0b970dc2",
   "metadata": {},
   "outputs": [
    {
     "name": "stdout",
     "output_type": "stream",
     "text": [
      "(12, 17)\n"
     ]
    }
   ],
   "source": [
    "import re\n",
    "\n",
    "txt = \"The rain in Spain\"\n",
    "x = re.search(r\"\\bS\\w+\", txt)\n",
    "print(x.span())"
   ]
  },
  {
   "cell_type": "markdown",
   "id": "aaba955c",
   "metadata": {},
   "source": [
    "### Example\n",
    "**Print the string passed into the function:**"
   ]
  },
  {
   "cell_type": "markdown",
   "id": "2c24321e",
   "metadata": {},
   "source": [
    "import re\n",
    "\n",
    "txt = \"The rain in Spain\"\n",
    "x = re.search(r\"\\bS\\w+\", txt)\n",
    "print(x.string)"
   ]
  },
  {
   "cell_type": "markdown",
   "id": "769a49e6",
   "metadata": {},
   "source": [
    "### Example\n",
    "**Print the part of the string where there was a match.**\n",
    "\n",
    "**The regular expression looks for any words that starts with an upper case \"S\":**"
   ]
  },
  {
   "cell_type": "code",
   "execution_count": 12,
   "id": "29f674f5",
   "metadata": {},
   "outputs": [
    {
     "name": "stdout",
     "output_type": "stream",
     "text": [
      "Spain\n"
     ]
    }
   ],
   "source": [
    "import re\n",
    "\n",
    "txt = \"The rain in Spain\"\n",
    "x = re.search(r\"\\bS\\w+\", txt)\n",
    "print(x.group())"
   ]
  },
  {
   "cell_type": "markdown",
   "id": "ca072d1a",
   "metadata": {},
   "source": [
    "**Note**: If there is no match, the value None will be returned, instead of the Match Object."
   ]
  }
 ],
 "metadata": {
  "kernelspec": {
   "display_name": "Python 3 (ipykernel)",
   "language": "python",
   "name": "python3"
  },
  "language_info": {
   "codemirror_mode": {
    "name": "ipython",
    "version": 3
   },
   "file_extension": ".py",
   "mimetype": "text/x-python",
   "name": "python",
   "nbconvert_exporter": "python",
   "pygments_lexer": "ipython3",
   "version": "3.10.13"
  }
 },
 "nbformat": 4,
 "nbformat_minor": 5
}
