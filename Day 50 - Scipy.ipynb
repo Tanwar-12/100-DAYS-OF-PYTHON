{
 "cells": [
  {
   "cell_type": "markdown",
   "id": "c6b71014-c374-45eb-b18b-413e54f1599f",
   "metadata": {},
   "source": [
    "# <div style=\"padding:20px;color:white;margin:0;font-size:35px;font-family:Georgia;text-align:left;display:fill;border-radius:5px;background-color:#254E58;overflow:hidden\"><b>Day 50  - Scipy</b></div>"
   ]
  },
  {
   "cell_type": "markdown",
   "id": "a6b97d20-a8cf-47e1-a26c-5b10926937e6",
   "metadata": {},
   "source": [
    "## SciPy is a scientific computation library that uses NumPy underneath.\n",
    "\n",
    "**SciPy stands for Scientific Python.**"
   ]
  },
  {
   "cell_type": "markdown",
   "id": "7ae4053a-a8bc-44c1-9e26-c1faf2ebcf32",
   "metadata": {},
   "source": [
    "## **Learning by Reading**\n",
    "* We have created 10 tutorial pages for you to learn the fundamentals of SciPy:\n",
    "\n",
    "## **Basic SciPy**\n",
    " \n",
    "## **What is SciPy?**\n",
    "* SciPy is a scientific computation library that uses NumPy underneath.\n",
    "\n",
    "* SciPy stands for Scientific Python.\n",
    "\n",
    "* It provides more utility functions for optimization, stats and signal processing.\n",
    "\n",
    "* Like NumPy, SciPy is open source so we can use it freely.\n",
    "\n",
    "* SciPy was created by NumPy's creator Travis Olliphant.\n",
    "\n",
    "## **Why Use SciPy?**\n",
    "            \n",
    "* If SciPy uses NumPy underneath, why can we not just use NumPy?\n",
    "\n",
    "* SciPy has optimized and added functions that are frequently used in NumPy and Data Science.\n",
    "\n",
    "**Which Language is SciPy Written in?**\n",
    "* SciPy is predominantly written in Python, but a few segments are written in C.\n",
    "\n",
    "**Where is the SciPy Codebase?**\n",
    "\n",
    "The source code for SciPy is located at this github repository https://github.com/scipy/scipy\n",
    " \n",
    "\n",
    " \n",
    "\n",
    " \n",
    "\n",
    " \n",
    "\n",
    " \n",
    "\n",
    " \n",
    "\n",
    " \n",
    "\n",
    " \n"
   ]
  },
  {
   "cell_type": "markdown",
   "id": "ec8dc4a1-242c-47d4-bc45-c6cee875c8b5",
   "metadata": {},
   "source": [
    "## **Installation of SciPy**\n",
    "* If you have Python and PIP already installed on a system, then installation of SciPy is very easy.\n",
    "\n",
    "**Install** it using this command:\n",
    "\n"
   ]
  },
  {
   "cell_type": "raw",
   "id": "e8e074ba-3bc6-4856-87fb-bf6c21d87e8b",
   "metadata": {},
   "source": [
    "C:\\Users\\Your Name>pip install scipy"
   ]
  },
  {
   "cell_type": "markdown",
   "id": "dd9880bd-ae5b-4c10-9a95-482e9a14064d",
   "metadata": {},
   "source": [
    "**_If this command fails, then use a Python distribution that already has SciPy installed like, Anaconda, Spyder etc._**\n",
    "\n",
    "**Import SciPy**\n",
    "\n",
    "Once SciPy is installed, import the SciPy module(s) you want to use in your applications by adding the from scipy import module statement:"
   ]
  },
  {
   "cell_type": "code",
   "execution_count": 2,
   "id": "e8245c37-1bf2-4ccb-a70c-3c4fd8810c3d",
   "metadata": {},
   "outputs": [],
   "source": [
    "from scipy import constants"
   ]
  },
  {
   "cell_type": "markdown",
   "id": "9c420bd2-2d71-4224-9101-3c194356f7fb",
   "metadata": {},
   "source": [
    "## **Example:**\n",
    "## How many cubic meters are in one liter:\n",
    "\n"
   ]
  },
  {
   "cell_type": "code",
   "execution_count": 3,
   "id": "b8056ff2-d84e-46af-b549-03750d3f2821",
   "metadata": {},
   "outputs": [
    {
     "name": "stdout",
     "output_type": "stream",
     "text": [
      "0.001\n"
     ]
    }
   ],
   "source": [
    "from scipy import constants\n",
    "\n",
    "print(constants.liter)"
   ]
  },
  {
   "cell_type": "markdown",
   "id": "1d150b85-8cd8-44a1-86e8-49e91b53dbf5",
   "metadata": {},
   "source": [
    "### **Checking SciPy Version**\n",
    "The version string is stored under the __version__ attribute.\n",
    "\n"
   ]
  },
  {
   "cell_type": "code",
   "execution_count": 4,
   "id": "fd4ccb30-1718-4db4-a8ef-1a82d67d4044",
   "metadata": {},
   "outputs": [
    {
     "name": "stdout",
     "output_type": "stream",
     "text": [
      "1.11.4\n"
     ]
    }
   ],
   "source": [
    "\n",
    "import scipy\n",
    "\n",
    "print(scipy.__version__)"
   ]
  },
  {
   "cell_type": "markdown",
   "id": "2129650b-d282-410b-9d8b-0c35ca586157",
   "metadata": {},
   "source": [
    "## **Constants in SciPy**\n",
    "* As SciPy is more focused on scientific implementations, it provides many built-in scientific constants.\n",
    "\n",
    "* These constants can be helpful when you are working with Data Science.\n",
    "\n",
    "* PI is an example of a scientific constant."
   ]
  },
  {
   "cell_type": "markdown",
   "id": "1a4d80ab-7fdc-4ad7-b116-2c455c6dcb13",
   "metadata": {},
   "source": [
    "### **Print the constant value of PI:**"
   ]
  },
  {
   "cell_type": "code",
   "execution_count": 6,
   "id": "c098c060-56ee-4022-9bac-a4947bfec075",
   "metadata": {},
   "outputs": [
    {
     "name": "stdout",
     "output_type": "stream",
     "text": [
      "3.141592653589793\n"
     ]
    }
   ],
   "source": [
    "from scipy import constants\n",
    "\n",
    "print(constants.pi)"
   ]
  },
  {
   "cell_type": "markdown",
   "id": "240b2e00-bcd5-4697-bd40-3fc712a8e2e4",
   "metadata": {},
   "source": [
    "### **Constant Units**\n",
    "* A list of all units under the constants module can be seen using the dir() function."
   ]
  },
  {
   "cell_type": "markdown",
   "id": "7fb0b91f-ddc8-4b29-8b88-77f933505476",
   "metadata": {},
   "source": [
    "### **List all constants:**\n",
    "\n"
   ]
  },
  {
   "cell_type": "code",
   "execution_count": 7,
   "id": "8da2f53e-1b56-4932-95f3-16766043776e",
   "metadata": {},
   "outputs": [
    {
     "name": "stdout",
     "output_type": "stream",
     "text": [
      "['Avogadro', 'Boltzmann', 'Btu', 'Btu_IT', 'Btu_th', 'ConstantWarning', 'G', 'Julian_year', 'N_A', 'Planck', 'R', 'Rydberg', 'Stefan_Boltzmann', 'Wien', '__all__', '__builtins__', '__cached__', '__doc__', '__file__', '__loader__', '__name__', '__package__', '__path__', '__spec__', '_codata', '_constants', '_obsolete_constants', 'acre', 'alpha', 'angstrom', 'arcmin', 'arcminute', 'arcsec', 'arcsecond', 'astronomical_unit', 'atm', 'atmosphere', 'atomic_mass', 'atto', 'au', 'bar', 'barrel', 'bbl', 'blob', 'c', 'calorie', 'calorie_IT', 'calorie_th', 'carat', 'centi', 'codata', 'constants', 'convert_temperature', 'day', 'deci', 'degree', 'degree_Fahrenheit', 'deka', 'dyn', 'dyne', 'e', 'eV', 'electron_mass', 'electron_volt', 'elementary_charge', 'epsilon_0', 'erg', 'exa', 'exbi', 'femto', 'fermi', 'find', 'fine_structure', 'fluid_ounce', 'fluid_ounce_US', 'fluid_ounce_imp', 'foot', 'g', 'gallon', 'gallon_US', 'gallon_imp', 'gas_constant', 'gibi', 'giga', 'golden', 'golden_ratio', 'grain', 'gram', 'gravitational_constant', 'h', 'hbar', 'hectare', 'hecto', 'horsepower', 'hour', 'hp', 'inch', 'k', 'kgf', 'kibi', 'kilo', 'kilogram_force', 'kmh', 'knot', 'lambda2nu', 'lb', 'lbf', 'light_year', 'liter', 'litre', 'long_ton', 'm_e', 'm_n', 'm_p', 'm_u', 'mach', 'mebi', 'mega', 'metric_ton', 'micro', 'micron', 'mil', 'mile', 'milli', 'minute', 'mmHg', 'mph', 'mu_0', 'nano', 'nautical_mile', 'neutron_mass', 'nu2lambda', 'ounce', 'oz', 'parsec', 'pebi', 'peta', 'physical_constants', 'pi', 'pico', 'point', 'pound', 'pound_force', 'precision', 'proton_mass', 'psi', 'pt', 'quecto', 'quetta', 'ronna', 'ronto', 'short_ton', 'sigma', 'slinch', 'slug', 'speed_of_light', 'speed_of_sound', 'stone', 'survey_foot', 'survey_mile', 'tebi', 'tera', 'test', 'ton_TNT', 'torr', 'troy_ounce', 'troy_pound', 'u', 'unit', 'value', 'week', 'yard', 'year', 'yobi', 'yocto', 'yotta', 'zebi', 'zepto', 'zero_Celsius', 'zetta']\n"
     ]
    }
   ],
   "source": [
    "from scipy import constants\n",
    "\n",
    "print(dir(constants))"
   ]
  },
  {
   "cell_type": "markdown",
   "id": "e32d3465-58ba-45df-b30b-5e3c169c02a4",
   "metadata": {},
   "source": [
    "## **Unit Categories**\n",
    "**The units are placed under these categories:**\n",
    "\n",
    "* Metric\n",
    "* Binary\n",
    "* Mass\n",
    "* Angle\n",
    "* Time\n",
    "* Length\n",
    "* Pressure\n",
    "* Volume\n",
    "* Speed\n",
    "* Temperature\n",
    "* Energy\n",
    "* Power\n",
    "* Force\n"
   ]
  },
  {
   "cell_type": "markdown",
   "id": "5065782f-d65a-4eb0-b2b4-0fb58ae4aad4",
   "metadata": {},
   "source": [
    "## **Metric (SI) Prefixes:**\n",
    "**Return the specified unit in meter (e.g. centi returns 0.01)**"
   ]
  },
  {
   "cell_type": "code",
   "execution_count": 8,
   "id": "f9fc1c18-2697-435e-a54c-b4390ff8d422",
   "metadata": {},
   "outputs": [
    {
     "name": "stdout",
     "output_type": "stream",
     "text": [
      "1e+24\n",
      "1e+21\n",
      "1e+18\n",
      "1000000000000000.0\n",
      "1000000000000.0\n",
      "1000000000.0\n",
      "1000000.0\n",
      "1000.0\n",
      "100.0\n",
      "10.0\n",
      "0.1\n",
      "0.01\n",
      "0.001\n",
      "1e-06\n",
      "1e-09\n",
      "1e-12\n",
      "1e-15\n",
      "1e-18\n",
      "1e-21\n"
     ]
    }
   ],
   "source": [
    "from scipy import constants\n",
    "\n",
    "print(constants.yotta)    #1e+24\n",
    "print(constants.zetta)    #1e+21\n",
    "print(constants.exa)      #1e+18\n",
    "print(constants.peta)     #1000000000000000.0\n",
    "print(constants.tera)     #1000000000000.0\n",
    "print(constants.giga)     #1000000000.0\n",
    "print(constants.mega)     #1000000.0\n",
    "print(constants.kilo)     #1000.0\n",
    "print(constants.hecto)    #100.0\n",
    "print(constants.deka)     #10.0\n",
    "print(constants.deci)     #0.1\n",
    "print(constants.centi)    #0.01\n",
    "print(constants.milli)    #0.001\n",
    "print(constants.micro)    #1e-06\n",
    "print(constants.nano)     #1e-09\n",
    "print(constants.pico)     #1e-12\n",
    "print(constants.femto)    #1e-15\n",
    "print(constants.atto)     #1e-18\n",
    "print(constants.zepto)    #1e-21"
   ]
  },
  {
   "cell_type": "markdown",
   "id": "bb80edde-2ada-4b65-8d7b-b6987dbc8cec",
   "metadata": {},
   "source": [
    "### **Binary Prefixes:**\n",
    "* Return the specified unit in bytes (e.g. kibi returns 1024)"
   ]
  },
  {
   "cell_type": "code",
   "execution_count": 9,
   "id": "b0db51ed-5b20-48ea-95a8-c38284c099f9",
   "metadata": {},
   "outputs": [
    {
     "name": "stdout",
     "output_type": "stream",
     "text": [
      "1024\n",
      "1048576\n",
      "1073741824\n",
      "1099511627776\n",
      "1125899906842624\n",
      "1152921504606846976\n",
      "1180591620717411303424\n",
      "1208925819614629174706176\n"
     ]
    }
   ],
   "source": [
    "from scipy import constants\n",
    "\n",
    "print(constants.kibi)    #1024\n",
    "print(constants.mebi)    #1048576\n",
    "print(constants.gibi)    #1073741824\n",
    "print(constants.tebi)    #1099511627776\n",
    "print(constants.pebi)    #1125899906842624\n",
    "print(constants.exbi)    #1152921504606846976\n",
    "print(constants.zebi)    #1180591620717411303424\n",
    "print(constants.yobi)    #1208925819614629174706176"
   ]
  },
  {
   "cell_type": "markdown",
   "id": "c836f453-2073-4221-9d02-fdf25f225ab6",
   "metadata": {},
   "source": [
    "### **Mass:**\n",
    "**Return the specified unit in kg (e.g. gram returns 0.001)**"
   ]
  },
  {
   "cell_type": "code",
   "execution_count": 10,
   "id": "7b18d848-d889-47ca-a68d-e2e21a9c6b14",
   "metadata": {},
   "outputs": [
    {
     "name": "stdout",
     "output_type": "stream",
     "text": [
      "0.001\n",
      "1000.0\n",
      "6.479891e-05\n",
      "0.45359236999999997\n",
      "0.45359236999999997\n",
      "0.028349523124999998\n",
      "0.028349523124999998\n",
      "6.3502931799999995\n",
      "1016.0469088\n",
      "907.1847399999999\n",
      "0.031103476799999998\n",
      "0.37324172159999996\n",
      "0.0002\n",
      "1.6605390666e-27\n",
      "1.6605390666e-27\n",
      "1.6605390666e-27\n"
     ]
    }
   ],
   "source": [
    "from scipy import constants\n",
    "\n",
    "print(constants.gram)        #0.001\n",
    "print(constants.metric_ton)  #1000.0\n",
    "print(constants.grain)       #6.479891e-05\n",
    "print(constants.lb)          #0.45359236999999997\n",
    "print(constants.pound)       #0.45359236999999997\n",
    "print(constants.oz)          #0.028349523124999998\n",
    "print(constants.ounce)       #0.028349523124999998\n",
    "print(constants.stone)       #6.3502931799999995\n",
    "print(constants.long_ton)    #1016.0469088\n",
    "print(constants.short_ton)   #907.1847399999999\n",
    "print(constants.troy_ounce)  #0.031103476799999998\n",
    "print(constants.troy_pound)  #0.37324172159999996\n",
    "print(constants.carat)       #0.0002\n",
    "print(constants.atomic_mass) #1.66053904e-27\n",
    "print(constants.m_u)         #1.66053904e-27\n",
    "print(constants.u)           #1.66053904e-27"
   ]
  },
  {
   "cell_type": "markdown",
   "id": "63bd1a54-ddee-4c3c-92ff-4d5b6ea559d3",
   "metadata": {},
   "source": [
    "### **Angle:**\n",
    "**Return the specified unit in radians (e.g. degree returns 0.017453292519943295)**"
   ]
  },
  {
   "cell_type": "code",
   "execution_count": 11,
   "id": "47a0e833-bae4-481a-8b1f-52b0a1ae8cdc",
   "metadata": {},
   "outputs": [
    {
     "name": "stdout",
     "output_type": "stream",
     "text": [
      "0.017453292519943295\n",
      "0.0002908882086657216\n",
      "0.0002908882086657216\n",
      "4.84813681109536e-06\n",
      "4.84813681109536e-06\n"
     ]
    }
   ],
   "source": [
    "from scipy import constants\n",
    "\n",
    "print(constants.degree)     #0.017453292519943295\n",
    "print(constants.arcmin)     #0.0002908882086657216\n",
    "print(constants.arcminute)  #0.0002908882086657216\n",
    "print(constants.arcsec)     #4.84813681109536e-06\n",
    "print(constants.arcsecond)  #4.84813681109536e-06"
   ]
  },
  {
   "cell_type": "markdown",
   "id": "84f15b40-c8c8-4701-836c-f5a8d1beeae4",
   "metadata": {},
   "source": [
    "### **Time:**\n",
    "**Return the specified unit in seconds (e.g. hour returns 3600.0)**"
   ]
  },
  {
   "cell_type": "code",
   "execution_count": 12,
   "id": "3c66f999-936e-4061-b27f-112c91b7f392",
   "metadata": {},
   "outputs": [
    {
     "name": "stdout",
     "output_type": "stream",
     "text": [
      "60.0\n",
      "3600.0\n",
      "86400.0\n",
      "604800.0\n",
      "31536000.0\n",
      "31557600.0\n"
     ]
    }
   ],
   "source": [
    "from scipy import constants\n",
    "\n",
    "print(constants.minute)      #60.0\n",
    "print(constants.hour)        #3600.0\n",
    "print(constants.day)         #86400.0\n",
    "print(constants.week)        #604800.0\n",
    "print(constants.year)        #31536000.0\n",
    "print(constants.Julian_year) #31557600.0"
   ]
  },
  {
   "cell_type": "markdown",
   "id": "8189882f-962f-4c3c-a3d3-7c73ed85bd1c",
   "metadata": {},
   "source": [
    "### **Length:**\n",
    "**Return the specified unit in meters (e.g. nautical_mile returns 1852.0)**"
   ]
  },
  {
   "cell_type": "code",
   "execution_count": 13,
   "id": "9c9cc9ed-8825-4413-8d9f-c98d0c7fe057",
   "metadata": {},
   "outputs": [
    {
     "name": "stdout",
     "output_type": "stream",
     "text": [
      "0.0254\n",
      "0.30479999999999996\n",
      "0.9143999999999999\n",
      "1609.3439999999998\n",
      "2.5399999999999997e-05\n",
      "0.00035277777777777776\n",
      "0.00035277777777777776\n",
      "0.3048006096012192\n",
      "1609.3472186944373\n",
      "1852.0\n",
      "1e-15\n",
      "1e-10\n",
      "1e-06\n",
      "149597870700.0\n",
      "149597870700.0\n",
      "9460730472580800.0\n",
      "3.085677581491367e+16\n"
     ]
    }
   ],
   "source": [
    "from scipy import constants\n",
    "\n",
    "print(constants.inch)              #0.0254\n",
    "print(constants.foot)              #0.30479999999999996\n",
    "print(constants.yard)              #0.9143999999999999\n",
    "print(constants.mile)              #1609.3439999999998\n",
    "print(constants.mil)               #2.5399999999999997e-05\n",
    "print(constants.pt)                #0.00035277777777777776\n",
    "print(constants.point)             #0.00035277777777777776\n",
    "print(constants.survey_foot)       #0.3048006096012192\n",
    "print(constants.survey_mile)       #1609.3472186944373\n",
    "print(constants.nautical_mile)     #1852.0\n",
    "print(constants.fermi)             #1e-15\n",
    "print(constants.angstrom)          #1e-10\n",
    "print(constants.micron)            #1e-06\n",
    "print(constants.au)                #149597870691.0\n",
    "print(constants.astronomical_unit) #149597870691.0\n",
    "print(constants.light_year)        #9460730472580800.0\n",
    "print(constants.parsec)            #3.0856775813057292e+16"
   ]
  },
  {
   "cell_type": "markdown",
   "id": "5fa4d0a8-8593-497d-b54b-e2a7acc352f0",
   "metadata": {},
   "source": [
    "### **Pressure:**\n",
    "**Return the specified unit in pascals (e.g. psi returns 6894.757293168361)**"
   ]
  },
  {
   "cell_type": "code",
   "execution_count": 14,
   "id": "1f20c012-b2c9-4024-9ff2-e65e69af7870",
   "metadata": {},
   "outputs": [
    {
     "name": "stdout",
     "output_type": "stream",
     "text": [
      "101325.0\n",
      "101325.0\n",
      "100000.0\n",
      "133.32236842105263\n",
      "133.32236842105263\n",
      "6894.757293168361\n"
     ]
    }
   ],
   "source": [
    "from scipy import constants\n",
    "\n",
    "print(constants.atm)         #101325.0\n",
    "print(constants.atmosphere)  #101325.0\n",
    "print(constants.bar)         #100000.0\n",
    "print(constants.torr)        #133.32236842105263\n",
    "print(constants.mmHg)        #133.32236842105263\n",
    "print(constants.psi)         #6894.757293168361"
   ]
  },
  {
   "cell_type": "markdown",
   "id": "d6f7c578-e0a7-43d4-bb83-7e4f67089ad1",
   "metadata": {},
   "source": [
    "### **Area:**\n",
    "**Return the specified unit in square meters(e.g. hectare returns 10000.0)**"
   ]
  },
  {
   "cell_type": "code",
   "execution_count": 15,
   "id": "6d04652d-42e3-42aa-93fa-3e4b28e7ea81",
   "metadata": {},
   "outputs": [
    {
     "name": "stdout",
     "output_type": "stream",
     "text": [
      "10000.0\n",
      "4046.8564223999992\n"
     ]
    }
   ],
   "source": [
    "from scipy import constants\n",
    "\n",
    "print(constants.hectare) #10000.0\n",
    "print(constants.acre)    #4046.8564223999992"
   ]
  },
  {
   "cell_type": "markdown",
   "id": "7a77607d-4713-4ccc-a87d-7bb9e8fc4960",
   "metadata": {},
   "source": [
    "### **Volume:**\n",
    "**Return the specified unit in cubic meters (e.g. liter returns 0.001)**"
   ]
  },
  {
   "cell_type": "code",
   "execution_count": 16,
   "id": "9debcf95-e0b7-4985-aeab-43880520b781",
   "metadata": {},
   "outputs": [
    {
     "name": "stdout",
     "output_type": "stream",
     "text": [
      "0.001\n",
      "0.001\n",
      "0.0037854117839999997\n",
      "0.0037854117839999997\n",
      "0.00454609\n",
      "2.9573529562499998e-05\n",
      "2.9573529562499998e-05\n",
      "2.84130625e-05\n",
      "0.15898729492799998\n",
      "0.15898729492799998\n"
     ]
    }
   ],
   "source": [
    "from scipy import constants\n",
    "\n",
    "print(constants.liter)            #0.001\n",
    "print(constants.litre)            #0.001\n",
    "print(constants.gallon)           #0.0037854117839999997\n",
    "print(constants.gallon_US)        #0.0037854117839999997\n",
    "print(constants.gallon_imp)       #0.00454609\n",
    "print(constants.fluid_ounce)      #2.9573529562499998e-05\n",
    "print(constants.fluid_ounce_US)   #2.9573529562499998e-05\n",
    "print(constants.fluid_ounce_imp)  #2.84130625e-05\n",
    "print(constants.barrel)           #0.15898729492799998\n",
    "print(constants.bbl)              #0.15898729492799998"
   ]
  },
  {
   "cell_type": "markdown",
   "id": "96d98401-c6f0-4402-a7f7-4e53226d9167",
   "metadata": {},
   "source": [
    "### **Speed:**\n",
    "**Return the specified unit in meters per second (e.g. speed_of_sound returns 340.5)**"
   ]
  },
  {
   "cell_type": "code",
   "execution_count": 17,
   "id": "84f77133-528b-4c04-8fd5-dc0d5573e0a7",
   "metadata": {},
   "outputs": [
    {
     "name": "stdout",
     "output_type": "stream",
     "text": [
      "0.2777777777777778\n",
      "0.44703999999999994\n",
      "340.5\n",
      "340.5\n",
      "0.5144444444444445\n"
     ]
    }
   ],
   "source": [
    "from scipy import constants\n",
    "\n",
    "print(constants.kmh)            #0.2777777777777778\n",
    "print(constants.mph)            #0.44703999999999994\n",
    "print(constants.mach)           #340.5\n",
    "print(constants.speed_of_sound) #340.5\n",
    "print(constants.knot)           #0.5144444444444445"
   ]
  },
  {
   "cell_type": "markdown",
   "id": "a925d14f-6ed1-4b6e-aea3-1d6e18a7b59b",
   "metadata": {},
   "source": [
    "### **Temperature:**\n",
    "**Return the specified unit in Kelvin (e.g. zero_Celsius returns 273.15)**"
   ]
  },
  {
   "cell_type": "code",
   "execution_count": 18,
   "id": "2bffa5ae-2dc5-4e8f-901c-0f5992657f61",
   "metadata": {},
   "outputs": [
    {
     "name": "stdout",
     "output_type": "stream",
     "text": [
      "273.15\n",
      "0.5555555555555556\n"
     ]
    }
   ],
   "source": [
    "from scipy import constants\n",
    "\n",
    "print(constants.zero_Celsius)      #273.15\n",
    "print(constants.degree_Fahrenheit) #0.5555555555555556"
   ]
  },
  {
   "cell_type": "markdown",
   "id": "74b79128-3d4a-4b9b-96de-fc2a792ed17b",
   "metadata": {},
   "source": [
    "### **Energy:**\n",
    "**Return the specified unit in joules (e.g. calorie returns 4.184)**"
   ]
  },
  {
   "cell_type": "code",
   "execution_count": 19,
   "id": "0070855e-0f70-43bd-88e9-6093ead4100d",
   "metadata": {},
   "outputs": [
    {
     "name": "stdout",
     "output_type": "stream",
     "text": [
      "1.602176634e-19\n",
      "1.602176634e-19\n",
      "4.184\n",
      "4.184\n",
      "4.1868\n",
      "1e-07\n",
      "1055.05585262\n",
      "1055.05585262\n",
      "1054.3502644888888\n",
      "4184000000.0\n"
     ]
    }
   ],
   "source": [
    "from scipy import constants\n",
    "\n",
    "print(constants.eV)            #1.6021766208e-19\n",
    "print(constants.electron_volt) #1.6021766208e-19\n",
    "print(constants.calorie)       #4.184\n",
    "print(constants.calorie_th)    #4.184\n",
    "print(constants.calorie_IT)    #4.1868\n",
    "print(constants.erg)           #1e-07\n",
    "print(constants.Btu)           #1055.05585262\n",
    "print(constants.Btu_IT)        #1055.05585262\n",
    "print(constants.Btu_th)        #1054.3502644888888\n",
    "print(constants.ton_TNT)       #4184000000.0"
   ]
  },
  {
   "cell_type": "markdown",
   "id": "a766b6e7-1122-43f6-9f57-e0db8e99cefe",
   "metadata": {},
   "source": [
    "### **Power**:\n",
    "**Return the specified unit in watts (e.g. horsepower returns 745.6998715822701)**"
   ]
  },
  {
   "cell_type": "code",
   "execution_count": 20,
   "id": "1e76c1ab-bf04-4b0b-a142-9ada01d73169",
   "metadata": {},
   "outputs": [
    {
     "name": "stdout",
     "output_type": "stream",
     "text": [
      "745.6998715822701\n",
      "745.6998715822701\n"
     ]
    }
   ],
   "source": [
    "from scipy import constants\n",
    "\n",
    "print(constants.hp)         #745.6998715822701\n",
    "print(constants.horsepower) #745.6998715822701"
   ]
  },
  {
   "cell_type": "markdown",
   "id": "13ef465c-afbc-41b9-ae82-b6f27962d89f",
   "metadata": {},
   "source": [
    "### **Force:**\n",
    "**Return the specified unit in newton (e.g. kilogram_force returns 9.80665)**"
   ]
  },
  {
   "cell_type": "code",
   "execution_count": null,
   "id": "6d109967-d198-4941-9dc9-ff5ea11d08d8",
   "metadata": {},
   "outputs": [],
   "source": []
  }
 ],
 "metadata": {
  "kernelspec": {
   "display_name": "Python 3 (ipykernel)",
   "language": "python",
   "name": "python3"
  },
  "language_info": {
   "codemirror_mode": {
    "name": "ipython",
    "version": 3
   },
   "file_extension": ".py",
   "mimetype": "text/x-python",
   "name": "python",
   "nbconvert_exporter": "python",
   "pygments_lexer": "ipython3",
   "version": "3.11.7"
  }
 },
 "nbformat": 4,
 "nbformat_minor": 5
}
