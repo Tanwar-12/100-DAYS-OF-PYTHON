{
 "cells": [
  {
   "cell_type": "markdown",
   "id": "d40a9e66",
   "metadata": {},
   "source": [
    "# <div style=\"padding:20px;color:white;margin:0;font-size:35px;font-family:Georgia;text-align:left;display:fill;border-radius:5px;background-color:#254E58;overflow:hidden\"><b> Day 24- Numpy Array ReShape </b>"
   ]
  },
  {
   "cell_type": "markdown",
   "id": "d0ee60a8",
   "metadata": {},
   "source": [
    "### Reshaping arrays\n",
    "* Reshaping means changing the shape of an array.\n",
    "\n",
    "* The shape of an array is the number of elements in each dimension.\n",
    "\n",
    "* By reshaping we can add or remove dimensions or change number of elements in each dimension."
   ]
  },
  {
   "cell_type": "markdown",
   "id": "ca1fcc6a",
   "metadata": {},
   "source": [
    "### Reshape From 1-D to 2-D"
   ]
  },
  {
   "cell_type": "markdown",
   "id": "57e936e4",
   "metadata": {},
   "source": [
    "### Example\n",
    "**Convert the following 1-D array with 12 elements into a 2-D array.**\n",
    "\n",
    "**The outermost dimension will have 4 arrays, each with 3 elements:**"
   ]
  },
  {
   "cell_type": "code",
   "execution_count": 1,
   "id": "4eb57d49",
   "metadata": {},
   "outputs": [
    {
     "name": "stdout",
     "output_type": "stream",
     "text": [
      "[[ 1  2  3]\n",
      " [ 4  5  6]\n",
      " [ 7  8  9]\n",
      " [10 11 12]]\n"
     ]
    }
   ],
   "source": [
    "import numpy as np\n",
    "\n",
    "arr = np.array([1, 2, 3, 4, 5, 6, 7, 8, 9, 10, 11, 12])\n",
    "\n",
    "newarr = arr.reshape(4, 3)\n",
    "\n",
    "print(newarr)"
   ]
  },
  {
   "cell_type": "markdown",
   "id": "60706ef2",
   "metadata": {},
   "source": [
    "## Reshape From 1-D to 3-D"
   ]
  },
  {
   "cell_type": "markdown",
   "id": "65077e33",
   "metadata": {},
   "source": [
    "### Example\n",
    "**Convert the following 1-D array with 12 elements into a 3-D array.**\n",
    "\n",
    "**The outermost dimension will have 2 arrays that contains 3 arrays, each with 2 elements:**"
   ]
  },
  {
   "cell_type": "code",
   "execution_count": 2,
   "id": "cd3f515f",
   "metadata": {},
   "outputs": [
    {
     "name": "stdout",
     "output_type": "stream",
     "text": [
      "[[[ 1  2]\n",
      "  [ 3  4]\n",
      "  [ 5  6]]\n",
      "\n",
      " [[ 7  8]\n",
      "  [ 9 10]\n",
      "  [11 12]]]\n"
     ]
    }
   ],
   "source": [
    "import numpy as np\n",
    "\n",
    "arr = np.array([1, 2, 3, 4, 5, 6, 7, 8, 9, 10, 11, 12])\n",
    "\n",
    "newarr = arr.reshape(2, 3, 2)\n",
    "\n",
    "print(newarr)"
   ]
  },
  {
   "cell_type": "markdown",
   "id": "46bc09e0",
   "metadata": {},
   "source": [
    "### Can We Reshape Into any Shape?\n",
    "**Yes, as long as the elements required for reshaping are equal in both shapes.**\n",
    "\n",
    "**We can reshape an 8 elements 1D array into 4 elements in 2 rows 2D array but we cannot reshape it into a 3 elements 3 rows 2D array as that would require 3x3 = 9 elements.**"
   ]
  },
  {
   "cell_type": "markdown",
   "id": "7ffcd2b0",
   "metadata": {},
   "source": [
    "## Returns Copy or View?"
   ]
  },
  {
   "cell_type": "markdown",
   "id": "aefe5b6a",
   "metadata": {},
   "source": [
    "### Example\n",
    "**Check if the returned array is a copy or a view:**"
   ]
  },
  {
   "cell_type": "code",
   "execution_count": 3,
   "id": "923d6621",
   "metadata": {},
   "outputs": [
    {
     "name": "stdout",
     "output_type": "stream",
     "text": [
      "[1 2 3 4 5 6 7 8]\n"
     ]
    }
   ],
   "source": [
    "import numpy as np\n",
    "\n",
    "arr = np.array([1, 2, 3, 4, 5, 6, 7, 8])\n",
    "\n",
    "print(arr.reshape(2, 4).base)"
   ]
  },
  {
   "cell_type": "markdown",
   "id": "62c4deed",
   "metadata": {},
   "source": [
    "### Unknown Dimension\n",
    "**You are allowed to have one \"unknown\" dimension.**\n",
    "\n",
    "**Meaning that you do not have to specify an exact number for one of the dimensions in the reshape method.**\n",
    "\n",
    "**Pass -1 as the value, and NumPy will calculate this number for you.**"
   ]
  },
  {
   "cell_type": "markdown",
   "id": "d41bdd98",
   "metadata": {},
   "source": [
    "### Example\n",
    "**Convert 1D array with 8 elements to 3D array with 2x2 elements:**"
   ]
  },
  {
   "cell_type": "code",
   "execution_count": 4,
   "id": "a7857347",
   "metadata": {},
   "outputs": [
    {
     "name": "stdout",
     "output_type": "stream",
     "text": [
      "[[[1 2]\n",
      "  [3 4]]\n",
      "\n",
      " [[5 6]\n",
      "  [7 8]]]\n"
     ]
    }
   ],
   "source": [
    "import numpy as np\n",
    "\n",
    "arr = np.array([1, 2, 3, 4, 5, 6, 7, 8])\n",
    "\n",
    "newarr = arr.reshape(2, 2, -1)\n",
    "\n",
    "print(newarr)"
   ]
  },
  {
   "cell_type": "markdown",
   "id": "7b2ad6c9",
   "metadata": {},
   "source": [
    "### Flattening the arrays\n",
    "**Flattening array means converting a multidimensional array into a 1D array.**\n",
    "\n",
    "**We can use reshape(-1) to do this.**"
   ]
  },
  {
   "cell_type": "markdown",
   "id": "79d10150",
   "metadata": {},
   "source": [
    "### Example\n",
    "**Convert the array into a 1D array:**"
   ]
  },
  {
   "cell_type": "code",
   "execution_count": 5,
   "id": "958b338e",
   "metadata": {},
   "outputs": [
    {
     "name": "stdout",
     "output_type": "stream",
     "text": [
      "[1 2 3 4 5 6]\n"
     ]
    }
   ],
   "source": [
    "import numpy as np\n",
    "\n",
    "arr = np.array([[1, 2, 3], [4, 5, 6]])\n",
    "\n",
    "newarr = arr.reshape(-1)\n",
    "\n",
    "print(newarr)"
   ]
  }
 ],
 "metadata": {
  "kernelspec": {
   "display_name": "Python 3 (ipykernel)",
   "language": "python",
   "name": "python3"
  },
  "language_info": {
   "codemirror_mode": {
    "name": "ipython",
    "version": 3
   },
   "file_extension": ".py",
   "mimetype": "text/x-python",
   "name": "python",
   "nbconvert_exporter": "python",
   "pygments_lexer": "ipython3",
   "version": "3.10.13"
  }
 },
 "nbformat": 4,
 "nbformat_minor": 5
}
