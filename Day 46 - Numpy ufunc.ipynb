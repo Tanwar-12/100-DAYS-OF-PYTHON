{
 "cells": [
  {
   "cell_type": "markdown",
   "id": "c23cb89a-12c1-4cae-b52f-67319f7b98d1",
   "metadata": {},
   "source": [
    "# <div style=\"padding:20px;color:white;margin:0;font-size:35px;font-family:Georgia;text-align:left;display:fill;border-radius:5px;background-color:#254E58;overflow:hidden\"><b>Day 46 - NumPy ufuncs </b></div>"
   ]
  },
  {
   "cell_type": "markdown",
   "id": "533c7144-fe68-4f37-9c10-e60adacae938",
   "metadata": {},
   "source": [
    "### What are ufuncs?\n",
    "**ufuncs stands for \"Universal Functions\" and they are NumPy functions that operate on the ndarray object.**\n",
    "\n",
    "### Why use ufuncs?\n",
    "**ufuncs are used to implement vectorization in NumPy which is way faster than iterating over elements.**\n",
    "\n",
    "**They also provide broadcasting and additional methods like reduce, accumulate etc. that are very helpful for computation.**\n",
    "\n",
    "**ufuncs also take additional arguments, like:**\r\n",
    "**\r\n",
    "whe**re boolean array or condition defining where the operations should take place.**\r\n",
    "\r\n",
    "d**type defining the return type of elem**ent**s.\r",
    "**\n",
    "\r\n",
    "out output array where the return value should be c\n",
    "\n",
    "L elements.opied."
   ]
  },
  {
   "cell_type": "markdown",
   "id": "9ca0c1f1-122b-442d-b874-dbe99780f1e4",
   "metadata": {},
   "source": [
    "### What is Vectorization?\n",
    "**Converting iterative statements into a vector based operation is called vectorization.**\n",
    "\n",
    "**It is faster as modern CPUs are optimized for such operations.**\n",
    "\n",
    "* Add the Elements of Two Lists\n",
    " \n",
    " list 1: [1, 2, 3, 4]\n",
    "\n",
    "list 2: [4, 5, 6, 7]\n",
    "\n",
    "**One way of doing it is to iterate over both of the lists and then sum each elements.**"
   ]
  },
  {
   "cell_type": "code",
   "execution_count": null,
   "id": "d5eca015-4666-456b-a7f0-a13345614148",
   "metadata": {},
   "outputs": [],
   "source": [
    "### Without ufunc, we can use Python's built-in zip() method:\n",
    "\n",
    "x = [1, 2, 3, 4]\n",
    "y = [4, 5, 6, 7]\n",
    "z = []\n",
    "\n",
    "for i, j in zip(x, y):\n",
    "  z.append(i + j)\n",
    "print(z)\n",
    "NumPy has a ufunc for this, called add(x, y) that will produce the same result.\n",
    "\n",
    "Example\n",
    "With ufunc, we can use the add() function:\n",
    "\n",
    "import numpy as np\n",
    "\n",
    "x = [1, 2, 3, 4]\n",
    "y = [4, 5, 6, 7]\n",
    "z = np.add(x, y)\n",
    "\n",
    "print(z)\n"
   ]
  },
  {
   "cell_type": "code",
   "execution_count": null,
   "id": "99944267-0890-44c8-839a-8900f9b42132",
   "metadata": {},
   "outputs": [],
   "source": []
  }
 ],
 "metadata": {
  "kernelspec": {
   "display_name": "Python 3 (ipykernel)",
   "language": "python",
   "name": "python3"
  },
  "language_info": {
   "codemirror_mode": {
    "name": "ipython",
    "version": 3
   },
   "file_extension": ".py",
   "mimetype": "text/x-python",
   "name": "python",
   "nbconvert_exporter": "python",
   "pygments_lexer": "ipython3",
   "version": "3.11.7"
  }
 },
 "nbformat": 4,
 "nbformat_minor": 5
}
