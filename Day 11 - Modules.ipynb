{
 "cells": [
  {
   "cell_type": "markdown",
   "id": "f9ef2eb3",
   "metadata": {},
   "source": [
    "# <div style=\"padding:20px;color:white;margin:0;font-size:35px;font-family:Georgia;text-align:left;display:fill;border-radius:5px;background-color:#254E58;overflow:hidden\"><b>Day-11 Modules</b>"
   ]
  },
  {
   "cell_type": "markdown",
   "id": "62c57fcc",
   "metadata": {},
   "source": [
    "## What is a Module?"
   ]
  },
  {
   "cell_type": "markdown",
   "id": "b2d1faf0",
   "metadata": {},
   "source": [
    "* Consider a module to be the same as a code library.\n",
    "\n",
    "* A file containing a set of functions you want to include in your application.\n",
    "\n"
   ]
  },
  {
   "cell_type": "markdown",
   "id": "35b98786",
   "metadata": {},
   "source": [
    "## Create a Module"
   ]
  },
  {
   "cell_type": "markdown",
   "id": "d78b1d75",
   "metadata": {},
   "source": [
    "* To create a module just save the code you want in a file with the file extension .py:"
   ]
  },
  {
   "cell_type": "markdown",
   "id": "9659f4ce",
   "metadata": {},
   "source": [
    "### Example\n",
    "**Save this code in a file named mymodule.py**"
   ]
  },
  {
   "cell_type": "code",
   "execution_count": 1,
   "id": "1976b5da",
   "metadata": {},
   "outputs": [],
   "source": [
    "def greeting(name):\n",
    "  print(\"Hello, \" + name)"
   ]
  },
  {
   "cell_type": "markdown",
   "id": "1498ed5d",
   "metadata": {},
   "source": [
    "## Use a Module"
   ]
  },
  {
   "cell_type": "markdown",
   "id": "3bb9e50e",
   "metadata": {},
   "source": [
    "* Now we can use the module we just created, by using the import statement:"
   ]
  },
  {
   "cell_type": "markdown",
   "id": "7d8b7e7d",
   "metadata": {},
   "source": [
    "### Example\n",
    "**Import the module named mymodule, and call the greeting function:**"
   ]
  },
  {
   "cell_type": "code",
   "execution_count": null,
   "id": "8835f76d",
   "metadata": {},
   "outputs": [],
   "source": [
    "import mymodule\n",
    "\n",
    "mymodule.greeting(\"Jonathan\")"
   ]
  },
  {
   "cell_type": "markdown",
   "id": "758744fe",
   "metadata": {},
   "source": [
    "## Variables in Module\n",
    "* The module can contain functions, as already described, but also variables of all types (arrays, dictionaries, objects etc):"
   ]
  },
  {
   "cell_type": "markdown",
   "id": "64c7dc97",
   "metadata": {},
   "source": [
    "### Variables in Module\n",
    "* The module can contain functions, as already described, but also variables of all types (arrays, dictionaries, objects etc):"
   ]
  },
  {
   "cell_type": "code",
   "execution_count": 8,
   "id": "11154dbe",
   "metadata": {},
   "outputs": [],
   "source": [
    "person1 = {\n",
    "  \"name\": \"John\",\n",
    "  \"age\": 36,\n",
    "  \"country\": \"Norway\"\n",
    "}"
   ]
  },
  {
   "cell_type": "markdown",
   "id": "e665c68d",
   "metadata": {},
   "source": [
    "### Example\n",
    "* Import the module named mymodule, and access the person1 dictionary:"
   ]
  },
  {
   "cell_type": "code",
   "execution_count": null,
   "id": "2e999e2c",
   "metadata": {},
   "outputs": [],
   "source": [
    "import mymodule\n",
    "\n",
    "a = mymodule.person1[\"age\"]\n",
    "print(a)"
   ]
  },
  {
   "cell_type": "markdown",
   "id": "2cfdadfc",
   "metadata": {},
   "source": [
    "### Naming a Module\n",
    "* You can name the module file whatever you like, but it must have the file extension .py\n",
    "\n",
    "### Re-naming a Module\n",
    "* You can create an alias when you import a module, by using the as keyword:"
   ]
  },
  {
   "cell_type": "markdown",
   "id": "6006910a",
   "metadata": {},
   "source": [
    "### Example\n",
    "* Create an alias for mymodule called mx:"
   ]
  },
  {
   "cell_type": "code",
   "execution_count": null,
   "id": "617fe5c7",
   "metadata": {},
   "outputs": [],
   "source": [
    "import mymodule as mx\n",
    "\n",
    "a = mx.person1[\"age\"]\n",
    "print(a)"
   ]
  },
  {
   "cell_type": "markdown",
   "id": "5bc7a327",
   "metadata": {},
   "source": [
    "###  Built-in Modules\n",
    "**There are several built-in modules in Python, which you can import whenever you like.**"
   ]
  },
  {
   "cell_type": "markdown",
   "id": "a72faf5d",
   "metadata": {},
   "source": [
    "### Example\n",
    "* Import and use the platform module:"
   ]
  },
  {
   "cell_type": "code",
   "execution_count": null,
   "id": "6e5b06d0",
   "metadata": {},
   "outputs": [],
   "source": [
    "import platform\n",
    "\n",
    "x = platform.system()\n",
    "print(x)"
   ]
  },
  {
   "cell_type": "markdown",
   "id": "1d659a0e",
   "metadata": {},
   "source": [
    "## Using the dir() Function\n",
    "**There is a built-in function to list all the function names (or variable names) in a module. The dir() function:**"
   ]
  },
  {
   "cell_type": "markdown",
   "id": "a5dfe2a4",
   "metadata": {},
   "source": [
    "### Example\n",
    "**List all the defined names belonging to the platform module:**"
   ]
  },
  {
   "cell_type": "code",
   "execution_count": null,
   "id": "7e78846e",
   "metadata": {},
   "outputs": [],
   "source": [
    "import platform\n",
    "\n",
    "x = dir(platform)\n",
    "print(x)"
   ]
  },
  {
   "cell_type": "markdown",
   "id": "95b9d920",
   "metadata": {},
   "source": [
    "## Import From Module\n",
    "**You can choose to import only parts from a module, by using the from keyword.**"
   ]
  },
  {
   "cell_type": "markdown",
   "id": "8d0a79c3",
   "metadata": {},
   "source": [
    "### Example\n",
    "**The module named mymodule has one function and one dictionary:**"
   ]
  },
  {
   "cell_type": "code",
   "execution_count": 10,
   "id": "0510dc99",
   "metadata": {},
   "outputs": [],
   "source": [
    "def greeting(name):\n",
    "  print(\"Hello, \" + name)\n",
    "\n",
    "person1 = {\n",
    "  \"name\": \"John\",\n",
    "  \"age\": 36,\n",
    "  \"country\": \"Norway\"\n",
    "}"
   ]
  },
  {
   "cell_type": "markdown",
   "id": "97e3d68e",
   "metadata": {},
   "source": [
    "### Example\n",
    "**Import only the person1 dictionary from the module:**"
   ]
  },
  {
   "cell_type": "code",
   "execution_count": null,
   "id": "209395a9",
   "metadata": {},
   "outputs": [],
   "source": [
    "from mymodule import person1\n",
    "\n",
    "print (person1[\"age\"])"
   ]
  },
  {
   "cell_type": "code",
   "execution_count": null,
   "id": "24a7131e",
   "metadata": {},
   "outputs": [],
   "source": []
  }
 ],
 "metadata": {
  "kernelspec": {
   "display_name": "Python 3 (ipykernel)",
   "language": "python",
   "name": "python3"
  },
  "language_info": {
   "codemirror_mode": {
    "name": "ipython",
    "version": 3
   },
   "file_extension": ".py",
   "mimetype": "text/x-python",
   "name": "python",
   "nbconvert_exporter": "python",
   "pygments_lexer": "ipython3",
   "version": "3.10.13"
  }
 },
 "nbformat": 4,
 "nbformat_minor": 5
}
