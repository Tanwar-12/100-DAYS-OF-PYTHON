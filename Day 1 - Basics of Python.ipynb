{
 "cells": [
  {
   "cell_type": "markdown",
   "id": "14341a6c",
   "metadata": {},
   "source": [
    "# 100 DAYS OF PYTHON "
   ]
  },
  {
   "cell_type": "markdown",
   "id": "b8e51112",
   "metadata": {},
   "source": [
    "## Introduction:\n",
    "* Python is a high-level, general-purpose, and very popular programming language. Python programming language (latest Python 3) is being used in web development, Machine Learning applications, along with all cutting-edge technology in Software Industry.\n",
    "\n",
    "* Python language is being used by almost all tech-giant companies like – Google, Amazon, Facebook, Instagram, Dropbox, Uber… etc.\n",
    "\n",
    "### The biggest strength of Python is huge collection of standard library which can be used for the following:\n",
    "\n",
    "* Machine Learning\n",
    "* GUI Applications (like Kivy, Tkinter, PyQt etc. )\n",
    "* Web frameworks like Django (used by YouTube, Instagram, Dropbox)\n",
    "* Image processing (like OpenCV, Pillow)\n",
    "* Web scraping (like Scrapy, BeautifulSoup, Selenium)\n",
    "* Test frameworks\n",
    "* Multimedia\n",
    "* Scientific computing\n",
    "* Text processing and many more.."
   ]
  },
  {
   "cell_type": "markdown",
   "id": "27f6bb94",
   "metadata": {},
   "source": [
    "# Python Output\n",
    "## Syntax:"
   ]
  },
  {
   "cell_type": "code",
   "execution_count": 1,
   "id": "d57a110a",
   "metadata": {},
   "outputs": [
    {
     "name": "stdout",
     "output_type": "stream",
     "text": [
      "Hello World\n"
     ]
    }
   ],
   "source": [
    "# Python is case sensitive\n",
    "print('Hello World')"
   ]
  },
  {
   "cell_type": "code",
   "execution_count": 3,
   "id": "8754ffd0",
   "metadata": {},
   "outputs": [
    {
     "ename": "NameError",
     "evalue": "name 'hii' is not defined",
     "output_type": "error",
     "traceback": [
      "\u001b[1;31m---------------------------------------------------------------------------\u001b[0m",
      "\u001b[1;31mNameError\u001b[0m                                 Traceback (most recent call last)",
      "Cell \u001b[1;32mIn[3], line 1\u001b[0m\n\u001b[1;32m----> 1\u001b[0m \u001b[38;5;28mprint\u001b[39m(\u001b[43mhii\u001b[49m)\n",
      "\u001b[1;31mNameError\u001b[0m: name 'hii' is not defined"
     ]
    }
   ],
   "source": [
    "print(hii) # it throws error beacuse only string is always in \" \""
   ]
  },
  {
   "cell_type": "code",
   "execution_count": 4,
   "id": "24c94382",
   "metadata": {
    "scrolled": true
   },
   "outputs": [
    {
     "name": "stdout",
     "output_type": "stream",
     "text": [
      "9\n"
     ]
    }
   ],
   "source": [
    "print(9) "
   ]
  },
  {
   "cell_type": "code",
   "execution_count": 5,
   "id": "5f6dad4b",
   "metadata": {},
   "outputs": [
    {
     "name": "stdout",
     "output_type": "stream",
     "text": [
      "True\n"
     ]
    }
   ],
   "source": [
    "print(True)"
   ]
  },
  {
   "cell_type": "code",
   "execution_count": 6,
   "id": "3eb85c33",
   "metadata": {},
   "outputs": [
    {
     "name": "stdout",
     "output_type": "stream",
     "text": [
      "Hello 1 8 5 True\n"
     ]
    }
   ],
   "source": [
    "# how print function strng in python -- it print all the values which we want to print with space\n",
    "print('Hello',1,8,5,True)"
   ]
  },
  {
   "cell_type": "code",
   "execution_count": 7,
   "id": "b49201a4",
   "metadata": {},
   "outputs": [
    {
     "name": "stdout",
     "output_type": "stream",
     "text": [
      "Hello/1/8/5/True\n"
     ]
    }
   ],
   "source": [
    "# sep\n",
    "print('Hello',1,8,5,True,sep='/') # sep is separator where in print function space is given b sep function"
   ]
  },
  {
   "cell_type": "code",
   "execution_count": 8,
   "id": "e103c562",
   "metadata": {},
   "outputs": [
    {
     "name": "stdout",
     "output_type": "stream",
     "text": [
      "hello\n",
      "world\n"
     ]
    }
   ],
   "source": [
    "print('hello')\n",
    "print('world')"
   ]
  },
  {
   "cell_type": "code",
   "execution_count": 9,
   "id": "9821e303",
   "metadata": {},
   "outputs": [
    {
     "name": "stdout",
     "output_type": "stream",
     "text": [
      "you=me\n"
     ]
    }
   ],
   "source": [
    "# end\n",
    "print('you',end=\"=\")\n",
    "print ('me')"
   ]
  },
  {
   "cell_type": "markdown",
   "id": "f5f5a11b",
   "metadata": {},
   "source": [
    "# Data Types:\n",
    "* Data types are the classification or categorization of data items. It represents the kind of value that tells what operations can be performed on a particular data. Since everything is an object in Python programming, data types are actually classes and variables are instances (object) of these classes. The following are the standard or built-in data types in Python:\n",
    "\n",
    "**1.Numeric**\n",
    "\n",
    "**2.Sequence Type**\n",
    "\n",
    "**3.Boolean**\n",
    "\n",
    "**4.Set**\n",
    "\n",
    "**5.Dictionary**\n",
    "\n",
    "**6.Binary Types( memoryview, bytearray, bytes)**\n"
   ]
  },
  {
   "cell_type": "markdown",
   "id": "78009ca8",
   "metadata": {},
   "source": [
    "## 1. Integers"
   ]
  },
  {
   "cell_type": "code",
   "execution_count": 10,
   "id": "9c6d6a1e",
   "metadata": {},
   "outputs": [
    {
     "name": "stdout",
     "output_type": "stream",
     "text": [
      "5\n"
     ]
    }
   ],
   "source": [
    "print(5)"
   ]
  },
  {
   "cell_type": "markdown",
   "id": "5af9c0e1",
   "metadata": {},
   "source": [
    "## 2. Float (Decimal)"
   ]
  },
  {
   "cell_type": "code",
   "execution_count": 11,
   "id": "45e1e84c",
   "metadata": {},
   "outputs": [
    {
     "name": "stdout",
     "output_type": "stream",
     "text": [
      "3.44\n"
     ]
    }
   ],
   "source": [
    "print(3.44)"
   ]
  },
  {
   "cell_type": "markdown",
   "id": "39f75b0e",
   "metadata": {},
   "source": [
    "## 3. Boolean"
   ]
  },
  {
   "cell_type": "code",
   "execution_count": 12,
   "id": "2bbb3a5d",
   "metadata": {},
   "outputs": [
    {
     "name": "stdout",
     "output_type": "stream",
     "text": [
      "True\n",
      "False\n"
     ]
    }
   ],
   "source": [
    "print(True)\n",
    "print(False)"
   ]
  },
  {
   "cell_type": "markdown",
   "id": "d194ac74",
   "metadata": {},
   "source": [
    "## 4. String (Text)"
   ]
  },
  {
   "cell_type": "code",
   "execution_count": 13,
   "id": "1efa036a",
   "metadata": {},
   "outputs": [
    {
     "name": "stdout",
     "output_type": "stream",
     "text": [
      "Hello muku\n"
     ]
    }
   ],
   "source": [
    "print('Hello muku')"
   ]
  },
  {
   "cell_type": "markdown",
   "id": "64ccdb9b",
   "metadata": {},
   "source": [
    "## 5. Complex"
   ]
  },
  {
   "cell_type": "code",
   "execution_count": 14,
   "id": "c433968f",
   "metadata": {},
   "outputs": [
    {
     "name": "stdout",
     "output_type": "stream",
     "text": [
      "(3+5j)\n"
     ]
    }
   ],
   "source": [
    "print(3+5j)"
   ]
  },
  {
   "cell_type": "markdown",
   "id": "f7159b46",
   "metadata": {},
   "source": [
    "## 6. List \n",
    "* Lists are one of the most powerful data structures in python. Lists are sequenced data types.  In Python, an empty list is created using list() function.\n",
    "\n",
    "\n",
    "* They are just like the arrays declared in other languages. But the most powerful thing is that list need not be always homogeneous.\n",
    "\n",
    "\n",
    "* A single list can contain strings, integers, as well as other objects. Lists can also be used for implementing stacks and queues. Lists are mutable, i.e., they can be altered once declared. The elements of list can be accessed using indexing and slicing operations.\n",
    "\n",
    "\n",
    "* You can create a list in Python by enclosing a comma-separated sequence of values within square brackets [ ]. For example:"
   ]
  },
  {
   "cell_type": "code",
   "execution_count": 15,
   "id": "593dbe2f",
   "metadata": {},
   "outputs": [
    {
     "name": "stdout",
     "output_type": "stream",
     "text": [
      "[1, 2, 3, 4]\n"
     ]
    }
   ],
   "source": [
    "print([1,2,3,4])"
   ]
  },
  {
   "cell_type": "code",
   "execution_count": 16,
   "id": "cbbd4dc6",
   "metadata": {},
   "outputs": [
    {
     "name": "stdout",
     "output_type": "stream",
     "text": [
      "[1, 'a', 'string', 3]\n",
      "[1, 'a', 'string', 3, 6]\n",
      "[1, 'a', 'string', 3]\n",
      "a\n"
     ]
    }
   ],
   "source": [
    "# Declaring a list\n",
    "L = [1, \"a\" , \"string\" , 1+2]\n",
    "print (L)\n",
    "#Adding an element in the list\n",
    "L.append(6) \n",
    "print(L)\n",
    "#Deleting last element from a list\n",
    "L.pop()\n",
    "print(L)\n",
    "#Displaying Second element of the list\n",
    "print(L[1])\n"
   ]
  },
  {
   "cell_type": "markdown",
   "id": "b03cedb4",
   "metadata": {},
   "source": [
    "## 7. Tuple\n",
    "* A tuple is a sequence of immutable Python objects. Tuples are just like lists with the exception that tuples cannot be changed once declared. Tuples are usually faster than lists.\n",
    "* Syntax: Tuples are created by enclosing a comma-separated sequence of values within parentheses (). Lists are created with square brackets []. For example:\n",
    "\n",
    "* Performance: Due to their immutability, tuples can be more efficient in terms of memory and performance for certain use cases compared to lists.\n",
    "\n"
   ]
  },
  {
   "cell_type": "code",
   "execution_count": 17,
   "id": "b8f9c916",
   "metadata": {},
   "outputs": [
    {
     "name": "stdout",
     "output_type": "stream",
     "text": [
      "(1, 2, 3, 4)\n"
     ]
    }
   ],
   "source": [
    "print((1,2,3,4))"
   ]
  },
  {
   "cell_type": "code",
   "execution_count": 18,
   "id": "390e50c2",
   "metadata": {},
   "outputs": [
    {
     "name": "stdout",
     "output_type": "stream",
     "text": [
      "(1, 'a', 'string', 3)\n",
      "a\n"
     ]
    }
   ],
   "source": [
    "tup = (1, \"a\", \"string\", 1+2)\n",
    "print(tup)\n",
    "print(tup[1])\n"
   ]
  },
  {
   "cell_type": "markdown",
   "id": "dff07220",
   "metadata": {},
   "source": [
    "## 8. sets\n",
    "* A Set in Python programming is an unordered collection data type that is iterable, mutable and has no duplicate elements. \n",
    "\n",
    "* Set are represented by { } (values enclosed in curly braces)"
   ]
  },
  {
   "cell_type": "code",
   "execution_count": 19,
   "id": "5be1587f",
   "metadata": {},
   "outputs": [
    {
     "name": "stdout",
     "output_type": "stream",
     "text": [
      "{1, 2, 3, 4, 5}\n"
     ]
    }
   ],
   "source": [
    "print({1,2,3,4,5})"
   ]
  },
  {
   "cell_type": "markdown",
   "id": "712527c4",
   "metadata": {},
   "source": [
    "## 9. Dictionary\n",
    "* Dictionary in Python is a collection of keys values, used to store data values like a map, which, unlike other data types which hold only a single value as an element.\n",
    "\n",
    "* Example of Dictionary in Python \n",
    "Dictionary holds key:value pair. Key-Value is provided in the dictionary to make it more optimized. "
   ]
  },
  {
   "cell_type": "code",
   "execution_count": 20,
   "id": "fc705db8",
   "metadata": {},
   "outputs": [
    {
     "name": "stdout",
     "output_type": "stream",
     "text": [
      "{'name': 'Sakshi ', 'gender': 'Female', 'weight': 45}\n"
     ]
    }
   ],
   "source": [
    "print({'name':'Sakshi ','gender':'Female','weight':45})"
   ]
  },
  {
   "cell_type": "markdown",
   "id": "3d20fda1",
   "metadata": {},
   "source": [
    "## How to know which type of Datatype is?"
   ]
  },
  {
   "cell_type": "code",
   "execution_count": 21,
   "id": "db8c175b",
   "metadata": {},
   "outputs": [
    {
     "data": {
      "text/plain": [
       "list"
      ]
     },
     "execution_count": 21,
     "metadata": {},
     "output_type": "execute_result"
    }
   ],
   "source": [
    "type([1,2,3,4])"
   ]
  },
  {
   "cell_type": "code",
   "execution_count": 22,
   "id": "610a24df",
   "metadata": {},
   "outputs": [
    {
     "data": {
      "text/plain": [
       "dict"
      ]
     },
     "execution_count": 22,
     "metadata": {},
     "output_type": "execute_result"
    }
   ],
   "source": [
    "type({'age':20})"
   ]
  },
  {
   "cell_type": "markdown",
   "id": "18897d51",
   "metadata": {},
   "source": [
    "# 3. Variables "
   ]
  },
  {
   "cell_type": "markdown",
   "id": "3a1d4f68",
   "metadata": {},
   "source": [
    "In Python, variables are used to store data values. These values can be numbers, strings, lists, dictionaries, or any other data type. Variables are essential for manipulating and working with data in your programs. Here's how you declare and use variables in Python:\n",
    "\n",
    "1. Variable Declaration: You declare a variable by assigning a value to it using the assignment operator '='.\n",
    "\n"
   ]
  },
  {
   "cell_type": "code",
   "execution_count": 23,
   "id": "74eb02b9",
   "metadata": {},
   "outputs": [],
   "source": [
    "x = 5  # Assigning the integer value 5 to the variable 'x'\n",
    "name = \"Sakshi\"  # Assigning a string value to the variable 'name'"
   ]
  },
  {
   "cell_type": "markdown",
   "id": "403cb2e1",
   "metadata": {},
   "source": [
    "2. Variable Names: Variable names (also known as identifiers) must adhere to the following rules:\n",
    "\n",
    "* They can contain letters (a-z, A-Z), digits (0-9), and underscores (_).\n",
    "* They cannot start with a digit.\n",
    "* Variable names are case-sensitive, so myVar and myvar are treated as different variables.\n",
    "* Python has reserved keywords (e.g., if, for, while, print) that cannot be used as variable names.\n",
    "\n",
    "3. Data Types: Python is dynamically typed, which means you don't need to declare the data type of a variable explicitly. Python will determine the data type automatically based on the assigned value."
   ]
  },
  {
   "cell_type": "code",
   "execution_count": 24,
   "id": "68f0185d",
   "metadata": {},
   "outputs": [],
   "source": [
    "x = 4  # 'x' is an integer variable\n",
    "name = \"Sakshi\"  # 'name' is a string variable"
   ]
  },
  {
   "cell_type": "markdown",
   "id": "4aef1b8d",
   "metadata": {},
   "source": [
    "4. Reassignment: You can change the value of a variable by assigning it a new value."
   ]
  },
  {
   "cell_type": "code",
   "execution_count": 25,
   "id": "32757978",
   "metadata": {},
   "outputs": [],
   "source": [
    "x = 4\n",
    "x = x + 1  # Updating the value of 'x' to 6"
   ]
  },
  {
   "cell_type": "code",
   "execution_count": 26,
   "id": "720ed816",
   "metadata": {},
   "outputs": [
    {
     "name": "stdout",
     "output_type": "stream",
     "text": [
      "5\n"
     ]
    }
   ],
   "source": [
    "print(x)"
   ]
  },
  {
   "cell_type": "markdown",
   "id": "f40f6027",
   "metadata": {},
   "source": [
    "Multiple Assignment: Python allows you to assign multiple variables in a single line."
   ]
  },
  {
   "cell_type": "code",
   "execution_count": 27,
   "id": "7154bf24",
   "metadata": {},
   "outputs": [],
   "source": [
    "a, b, c = 1, 2, 3  # Assigning values 1, 2, and 3 to variables a, b, and c, respectively"
   ]
  },
  {
   "cell_type": "code",
   "execution_count": 28,
   "id": "50fc8d06",
   "metadata": {},
   "outputs": [
    {
     "name": "stdout",
     "output_type": "stream",
     "text": [
      "1\n"
     ]
    }
   ],
   "source": [
    "print(a)"
   ]
  },
  {
   "cell_type": "code",
   "execution_count": 29,
   "id": "767ce0e5",
   "metadata": {},
   "outputs": [
    {
     "name": "stdout",
     "output_type": "stream",
     "text": [
      "1 2 3\n"
     ]
    }
   ],
   "source": [
    "a = 1\n",
    "b = 2\n",
    "c = 3\n",
    "print(a,b,c)"
   ]
  },
  {
   "cell_type": "code",
   "execution_count": 30,
   "id": "c5a6fed9",
   "metadata": {},
   "outputs": [
    {
     "name": "stdout",
     "output_type": "stream",
     "text": [
      "5 5 5\n"
     ]
    }
   ],
   "source": [
    "a=b=c= 5\n",
    "print(a,b,c)"
   ]
  },
  {
   "cell_type": "markdown",
   "id": "8579f400",
   "metadata": {},
   "source": [
    "## What is comments in Python?"
   ]
  },
  {
   "cell_type": "markdown",
   "id": "a2ec0ddf",
   "metadata": {},
   "source": [
    "In Python, comments are used to annotate and provide explanations within your code. Comments are not executed by the Python interpreter; instead, they are meant for human readers to understand the code better. Comments are ignored by the interpreter during program execution.\n",
    "\n",
    "Python supports two types of comments:\n",
    "\n",
    "1. **Single-line Comments**: Single-line comments start with the hash symbol (`#`) and continue until the end of the line. They are used to add comments on a single line.\n",
    "\n",
    "   ```python\n",
    "   # This is a single-line comment\n",
    "   x = 5  # Assigning a value to 'x'\n",
    "   ```\n",
    "\n",
    "   Everything after the `#` symbol on that line is considered a comment."
   ]
  },
  {
   "cell_type": "code",
   "execution_count": 31,
   "id": "819bc055",
   "metadata": {},
   "outputs": [],
   "source": [
    "# This is a single-line comment\n",
    "x = 5  # Assigning a value to 'x'"
   ]
  },
  {
   "cell_type": "markdown",
   "id": "1bfe5c29",
   "metadata": {},
   "source": [
    "2. **Multi-line or Block Comments**: Python does not have a specific syntax for multi-line comments like some other languages (e.g., C, Java). However, you can create multi-line comments by using triple-quotes (`'''` or `\"\"\"`) as a string delimiter. These strings are not assigned to any variable and are ignored by the interpreter. This is a common practice for writing docstrings (documentation within functions and modules).\n",
    "\n",
    "\n",
    "  "
   ]
  },
  {
   "cell_type": "code",
   "execution_count": 32,
   "id": "ca7c7ad5",
   "metadata": {},
   "outputs": [],
   "source": [
    "'''\n",
    "This is a multi-line comment.\n",
    "It can span multiple lines.\n",
    "'''\n",
    "def my_function():\n",
    "    \"\"\"\n",
    "    This is a docstring.\n",
    "    It provides documentation for the function.\n",
    "    \"\"\"\n",
    "    pass"
   ]
  },
  {
   "cell_type": "markdown",
   "id": "4af8a9b7",
   "metadata": {},
   "source": [
    "While these triple-quoted strings are not technically comments, they are often used as a way to document code effectively.\n",
    "\n",
    "Comments are crucial for making your code more understandable, both for yourself and for others who may read your code. They help explain the purpose of variables, functions, and complex algorithms, making it easier to maintain and debug code. Good commenting practices can significantly improve code readability and maintainability."
   ]
  },
  {
   "cell_type": "markdown",
   "id": "46b95ceb",
   "metadata": {},
   "source": [
    "# 4. User Input\n",
    "How to get Input from the user in python?"
   ]
  },
  {
   "cell_type": "code",
   "execution_count": null,
   "id": "3397d77a",
   "metadata": {},
   "outputs": [],
   "source": [
    "input('Enter Email')"
   ]
  },
  {
   "cell_type": "code",
   "execution_count": null,
   "id": "944b288b",
   "metadata": {},
   "outputs": [],
   "source": [
    "# take input from users and store them in a variable\n",
    "fnum = int(input('enter first number'))\n",
    "snum = int(input('enter second number'))\n",
    "#print(type(fnum),type(snum))\n",
    "# add the 2 variables\n",
    "result = fnum + snum\n",
    "# print the result\n",
    "print(result)\n",
    "print(type(fnum))"
   ]
  },
  {
   "cell_type": "markdown",
   "id": "b5ddfbb7",
   "metadata": {},
   "source": [
    "# 5. Type Conversion\n",
    "How to covert One Datatypeinto another In python?\n"
   ]
  },
  {
   "cell_type": "markdown",
   "id": "7e5b2d82",
   "metadata": {},
   "source": [
    "* int(): Converts a value to an integer data type. This is useful when you want to convert a string or a floating-point number to an integer."
   ]
  },
  {
   "cell_type": "code",
   "execution_count": null,
   "id": "5e26344a",
   "metadata": {},
   "outputs": [],
   "source": [
    "str_number = \"123\"\n",
    "int_number = int(str_number)  # Converts the string \"123\" to an integer\n",
    "int_number"
   ]
  },
  {
   "cell_type": "markdown",
   "id": "385d4327",
   "metadata": {},
   "source": [
    "* float(): Converts a value to a floating-point data type. It is used to convert integers or strings containing numeric values to floating-point numbers."
   ]
  },
  {
   "cell_type": "code",
   "execution_count": null,
   "id": "595fc69d",
   "metadata": {},
   "outputs": [],
   "source": [
    "int_value = 42\n",
    "float_value = float(int_value)  # Converts the integer 42 to a float\n",
    "float_value"
   ]
  },
  {
   "cell_type": "code",
   "execution_count": null,
   "id": "cfabb5de",
   "metadata": {},
   "outputs": [],
   "source": [
    "a = 23\n",
    "b = \"24\"\n",
    "\n",
    "print(a+b)"
   ]
  },
  {
   "cell_type": "markdown",
   "id": "436bd1f5",
   "metadata": {},
   "source": [
    "It Gives error beacause We do not add float into integer datatyupe so we have to convert above opeartion"
   ]
  },
  {
   "cell_type": "code",
   "execution_count": null,
   "id": "12f94596",
   "metadata": {},
   "outputs": [],
   "source": [
    "a = 23\n",
    "b = \"24\"\n",
    "\n",
    "print(float(a)+float(b))"
   ]
  },
  {
   "cell_type": "markdown",
   "id": "ecd9374c",
   "metadata": {},
   "source": [
    "# 6. Literals\n",
    "In Python, literals are used to represent fixed values in your code. These values are not variables or expressions but rather constants that have a specific value and data type associated with them. Python supports various types of literals,"
   ]
  },
  {
   "cell_type": "code",
   "execution_count": null,
   "id": "6abcd649",
   "metadata": {},
   "outputs": [],
   "source": [
    "a = 0b1010 #Binary Literals\n",
    "b = 100 #Decimal Literal \n",
    "c = 0o310 #Octal Literal\n",
    "d = 0x12c #Hexadecimal Literal\n",
    "\n",
    "#Float Literal\n",
    "float_1 = 10.5 \n",
    "float_2 = 1.5e2 # 1.5 * 10^2\n",
    "float_3 = 1.5e-3 # 1.5 * 10^-3\n",
    "\n",
    "#Complex Literal \n",
    "x = 3.14j\n",
    "\n",
    "print(a, b, c, d)\n",
    "print(float_1, float_2,float_3)\n",
    "print(x, x.imag, x.real)"
   ]
  },
  {
   "cell_type": "code",
   "execution_count": null,
   "id": "eafc25a1",
   "metadata": {},
   "outputs": [],
   "source": [
    "# binary\n",
    "x = 3.14j\n",
    "print(x.imag)"
   ]
  },
  {
   "cell_type": "code",
   "execution_count": null,
   "id": "827ec158",
   "metadata": {},
   "outputs": [],
   "source": [
    "string = 'This is Python'\n",
    "strings = \"This is Python\"\n",
    "char = \"C\"\n",
    "multiline_str = \"\"\"This is a multiline string with more than one line code.\"\"\"\n",
    "unicode = u\"\\U0001f600\\U0001F606\\U0001F923\"\n",
    "raw_str = r\"raw \\n string\"\n",
    "\n",
    "print(string)\n",
    "print(strings)\n",
    "print(char)\n",
    "print(multiline_str)\n",
    "print(unicode)\n",
    "print(raw_str)"
   ]
  }
 ],
 "metadata": {
  "kernelspec": {
   "display_name": "Python 3 (ipykernel)",
   "language": "python",
   "name": "python3"
  },
  "language_info": {
   "codemirror_mode": {
    "name": "ipython",
    "version": 3
   },
   "file_extension": ".py",
   "mimetype": "text/x-python",
   "name": "python",
   "nbconvert_exporter": "python",
   "pygments_lexer": "ipython3",
   "version": "3.10.10"
  }
 },
 "nbformat": 4,
 "nbformat_minor": 5
}
