{
 "cells": [
  {
   "cell_type": "markdown",
   "id": "6a580869-367d-4015-b995-296625f58604",
   "metadata": {},
   "source": [
    "# <div style=\"padding:20px;color:white;margin:0;font-size:35px;font-family:Georgia;text-align:left;display:fill;border-radius:5px;background-color:#254E58;overflow:hidden\"><b>Day 51- Scipy Optimizers</b></div>"
   ]
  },
  {
   "cell_type": "markdown",
   "id": "971fd3eb-ef58-49f2-9213-3a90754f2c80",
   "metadata": {},
   "source": [
    "## **Optimizers in SciPy**\n",
    "Optimizers are a set of procedures defined in SciPy that either find the minimum value of a function, or the root of an equation.\n",
    "\n",
    "## **Optimizing Functions**\n",
    "Essentially, all of the algorithms in Machine Learning are nothing more than a complex equation that needs to be minimized with the help of given data.\n",
    "\n",
    "## **Roots of an Equation**\n",
    "NumPy is capable of finding roots for polynomials and linear equations, but it can not find roots for non linear equations, like this one:\n",
    "\n",
    "x + cos(x)\n",
    "\n",
    "For that you can use SciPy's optimize.root function.\n",
    "\n",
    "This function takes two required arguments:\n",
    "\n",
    "**fun** - a function representing an equation.\n",
    "\n",
    "**x0** - an initial guess for the root.\n",
    "\n",
    "The function returns an object with information regarding the solution.\n",
    "\n",
    "The actual solution is given under attribute x of the returned object:"
   ]
  },
  {
   "cell_type": "markdown",
   "id": "afbaaeef-a599-4597-89f1-fd76b4a13181",
   "metadata": {},
   "source": [
    "\n",
    "### **Find root of the equation x + cos(x):**"
   ]
  },
  {
   "cell_type": "code",
   "execution_count": 1,
   "id": "807e5393-4545-4e01-b996-80e5966942a8",
   "metadata": {},
   "outputs": [
    {
     "name": "stdout",
     "output_type": "stream",
     "text": [
      "[-0.73908513]\n"
     ]
    }
   ],
   "source": [
    "from scipy.optimize import root\n",
    "from math import cos\n",
    "\n",
    "def eqn(x):\n",
    "  return x + cos(x)\n",
    "\n",
    "myroot = root(eqn, 0)\n",
    "\n",
    "print(myroot.x)"
   ]
  },
  {
   "cell_type": "markdown",
   "id": "4375783a-fbc3-4dcd-98f0-ee3d8e79796a",
   "metadata": {},
   "source": [
    "### **Print all information about the solution (not just x which is the root)**"
   ]
  },
  {
   "cell_type": "code",
   "execution_count": 2,
   "id": "2aea918f-2c1b-479d-a797-c48353e77c91",
   "metadata": {},
   "outputs": [
    {
     "name": "stdout",
     "output_type": "stream",
     "text": [
      " message: The solution converged.\n",
      " success: True\n",
      "  status: 1\n",
      "     fun: [ 0.000e+00]\n",
      "       x: [-7.391e-01]\n",
      "    nfev: 9\n",
      "    fjac: [[-1.000e+00]]\n",
      "       r: [-1.674e+00]\n",
      "     qtf: [-2.668e-13]\n"
     ]
    }
   ],
   "source": [
    "print(myroot)"
   ]
  },
  {
   "cell_type": "markdown",
   "id": "bef81630-e960-44ef-ab42-1b44098e7142",
   "metadata": {},
   "source": [
    "## **Minimizing a Function**\n",
    "A function, in this context, represents a curve, curves have high points and low points.\n",
    "\n",
    "High points are called maxima.\n",
    "\n",
    "Low points are called minima.\n",
    "\n",
    "The highest point in the whole curve is called global maxima, whereas the rest of them are called local maxima.\n",
    "\n",
    "The lowest point in whole curve is called global minima, whereas the rest of them are called local minima.\n",
    "\n",
    "## **Finding Minima**\n",
    "We can use scipy.optimize.minimize() function to minimize the function.\n",
    "\n",
    "The minimize() function takes the following arguments:\n",
    "\n",
    "fun - a function representing an equation.\n",
    "\n",
    "x0 - an initial guess for the root.\n",
    "\n",
    "method - name of the method to use. Legal values:\n",
    "    'CG'\n",
    "    'BFGS'\n",
    "    'Newton-CG'\n",
    "    'L-BFGS-B'\n",
    "    'TNC'\n",
    "    'COBYLA'\n",
    "    'SLSQP'\n",
    "\n",
    "callback - function called after each iteration of optimization.\n",
    "options - a dictionary defining extra params:\n",
    "\n"
   ]
  },
  {
   "cell_type": "raw",
   "id": "bce20d12-d1b5-4d10-b5a7-6ad94dbe12c2",
   "metadata": {},
   "source": [
    "{\n",
    "     \"disp\": boolean - print detailed description\n",
    "     \"gtol\": number - the tolerance of the error\n",
    "  }"
   ]
  },
  {
   "cell_type": "code",
   "execution_count": null,
   "id": "aea744ea-acda-4ee9-b8c0-b760d92cc063",
   "metadata": {},
   "outputs": [],
   "source": []
  }
 ],
 "metadata": {
  "kernelspec": {
   "display_name": "Python 3 (ipykernel)",
   "language": "python",
   "name": "python3"
  },
  "language_info": {
   "codemirror_mode": {
    "name": "ipython",
    "version": 3
   },
   "file_extension": ".py",
   "mimetype": "text/x-python",
   "name": "python",
   "nbconvert_exporter": "python",
   "pygments_lexer": "ipython3",
   "version": "3.11.7"
  }
 },
 "nbformat": 4,
 "nbformat_minor": 5
}
