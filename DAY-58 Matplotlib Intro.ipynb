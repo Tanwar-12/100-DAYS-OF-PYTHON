{
 "cells": [
  {
   "cell_type": "markdown",
   "id": "47843f74-5ca1-4f54-997b-6ba46b777212",
   "metadata": {},
   "source": [
    "## What is Matplotlib?\n",
    "* Matplotlib is a low level graph plotting library in python that serves as a visualization utility.\n",
    "\n",
    "* Matplotlib was created by John D. Hunter.\n",
    "\n",
    "* Matplotlib is open source and we can use it freely.\n",
    "\n",
    "* Matplotlib is mostly written in python, a few segments are written in C, Objective-C and Javascript for Platform compatibility."
   ]
  },
  {
   "cell_type": "markdown",
   "id": "1593b893-82ce-4196-9665-b81705692d71",
   "metadata": {},
   "source": [
    "### **Installation of Matplotlib**"
   ]
  },
  {
   "cell_type": "markdown",
   "id": "da63ec62-7df7-4dc3-81ec-67804f3279fb",
   "metadata": {},
   "source": [
    "* If you have Python and PIP already installed on a system, then installation of Matplotlib is very easy.\n",
    "\n",
    "**Install it using this command:**\n",
    "\n",
    "C:\\Users\\Your Name>pip install matplotlib"
   ]
  },
  {
   "cell_type": "markdown",
   "id": "d24431fb-81b3-4f17-b69f-d292066dddb8",
   "metadata": {},
   "source": [
    "### **Import Matplotlib**\n",
    "* Once Matplotlib is installed, import it in your applications by adding the import module statement:\n",
    "\n",
    "import matplotlib"
   ]
  },
  {
   "cell_type": "markdown",
   "id": "4ea2e4a6-bc06-41e4-83a6-7d210b2f82b3",
   "metadata": {},
   "source": [
    "### **Checking Matplotlib Version**\n",
    "**The version string is stored under __version__ attribute.**\n",
    "\n",
    "\n",
    "\n",
    "**Note: two underscore characters are used in __version__.**"
   ]
  },
  {
   "cell_type": "code",
   "execution_count": 1,
   "id": "dc30e5b9-d6f1-489d-9d74-b6ae41eb0da3",
   "metadata": {},
   "outputs": [
    {
     "name": "stdout",
     "output_type": "stream",
     "text": [
      "3.7.4\n"
     ]
    }
   ],
   "source": [
    "import matplotlib\n",
    "\n",
    "print(matplotlib.__version__)\n"
   ]
  },
  {
   "cell_type": "code",
   "execution_count": null,
   "id": "b4573ccd-44e7-4549-9e4b-af555601ca3a",
   "metadata": {},
   "outputs": [],
   "source": []
  }
 ],
 "metadata": {
  "kernelspec": {
   "display_name": "Python 3 (ipykernel)",
   "language": "python",
   "name": "python3"
  },
  "language_info": {
   "codemirror_mode": {
    "name": "ipython",
    "version": 3
   },
   "file_extension": ".py",
   "mimetype": "text/x-python",
   "name": "python",
   "nbconvert_exporter": "python",
   "pygments_lexer": "ipython3",
   "version": "3.11.7"
  }
 },
 "nbformat": 4,
 "nbformat_minor": 5
}
