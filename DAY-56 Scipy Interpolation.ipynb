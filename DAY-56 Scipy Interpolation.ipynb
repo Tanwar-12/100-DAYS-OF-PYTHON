{
 "cells": [
  {
   "cell_type": "markdown",
   "id": "d0f8271c-c497-4b1d-bfe1-8934f175a6e4",
   "metadata": {},
   "source": [
    "# <div style=\"padding:20px;color:white;margin:0;font-size:35px;font-family:Georgia;text-align:left;display:fill;border-radius:5px;background-color:#254E58;overflow:hidden\"><b>Day 56- Scipy Interpolation</b></div>"
   ]
  },
  {
   "cell_type": "markdown",
   "id": "b7c5377a-008a-4bb1-8412-885f44126c84",
   "metadata": {},
   "source": [
    " ## **Interpolation?**\n",
    "* Interpolation is a method for generating points between given points.\n",
    "\n",
    "* Interpolation has many usage, in Machine Learning we often deal with missing data in a dataset, interpolation is often used to substitute those values.\n",
    "\n",
    "* This method of filling values is called imputation.\n",
    "\n",
    "* Apart from imputation, interpolation is often used where we need to smooth the discrete points in a dataset."
   ]
  },
  {
   "cell_type": "markdown",
   "id": "7305be51-018d-47ff-a8bf-15905a1d6bea",
   "metadata": {},
   "source": [
    "#### **How to Implement it in SciPy?**\n",
    "* SciPy provides us with a module called scipy.interpolate which has many functions to deal with interpolation:\n",
    "\n",
    "**1D Interpolation**\n",
    "* The function interp1d() is used to interpolate a distribution with 1 variable.\n",
    "\n",
    "* It takes x and y points and returns a callable function that can be called with new x and returns corresponding y."
   ]
  },
  {
   "cell_type": "markdown",
   "id": "f202f95e-18fc-47b3-9cac-aa208ae026cb",
   "metadata": {},
   "source": [
    "### **For given xs and ys interpolate values from 2.1, 2.2... to 2.9:**"
   ]
  },
  {
   "cell_type": "code",
   "execution_count": 1,
   "id": "c568aee7-0187-4346-a419-a2e052a902f6",
   "metadata": {},
   "outputs": [
    {
     "name": "stdout",
     "output_type": "stream",
     "text": [
      "[5.2 5.4 5.6 5.8 6.  6.2 6.4 6.6 6.8]\n"
     ]
    }
   ],
   "source": [
    "from scipy.interpolate import interp1d\n",
    "import numpy as np\n",
    "\n",
    "xs = np.arange(10)\n",
    "ys = 2*xs + 1\n",
    "\n",
    "interp_func = interp1d(xs, ys)\n",
    "\n",
    "newarr = interp_func(np.arange(2.1, 3, 0.1))\n",
    "\n",
    "print(newarr)"
   ]
  },
  {
   "cell_type": "markdown",
   "id": "11ab1df4-eb10-47ae-8eea-06c1375413a3",
   "metadata": {},
   "source": [
    "### **Spline Interpolation**\n",
    "* In 1D interpolation the points are fitted for a single curve whereas in Spline interpolation the points are fitted against a piecewise function defined with polynomials called splines.\n",
    "\n",
    "* The UnivariateSpline() function takes xs and ys and produce a callable funciton that can be called with new xs."
   ]
  },
  {
   "cell_type": "markdown",
   "id": "e1eb3b02-4ccf-4240-9ac7-cd767a8d70ef",
   "metadata": {},
   "source": [
    "### **Find univariate spline interpolation for 2.1, 2.2... 2.9 for the following non linear points:**"
   ]
  },
  {
   "cell_type": "code",
   "execution_count": 2,
   "id": "80b41dae-1463-4710-a8d4-36fad5fcf5fb",
   "metadata": {},
   "outputs": [
    {
     "name": "stdout",
     "output_type": "stream",
     "text": [
      "[5.62826474 6.03987348 6.47131994 6.92265019 7.3939103  7.88514634\n",
      " 8.39640439 8.92773053 9.47917082]\n"
     ]
    }
   ],
   "source": [
    "from scipy.interpolate import UnivariateSpline\n",
    "import numpy as np\n",
    "\n",
    "xs = np.arange(10)\n",
    "ys = xs**2 + np.sin(xs) + 1\n",
    "\n",
    "interp_func = UnivariateSpline(xs, ys)\n",
    "\n",
    "newarr = interp_func(np.arange(2.1, 3, 0.1))\n",
    "\n",
    "print(newarr)"
   ]
  },
  {
   "cell_type": "markdown",
   "id": "b36925a9-7156-4a16-b5db-7fbde3eddf57",
   "metadata": {},
   "source": [
    "### **Interpolation with Radial Basis Function**:\n",
    "* Radial basis function is a function that is defined corresponding to a fixed reference point.\n",
    "\n",
    "* The Rbf() function also takes xs and ys as arguments and produces a callable function that can be called with new xs."
   ]
  },
  {
   "cell_type": "code",
   "execution_count": null,
   "id": "a54a09f0-8d28-42af-a8c2-c9248d027dcf",
   "metadata": {},
   "outputs": [],
   "source": []
  }
 ],
 "metadata": {
  "kernelspec": {
   "display_name": "Python 3 (ipykernel)",
   "language": "python",
   "name": "python3"
  },
  "language_info": {
   "codemirror_mode": {
    "name": "ipython",
    "version": 3
   },
   "file_extension": ".py",
   "mimetype": "text/x-python",
   "name": "python",
   "nbconvert_exporter": "python",
   "pygments_lexer": "ipython3",
   "version": "3.11.7"
  }
 },
 "nbformat": 4,
 "nbformat_minor": 5
}
