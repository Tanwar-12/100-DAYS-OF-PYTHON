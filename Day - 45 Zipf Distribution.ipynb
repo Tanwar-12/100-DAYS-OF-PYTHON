{
 "cells": [
  {
   "cell_type": "markdown",
   "id": "a022ffee-7c3b-403f-80fd-d3bf06c28bdf",
   "metadata": {},
   "source": [
    "# <div style=\"padding:20px;color:white;margin:0;font-size:35px;font-family:Georgia;text-align:left;display:fill;border-radius:5px;background-color:#254E58;overflow:hidden\"><b>Day 45 - Zipf Distribution </b></div>"
   ]
  },
  {
   "cell_type": "markdown",
   "id": "4322e89b-df2c-4a1d-93e5-3bde29438666",
   "metadata": {},
   "source": [
    "#### Zipf distributions are used to sample data based on zipf's law.\n",
    "\n",
    "**Zipf's Law: In a collection, the nth common term is 1/n times of the most common term. E.g. the 5th most common word in English occurs nearly 1/5 times as often as the most common word.**\n",
    "\n",
    "### It has two parameters:\n",
    "\n",
    "**a** - distribution parameter.\n",
    "\n",
    "**size** - The shape of the returned array."
   ]
  },
  {
   "cell_type": "markdown",
   "id": "8cd58712-5c39-4faa-9c5a-be83ccaf3a82",
   "metadata": {},
   "source": [
    "### **Draw out a sample for zipf distribution with distribution parameter 2 with size 2x3:**\n",
    "\n",
    "from numpy import random\n",
    "\n",
    "x = random.zipf(a=2, size=(2, 3))\n",
    "\n",
    "print(x)"
   ]
  }
 ],
 "metadata": {
  "kernelspec": {
   "display_name": "Python 3 (ipykernel)",
   "language": "python",
   "name": "python3"
  },
  "language_info": {
   "codemirror_mode": {
    "name": "ipython",
    "version": 3
   },
   "file_extension": ".py",
   "mimetype": "text/x-python",
   "name": "python",
   "nbconvert_exporter": "python",
   "pygments_lexer": "ipython3",
   "version": "3.11.7"
  }
 },
 "nbformat": 4,
 "nbformat_minor": 5
}
