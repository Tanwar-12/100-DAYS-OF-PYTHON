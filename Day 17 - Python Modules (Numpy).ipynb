{
 "cells": [
  {
   "cell_type": "markdown",
   "id": "bf314f8b",
   "metadata": {},
   "source": [
    "# <div style=\"padding:20px;color:white;margin:0;font-size:35px;font-family:Georgia;text-align:left;display:fill;border-radius:5px;background-color:#254E58;overflow:hidden\"><b> Day 17- Numpy</b>"
   ]
  },
  {
   "cell_type": "markdown",
   "id": "b320b170",
   "metadata": {},
   "source": [
    "# Numpy\n",
    "* NumPy is a Python library.\n",
    "\n",
    "* NumPy is used for working with arrays.\n",
    "\n",
    "* NumPy is short for \"Numerical Python\"."
   ]
  },
  {
   "cell_type": "markdown",
   "id": "d0683440",
   "metadata": {},
   "source": [
    "# What is NumPy?\n",
    "* NumPy is a Python library used for working with arrays.\n",
    "\n",
    "* It also has functions for working in domain of linear algebra, fourier transform, and matrices.\n",
    "\n",
    "* NumPy was created in 2005 by Travis Oliphant. It is an open source project and you can use it freely.\n",
    "\n",
    "* NumPy stands for Numerical Python."
   ]
  },
  {
   "cell_type": "markdown",
   "id": "0d10e873",
   "metadata": {},
   "source": [
    "# Why Use NumPy?\n",
    "* In Python we have lists that serve the purpose of arrays, but they are slow to process.\n",
    "\n",
    "* NumPy aims to provide an array object that is up to 50x faster than traditional Python lists.\n",
    "\n",
    "* The array object in NumPy is called ndarray, it provides a lot of supporting functions that make working with ndarray very easy.\n",
    "\n",
    "* Arrays are very frequently used in data science, where speed and resources are very important."
   ]
  },
  {
   "cell_type": "markdown",
   "id": "0fa58dea",
   "metadata": {},
   "source": [
    "# Why is NumPy Faster Than Lists?\n",
    "* NumPy arrays are stored at one continuous place in memory unlike lists, so processes can access and manipulate them very efficiently.\n",
    "\n",
    "* This behavior is called locality of reference in computer science.\n",
    "\n",
    "* This is the main reason why NumPy is faster than lists. Also it is optimized to work with latest CPU architectures."
   ]
  },
  {
   "cell_type": "markdown",
   "id": "3da916e8",
   "metadata": {},
   "source": [
    "# Which Language is NumPy written in?"
   ]
  },
  {
   "cell_type": "markdown",
   "id": "9ee237ec",
   "metadata": {},
   "source": [
    "* NumPy is a Python library and is written partially in Python, but most of the parts that require fast computation are written in C or C++."
   ]
  },
  {
   "cell_type": "markdown",
   "id": "d071c66b",
   "metadata": {},
   "source": [
    "# Installation of NumPy\n",
    "* If you have Python and PIP already installed on a system, then installation of NumPy is very easy.\n",
    "\n",
    "* Install it using this command:\n"
   ]
  },
  {
   "cell_type": "raw",
   "id": "9ab488fa",
   "metadata": {},
   "source": [
    "C:\\Users\\Your Name>pip install numpy"
   ]
  },
  {
   "cell_type": "markdown",
   "id": "1ca91bf6",
   "metadata": {},
   "source": [
    "* if this command fails, then use a python distribution that already has NumPy installed like, Anaconda, Spyder etc.\n",
    "\n"
   ]
  },
  {
   "cell_type": "markdown",
   "id": "ef4cd580",
   "metadata": {},
   "source": [
    "## Import NumPy"
   ]
  },
  {
   "cell_type": "markdown",
   "id": "922b04d1",
   "metadata": {},
   "source": [
    "* Once NumPy is installed, import it in your applications by adding the import keyword:"
   ]
  },
  {
   "cell_type": "code",
   "execution_count": 1,
   "id": "19007aba",
   "metadata": {},
   "outputs": [],
   "source": [
    "import numpy"
   ]
  },
  {
   "cell_type": "markdown",
   "id": "092e488c",
   "metadata": {},
   "source": [
    "#### Now NumPy is imported and ready to use."
   ]
  },
  {
   "cell_type": "markdown",
   "id": "ba271f6b",
   "metadata": {},
   "source": [
    "## Example"
   ]
  },
  {
   "cell_type": "code",
   "execution_count": 2,
   "id": "4d3d5330",
   "metadata": {},
   "outputs": [
    {
     "name": "stdout",
     "output_type": "stream",
     "text": [
      "[1 2 3 4 5]\n"
     ]
    }
   ],
   "source": [
    "import numpy\n",
    "\n",
    "arr = numpy.array([1, 2, 3, 4, 5])\n",
    "\n",
    "print(arr)"
   ]
  },
  {
   "cell_type": "markdown",
   "id": "40171b4d",
   "metadata": {},
   "source": [
    "### NumPy as np\n",
    "* NumPy is usually imported under the np alias."
   ]
  },
  {
   "cell_type": "markdown",
   "id": "58ea4835",
   "metadata": {},
   "source": [
    "**Create an alias with the as keyword while importing:** "
   ]
  },
  {
   "cell_type": "code",
   "execution_count": 3,
   "id": "ec5d2ff2",
   "metadata": {},
   "outputs": [],
   "source": [
    "import numpy as np"
   ]
  },
  {
   "cell_type": "code",
   "execution_count": 4,
   "id": "80f842e7",
   "metadata": {},
   "outputs": [
    {
     "name": "stdout",
     "output_type": "stream",
     "text": [
      "[1 2 3 4 5]\n"
     ]
    }
   ],
   "source": [
    "import numpy as np\n",
    "\n",
    "arr = np.array([1, 2, 3, 4, 5])\n",
    "\n",
    "print(arr)"
   ]
  },
  {
   "cell_type": "markdown",
   "id": "09265a93",
   "metadata": {},
   "source": [
    "### Checking NumPy Version\n",
    "* The version string is stored under __version__ attribute."
   ]
  },
  {
   "cell_type": "markdown",
   "id": "930290d0",
   "metadata": {},
   "source": [
    "### Example"
   ]
  },
  {
   "cell_type": "code",
   "execution_count": 5,
   "id": "99fc8ace",
   "metadata": {},
   "outputs": [
    {
     "name": "stdout",
     "output_type": "stream",
     "text": [
      "1.24.2\n"
     ]
    }
   ],
   "source": [
    "import numpy as np\n",
    "\n",
    "print(np.__version__)"
   ]
  },
  {
   "cell_type": "code",
   "execution_count": null,
   "id": "e60e33ac",
   "metadata": {},
   "outputs": [],
   "source": []
  }
 ],
 "metadata": {
  "kernelspec": {
   "display_name": "Python 3 (ipykernel)",
   "language": "python",
   "name": "python3"
  },
  "language_info": {
   "codemirror_mode": {
    "name": "ipython",
    "version": 3
   },
   "file_extension": ".py",
   "mimetype": "text/x-python",
   "name": "python",
   "nbconvert_exporter": "python",
   "pygments_lexer": "ipython3",
   "version": "3.10.13"
  }
 },
 "nbformat": 4,
 "nbformat_minor": 5
}
