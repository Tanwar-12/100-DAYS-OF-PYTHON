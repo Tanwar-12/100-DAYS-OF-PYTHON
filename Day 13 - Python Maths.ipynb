{
 "cells": [
  {
   "cell_type": "markdown",
   "id": "0507cbb8",
   "metadata": {},
   "source": [
    "# <div style=\"padding:20px;color:white;margin:0;font-size:35px;font-family:Georgia;text-align:left;display:fill;border-radius:5px;background-color:#254E58;overflow:hidden\"><b> Day 13- Python Maths</b></div>"
   ]
  },
  {
   "cell_type": "markdown",
   "id": "e515d949",
   "metadata": {},
   "source": [
    "### Python has a set of built-in math functions, including an extensive math module, that allows you to perform mathematical tasks on numbers.\n",
    "\n"
   ]
  },
  {
   "cell_type": "markdown",
   "id": "0a4e4b4b",
   "metadata": {},
   "source": [
    "## Built-in Math Functions"
   ]
  },
  {
   "cell_type": "markdown",
   "id": "a3175ada",
   "metadata": {},
   "source": [
    "**The min() and max() functions can be used to find the lowest or highest value in an iterable:**"
   ]
  },
  {
   "cell_type": "markdown",
   "id": "740973fc",
   "metadata": {},
   "source": [
    "### Example"
   ]
  },
  {
   "cell_type": "code",
   "execution_count": 1,
   "id": "03d1c240",
   "metadata": {},
   "outputs": [
    {
     "name": "stdout",
     "output_type": "stream",
     "text": [
      "5\n",
      "25\n"
     ]
    }
   ],
   "source": [
    "x = min(5, 10, 25)\n",
    "y = max(5, 10, 25)\n",
    "\n",
    "print(x)\n",
    "print(y)"
   ]
  },
  {
   "cell_type": "markdown",
   "id": "0d3723d4",
   "metadata": {},
   "source": [
    "**The abs() function returns the absolute (positive) value of the specified number:**"
   ]
  },
  {
   "cell_type": "markdown",
   "id": "31fadbe5",
   "metadata": {},
   "source": [
    "### Example"
   ]
  },
  {
   "cell_type": "code",
   "execution_count": 2,
   "id": "e0e8c4b0",
   "metadata": {},
   "outputs": [
    {
     "name": "stdout",
     "output_type": "stream",
     "text": [
      "7.25\n"
     ]
    }
   ],
   "source": [
    "x = abs(-7.25)\n",
    "\n",
    "print(x)"
   ]
  },
  {
   "cell_type": "markdown",
   "id": "c8bd182d",
   "metadata": {},
   "source": [
    "**The pow(x, y) function returns the value of x to the power of y (xy).**"
   ]
  },
  {
   "cell_type": "markdown",
   "id": "fe345116",
   "metadata": {},
   "source": [
    "### Example\n",
    "**Return the value of 4 to the power of 3 (same as 4 * 4 * 4):**"
   ]
  },
  {
   "cell_type": "code",
   "execution_count": 3,
   "id": "fea08d88",
   "metadata": {},
   "outputs": [
    {
     "name": "stdout",
     "output_type": "stream",
     "text": [
      "64\n"
     ]
    }
   ],
   "source": [
    "x = pow(4, 3)\n",
    "\n",
    "print(x)"
   ]
  },
  {
   "cell_type": "markdown",
   "id": "2b212672",
   "metadata": {},
   "source": [
    "## The Math Module\n",
    "**Python has also a built-in module called math, which extends the list of mathematical functions.**\n",
    "\n",
    "**To use it, you must import the math module:**"
   ]
  },
  {
   "cell_type": "code",
   "execution_count": 4,
   "id": "f062dbdf",
   "metadata": {},
   "outputs": [],
   "source": [
    "import math"
   ]
  },
  {
   "cell_type": "markdown",
   "id": "7a08bea9",
   "metadata": {},
   "source": [
    "**When you have imported the math module, you can start using methods and constants of the module.**\n",
    "\n",
    "**The math.sqrt() method for example, returns the square root of a number:**"
   ]
  },
  {
   "cell_type": "markdown",
   "id": "9f5bc20f",
   "metadata": {},
   "source": [
    "### Example"
   ]
  },
  {
   "cell_type": "code",
   "execution_count": 5,
   "id": "488f19fc",
   "metadata": {},
   "outputs": [
    {
     "name": "stdout",
     "output_type": "stream",
     "text": [
      "8.0\n"
     ]
    }
   ],
   "source": [
    "import math\n",
    "\n",
    "x = math.sqrt(64)\n",
    "\n",
    "print(x)"
   ]
  },
  {
   "cell_type": "markdown",
   "id": "f1475b58",
   "metadata": {},
   "source": [
    "**The math.ceil() method rounds a number upwards to its nearest integer, and the math.floor() method rounds a number downwards to its nearest integer, and returns the result:**"
   ]
  },
  {
   "cell_type": "markdown",
   "id": "c6526448",
   "metadata": {},
   "source": [
    "### Example"
   ]
  },
  {
   "cell_type": "code",
   "execution_count": 6,
   "id": "f58b0fb4",
   "metadata": {},
   "outputs": [
    {
     "name": "stdout",
     "output_type": "stream",
     "text": [
      "2\n",
      "1\n"
     ]
    }
   ],
   "source": [
    "import math\n",
    "\n",
    "x = math.ceil(1.4)\n",
    "y = math.floor(1.4)\n",
    "\n",
    "print(x) # returns 2\n",
    "print(y) # returns 1"
   ]
  },
  {
   "cell_type": "markdown",
   "id": "f92d9811",
   "metadata": {},
   "source": [
    "**The math.pi constant, returns the value of PI (3.14...):**"
   ]
  },
  {
   "cell_type": "markdown",
   "id": "a17eab4a",
   "metadata": {},
   "source": [
    "### Example"
   ]
  },
  {
   "cell_type": "code",
   "execution_count": 7,
   "id": "427b267d",
   "metadata": {},
   "outputs": [
    {
     "name": "stdout",
     "output_type": "stream",
     "text": [
      "3.141592653589793\n"
     ]
    }
   ],
   "source": [
    "import math\n",
    "\n",
    "x = math.pi\n",
    "\n",
    "print(x)"
   ]
  },
  {
   "cell_type": "code",
   "execution_count": null,
   "id": "c78c8abd",
   "metadata": {},
   "outputs": [],
   "source": []
  }
 ],
 "metadata": {
  "kernelspec": {
   "display_name": "Python 3 (ipykernel)",
   "language": "python",
   "name": "python3"
  },
  "language_info": {
   "codemirror_mode": {
    "name": "ipython",
    "version": 3
   },
   "file_extension": ".py",
   "mimetype": "text/x-python",
   "name": "python",
   "nbconvert_exporter": "python",
   "pygments_lexer": "ipython3",
   "version": "3.10.13"
  }
 },
 "nbformat": 4,
 "nbformat_minor": 5
}
