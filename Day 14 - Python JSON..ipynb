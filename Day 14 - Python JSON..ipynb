{
 "cells": [
  {
   "cell_type": "markdown",
   "id": "bcee48a4",
   "metadata": {},
   "source": [
    " # <div style=\"padding:20px;color:white;margin:0;font-size:35px;font-family:Georgia;text-align:left;display:fill;border-radius:5px;background-color:#254E58;overflow:hidden\"><b> Day 14- Python JSON</b></div>"
   ]
  },
  {
   "cell_type": "markdown",
   "id": "820ed2bd",
   "metadata": {},
   "source": [
    "**SON is a syntax for storing and exchanging data.**\n",
    "\n",
    "**JSON is text, written with JavaScript object notation.**"
   ]
  },
  {
   "cell_type": "markdown",
   "id": "d16e549b",
   "metadata": {},
   "source": [
    "## JSON in Python\n",
    "**Python has a built-in package called json, which can be used to work with JSON data.**"
   ]
  },
  {
   "cell_type": "markdown",
   "id": "6c5c2e5b",
   "metadata": {},
   "source": [
    "### Example\n",
    "**Import the json module:**"
   ]
  },
  {
   "cell_type": "code",
   "execution_count": 1,
   "id": "685116f9",
   "metadata": {},
   "outputs": [],
   "source": [
    "import json"
   ]
  },
  {
   "cell_type": "markdown",
   "id": "8081c454",
   "metadata": {},
   "source": [
    "### Parse JSON - Convert from JSON to Python\n",
    "**If you have a JSON string, you can parse it by using the json.loads() method.**"
   ]
  },
  {
   "cell_type": "markdown",
   "id": "0418b3e2",
   "metadata": {},
   "source": [
    "### Example\n",
    "**Convert from JSON to Python:**"
   ]
  },
  {
   "cell_type": "code",
   "execution_count": 2,
   "id": "85485e8c",
   "metadata": {},
   "outputs": [
    {
     "name": "stdout",
     "output_type": "stream",
     "text": [
      "30\n"
     ]
    }
   ],
   "source": [
    "import json\n",
    "\n",
    "# some JSON:\n",
    "x =  '{ \"name\":\"John\", \"age\":30, \"city\":\"New York\"}'\n",
    "\n",
    "# parse x:\n",
    "y = json.loads(x)\n",
    "\n",
    "# the result is a Python dictionary:\n",
    "print(y[\"age\"])"
   ]
  },
  {
   "cell_type": "markdown",
   "id": "7cd81e5e",
   "metadata": {},
   "source": [
    "### Convert from Python to JSON"
   ]
  },
  {
   "cell_type": "markdown",
   "id": "dd1cff3e",
   "metadata": {},
   "source": [
    "**If you have a Python object, you can convert it into a JSON string by using the json.dumps() method.**"
   ]
  },
  {
   "cell_type": "markdown",
   "id": "90f1dda5",
   "metadata": {},
   "source": [
    "### Example\n",
    "**Convert from Python to JSON:**"
   ]
  },
  {
   "cell_type": "code",
   "execution_count": 4,
   "id": "fb110dba",
   "metadata": {},
   "outputs": [
    {
     "name": "stdout",
     "output_type": "stream",
     "text": [
      "{\"name\": \"Sakshi\", \"age\": 22, \"city\": \"Haryana\"}\n"
     ]
    }
   ],
   "source": [
    "import json\n",
    "\n",
    "# a Python object (dict):\n",
    "x = {\n",
    "  \"name\": \"Sakshi\",\n",
    "  \"age\": 22,\n",
    "  \"city\": \"Haryana\"\n",
    "}\n",
    "\n",
    "# convert into JSON:\n",
    "y = json.dumps(x)\n",
    "\n",
    "# the result is a JSON string:\n",
    "print(y)"
   ]
  },
  {
   "cell_type": "markdown",
   "id": "e3bcccf6",
   "metadata": {},
   "source": [
    "### You can convert Python objects of the following types, into JSON strings:"
   ]
  },
  {
   "cell_type": "markdown",
   "id": "0780f561",
   "metadata": {},
   "source": [
    "* dict\n",
    "* list\n",
    "* tuple\n",
    "* string\n",
    "* int\n",
    "* float\n",
    "* True\n",
    "* False\n",
    "* None"
   ]
  },
  {
   "cell_type": "markdown",
   "id": "372851ce",
   "metadata": {},
   "source": [
    "### Example\n",
    "**Convert Python objects into JSON strings, and print the values:**"
   ]
  },
  {
   "cell_type": "code",
   "execution_count": 5,
   "id": "cdae56de",
   "metadata": {},
   "outputs": [
    {
     "name": "stdout",
     "output_type": "stream",
     "text": [
      "{\"name\": \"John\", \"age\": 30}\n",
      "[\"apple\", \"bananas\"]\n",
      "[\"apple\", \"bananas\"]\n",
      "\"hello\"\n",
      "42\n",
      "31.76\n",
      "true\n",
      "false\n",
      "null\n"
     ]
    }
   ],
   "source": [
    "import json\n",
    "\n",
    "print(json.dumps({\"name\": \"John\", \"age\": 30}))\n",
    "print(json.dumps([\"apple\", \"bananas\"]))\n",
    "print(json.dumps((\"apple\", \"bananas\")))\n",
    "print(json.dumps(\"hello\"))\n",
    "print(json.dumps(42))\n",
    "print(json.dumps(31.76))\n",
    "print(json.dumps(True))\n",
    "print(json.dumps(False))\n",
    "print(json.dumps(None))"
   ]
  },
  {
   "cell_type": "markdown",
   "id": "474e392a",
   "metadata": {},
   "source": [
    "### Example\n",
    "**Convert a Python object containing all the legal data types:**"
   ]
  },
  {
   "cell_type": "code",
   "execution_count": 6,
   "id": "881651f9",
   "metadata": {},
   "outputs": [
    {
     "name": "stdout",
     "output_type": "stream",
     "text": [
      "{\"name\": \"Jony\", \"age\": 30, \"married\": true, \"divorced\": false, \"children\": [\"Ann\", \"Billy\"], \"pets\": null, \"cars\": [{\"model\": \"BMW 230\", \"mpg\": 27.5}, {\"model\": \"Ford Edge\", \"mpg\": 24.1}]}\n"
     ]
    }
   ],
   "source": [
    "import json\n",
    "\n",
    "x = {\n",
    "  \"name\": \"Jony\",\n",
    "  \"age\": 30,\n",
    "  \"married\": True,\n",
    "  \"divorced\": False,\n",
    "  \"children\": (\"Ann\",\"Billy\"),\n",
    "  \"pets\": None,\n",
    "  \"cars\": [\n",
    "    {\"model\": \"BMW 230\", \"mpg\": 27.5},\n",
    "    {\"model\": \"Ford Edge\", \"mpg\": 24.1}\n",
    "  ]\n",
    "}\n",
    "\n",
    "print(json.dumps(x))"
   ]
  },
  {
   "cell_type": "markdown",
   "id": "f34f122c",
   "metadata": {},
   "source": [
    "## Format the Result\n",
    "**The example above prints a JSON string, but it is not very easy to read, with no indentations and line breaks.**\n",
    "\n",
    "**The json.dumps() method has parameters to make it easier to read the result:**"
   ]
  },
  {
   "cell_type": "markdown",
   "id": "50a55f97",
   "metadata": {},
   "source": [
    "### Example\n",
    "**Use the indent parameter to define the numbers of indents:**"
   ]
  },
  {
   "cell_type": "code",
   "execution_count": 7,
   "id": "9a3ec679",
   "metadata": {},
   "outputs": [
    {
     "data": {
      "text/plain": [
       "'{\\n    \"name\": \"Jony\",\\n    \"age\": 30,\\n    \"married\": true,\\n    \"divorced\": false,\\n    \"children\": [\\n        \"Ann\",\\n        \"Billy\"\\n    ],\\n    \"pets\": null,\\n    \"cars\": [\\n        {\\n            \"model\": \"BMW 230\",\\n            \"mpg\": 27.5\\n        },\\n        {\\n            \"model\": \"Ford Edge\",\\n            \"mpg\": 24.1\\n        }\\n    ]\\n}'"
      ]
     },
     "execution_count": 7,
     "metadata": {},
     "output_type": "execute_result"
    }
   ],
   "source": [
    "json.dumps(x, indent=4)"
   ]
  },
  {
   "cell_type": "markdown",
   "id": "8294dadc",
   "metadata": {},
   "source": [
    "**You can also define the separators, default value is (\", \", \": \"), which means using a comma and a space to separate each object, and a colon and a space to separate keys from values:**"
   ]
  },
  {
   "cell_type": "markdown",
   "id": "318f6e79",
   "metadata": {},
   "source": [
    "### Example\n",
    "**Use the separators parameter to change the default separator:**"
   ]
  },
  {
   "cell_type": "code",
   "execution_count": 8,
   "id": "2b9c55a7",
   "metadata": {},
   "outputs": [
    {
     "data": {
      "text/plain": [
       "'{\\n    \"name\" = \"Jony\". \\n    \"age\" = 30. \\n    \"married\" = true. \\n    \"divorced\" = false. \\n    \"children\" = [\\n        \"Ann\". \\n        \"Billy\"\\n    ]. \\n    \"pets\" = null. \\n    \"cars\" = [\\n        {\\n            \"model\" = \"BMW 230\". \\n            \"mpg\" = 27.5\\n        }. \\n        {\\n            \"model\" = \"Ford Edge\". \\n            \"mpg\" = 24.1\\n        }\\n    ]\\n}'"
      ]
     },
     "execution_count": 8,
     "metadata": {},
     "output_type": "execute_result"
    }
   ],
   "source": [
    "json.dumps(x, indent=4, separators=(\". \", \" = \"))"
   ]
  },
  {
   "cell_type": "markdown",
   "id": "ceecc57b",
   "metadata": {},
   "source": [
    "### Order the Result\n",
    "**The json.dumps() method has parameters to order the keys in the result:**"
   ]
  },
  {
   "cell_type": "markdown",
   "id": "ab026318",
   "metadata": {},
   "source": [
    "### Example\n",
    "**Use the sort_keys parameter to specify if the result should be sorted or not:**"
   ]
  },
  {
   "cell_type": "code",
   "execution_count": 9,
   "id": "d29bb288",
   "metadata": {},
   "outputs": [
    {
     "data": {
      "text/plain": [
       "'{\\n    \"age\": 30,\\n    \"cars\": [\\n        {\\n            \"model\": \"BMW 230\",\\n            \"mpg\": 27.5\\n        },\\n        {\\n            \"model\": \"Ford Edge\",\\n            \"mpg\": 24.1\\n        }\\n    ],\\n    \"children\": [\\n        \"Ann\",\\n        \"Billy\"\\n    ],\\n    \"divorced\": false,\\n    \"married\": true,\\n    \"name\": \"Jony\",\\n    \"pets\": null\\n}'"
      ]
     },
     "execution_count": 9,
     "metadata": {},
     "output_type": "execute_result"
    }
   ],
   "source": [
    "json.dumps(x, indent=4, sort_keys=True)"
   ]
  },
  {
   "cell_type": "code",
   "execution_count": null,
   "id": "962ec8dc",
   "metadata": {},
   "outputs": [],
   "source": []
  }
 ],
 "metadata": {
  "kernelspec": {
   "display_name": "Python 3 (ipykernel)",
   "language": "python",
   "name": "python3"
  },
  "language_info": {
   "codemirror_mode": {
    "name": "ipython",
    "version": 3
   },
   "file_extension": ".py",
   "mimetype": "text/x-python",
   "name": "python",
   "nbconvert_exporter": "python",
   "pygments_lexer": "ipython3",
   "version": "3.10.13"
  }
 },
 "nbformat": 4,
 "nbformat_minor": 5
}
