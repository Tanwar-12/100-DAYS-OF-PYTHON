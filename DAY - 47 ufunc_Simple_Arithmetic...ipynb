{
 "cells": [
  {
   "cell_type": "markdown",
   "id": "0302f61b-6c79-42d9-a082-c41ebfd7e275",
   "metadata": {},
   "source": [
    "# <div style=\"padding:20px;color:white;margin:0;font-size:35px;font-family:Georgia;text-align:left;display:fill;border-radius:5px;background-color:#254E58;overflow:hidden\"><b>DAY - 47 ufunc_Simple_Arithmetic. </b></div>"
   ]
  },
  {
   "cell_type": "markdown",
   "id": "603b1ea5-93e5-4d75-b635-d68618d96b18",
   "metadata": {},
   "source": [
    "# Simple Arithmetic\n",
    "**We could use arithmetic operators + - * / directly between NumPy arrays, but this section discusses an extension of the same where we have functions that can take any array-like objects e.g. lists, tuples etc. and perform arithmetic conditionally.**\n",
    "\n",
    "**Arithmetic Conditionally: means that we can define conditions where the arithmetic operation should happen.**"
   ]
  },
  {
   "cell_type": "markdown",
   "id": "a20702e1-5926-4563-8e21-b06aecd51eec",
   "metadata": {},
   "source": [
    "## Addition\n",
    "The add() function sums the content of two arrays, and return the results in a new array.\n",
    "\n",
    "\n",
    "### Add the values in arr1 to the values in arr2:"
   ]
  },
  {
   "cell_type": "code",
   "execution_count": 1,
   "id": "22872e8b-1b43-4300-a92a-e3ff0c68ff8d",
   "metadata": {},
   "outputs": [
    {
     "name": "stdout",
     "output_type": "stream",
     "text": [
      "[30 32 34 36 38 40]\n"
     ]
    }
   ],
   "source": [
    "import numpy as np\n",
    "\n",
    "arr1 = np.array([10, 11, 12, 13, 14, 15])\n",
    "arr2 = np.array([20, 21, 22, 23, 24, 25])\n",
    "\n",
    "newarr = np.add(arr1, arr2)\n",
    "\n",
    "print(newarr)"
   ]
  },
  {
   "cell_type": "markdown",
   "id": "3475a6a8-0966-4f95-905d-1de79b2de58a",
   "metadata": {},
   "source": [
    "## Subtraction\n",
    "The subtract() function subtracts the values from one array with the values from another array, and return the results in a new array."
   ]
  },
  {
   "cell_type": "markdown",
   "id": "bca259ba-1c90-4d63-9841-7253ecc78e23",
   "metadata": {},
   "source": [
    "### Subtract the values in arr2 from the values in arr1:"
   ]
  },
  {
   "cell_type": "code",
   "execution_count": 2,
   "id": "83fea0b0-bae5-4fab-9746-a17469c69056",
   "metadata": {},
   "outputs": [
    {
     "name": "stdout",
     "output_type": "stream",
     "text": [
      "[-10  -1   8  17  26  35]\n"
     ]
    }
   ],
   "source": [
    "import numpy as np\n",
    "\n",
    "arr1 = np.array([10, 20, 30, 40, 50, 60])\n",
    "arr2 = np.array([20, 21, 22, 23, 24, 25])\n",
    "\n",
    "newarr = np.subtract(arr1, arr2)\n",
    "\n",
    "print(newarr)"
   ]
  },
  {
   "cell_type": "markdown",
   "id": "5bca5c38-fe3e-4bae-9a6c-50877946dabe",
   "metadata": {},
   "source": [
    "## Multiplication\n",
    "The multiply() function multiplies the values from one array with the values from another array, and return the results in a new array."
   ]
  },
  {
   "cell_type": "markdown",
   "id": "3410df78-e120-4bec-9b94-8ad27f2b2c9b",
   "metadata": {},
   "source": [
    "### Multiply the values in arr1 with the values in arr2:"
   ]
  },
  {
   "cell_type": "code",
   "execution_count": 3,
   "id": "dfe22858-08e9-4b5f-9d30-bb1680ba50f9",
   "metadata": {},
   "outputs": [
    {
     "name": "stdout",
     "output_type": "stream",
     "text": [
      "[ 200  420  660  920 1200 1500]\n"
     ]
    }
   ],
   "source": [
    "import numpy as np\n",
    "\n",
    "arr1 = np.array([10, 20, 30, 40, 50, 60])\n",
    "arr2 = np.array([20, 21, 22, 23, 24, 25])\n",
    "\n",
    "newarr = np.multiply(arr1, arr2)\n",
    "\n",
    "print(newarr)"
   ]
  },
  {
   "cell_type": "markdown",
   "id": "b2146ad6-5602-4593-bc11-1eab5c2b3336",
   "metadata": {},
   "source": [
    "## Division\n",
    "The divide() function divides the values from one array with the values from another array, and return the results in a new array."
   ]
  },
  {
   "cell_type": "markdown",
   "id": "fa9e647f-33f4-491b-a282-b5f066c81a09",
   "metadata": {},
   "source": [
    "### Divide the values in arr1 with the values in arr2:"
   ]
  },
  {
   "cell_type": "code",
   "execution_count": 4,
   "id": "ef5a869c-124d-4c3a-978c-af44a997345b",
   "metadata": {},
   "outputs": [
    {
     "name": "stdout",
     "output_type": "stream",
     "text": [
      "[ 3.33333333  4.          3.          5.         25.          1.81818182]\n"
     ]
    }
   ],
   "source": [
    "import numpy as np\n",
    "\n",
    "arr1 = np.array([10, 20, 30, 40, 50, 60])\n",
    "arr2 = np.array([3, 5, 10, 8, 2, 33])\n",
    "\n",
    "newarr = np.divide(arr1, arr2)\n",
    "\n",
    "print(newarr)"
   ]
  },
  {
   "cell_type": "markdown",
   "id": "630ba737-3100-405f-a00a-1453db24e3ba",
   "metadata": {},
   "source": [
    "## Power\n",
    "The power() function rises the values from the first array to the power of the values of the second array, and return the results in a new array."
   ]
  },
  {
   "cell_type": "markdown",
   "id": "755af6d9-09f0-45d6-a599-516ee2987e49",
   "metadata": {},
   "source": [
    "### Raise the valules in arr1 to the power of values in arr2:"
   ]
  },
  {
   "cell_type": "code",
   "execution_count": 5,
   "id": "15e7479e-a37f-44f5-b166-071f0156a949",
   "metadata": {},
   "outputs": [
    {
     "name": "stdout",
     "output_type": "stream",
     "text": [
      "[      1000    3200000  729000000 -520093696       2500          0]\n"
     ]
    }
   ],
   "source": [
    "import numpy as np\n",
    "\n",
    "arr1 = np.array([10, 20, 30, 40, 50, 60])\n",
    "arr2 = np.array([3, 5, 6, 8, 2, 33])\n",
    "\n",
    "newarr = np.power(arr1, arr2)\n",
    "\n",
    "print(newarr)"
   ]
  },
  {
   "cell_type": "markdown",
   "id": "4742759d-1e60-47e1-ba4e-0f03a0e66cf3",
   "metadata": {},
   "source": [
    "## Remainder\n",
    "Both the mod() and the remainder() functions return the remainder of the values in the first array corresponding to the values in the second array, and return the results in a new array."
   ]
  },
  {
   "cell_type": "markdown",
   "id": "99584fc4-6906-42be-9a95-e91709cfe0c7",
   "metadata": {},
   "source": [
    "### Return the remainders:"
   ]
  },
  {
   "cell_type": "code",
   "execution_count": 6,
   "id": "4f8be989-2ec3-4cc8-9fa8-8c4e6cd07541",
   "metadata": {},
   "outputs": [
    {
     "name": "stdout",
     "output_type": "stream",
     "text": [
      "[ 1  6  3  0  0 27]\n"
     ]
    }
   ],
   "source": [
    "import numpy as np\n",
    "\n",
    "arr1 = np.array([10, 20, 30, 40, 50, 60])\n",
    "arr2 = np.array([3, 7, 9, 8, 2, 33])\n",
    "\n",
    "newarr = np.mod(arr1, arr2)\n",
    "\n",
    "print(newarr)"
   ]
  },
  {
   "cell_type": "markdown",
   "id": "b0a1e4d4-580e-498f-b8d6-efce4d23987c",
   "metadata": {},
   "source": [
    "## Quotient and Mod\n",
    "The divmod() function return both the quotient and the the mod. The return value is two arrays, the first array contains the quotient and second array contains the mod."
   ]
  },
  {
   "cell_type": "markdown",
   "id": "bc955ac3-24f3-4d94-adf2-f755f41a99a2",
   "metadata": {},
   "source": [
    "### Return the quotient and mod:"
   ]
  },
  {
   "cell_type": "code",
   "execution_count": 7,
   "id": "a2ad48b6-7eb5-443e-8e43-9aed76f52b03",
   "metadata": {},
   "outputs": [
    {
     "name": "stdout",
     "output_type": "stream",
     "text": [
      "(array([ 3,  2,  3,  5, 25,  1]), array([ 1,  6,  3,  0,  0, 27]))\n"
     ]
    }
   ],
   "source": [
    "import numpy as np\n",
    "\n",
    "arr1 = np.array([10, 20, 30, 40, 50, 60])\n",
    "arr2 = np.array([3, 7, 9, 8, 2, 33])\n",
    "\n",
    "newarr = np.divmod(arr1, arr2)\n",
    "\n",
    "print(newarr)"
   ]
  },
  {
   "cell_type": "markdown",
   "id": "89e6fb8d-e0da-4343-8438-0232d51e2d74",
   "metadata": {},
   "source": [
    "## Absolute Values\n",
    "Both the absolute() and the abs() functions do the same absolute operation element-wise but we should use absolute() to avoid confusion with python's inbuilt math.abs()"
   ]
  },
  {
   "cell_type": "markdown",
   "id": "7dddd178-3039-4ceb-aea0-be7ccc9f7e90",
   "metadata": {},
   "source": [
    "### Return the quotient and mod:"
   ]
  },
  {
   "cell_type": "code",
   "execution_count": 8,
   "id": "648c6057-de26-4640-a2c7-d9a0bc39ff2f",
   "metadata": {},
   "outputs": [
    {
     "name": "stdout",
     "output_type": "stream",
     "text": [
      "[1 2 1 2 3 4]\n"
     ]
    }
   ],
   "source": [
    "import numpy as np\n",
    "\n",
    "arr = np.array([-1, -2, 1, 2, 3, -4])\n",
    "\n",
    "newarr = np.absolute(arr)\n",
    "\n",
    "print(newarr)"
   ]
  },
  {
   "cell_type": "markdown",
   "id": "5a23af24-64bd-42e6-8bb6-6f58a5f6690a",
   "metadata": {},
   "source": [
    "## Rounding Decimals"
   ]
  },
  {
   "cell_type": "markdown",
   "id": "ced774f8-08b3-4a45-ba79-5709709bb023",
   "metadata": {},
   "source": [
    "### Rounding Decimals\n",
    "**There are primarily five ways of rounding off decimals in NumPy:**\n",
    "\n",
    "* truncation\n",
    "* fix\n",
    "* rounding\n",
    "* floor\n",
    "* ceil"
   ]
  },
  {
   "cell_type": "markdown",
   "id": "12395450-ffc9-4a73-8514-84053931af34",
   "metadata": {},
   "source": [
    "### Truncation\n",
    "**Remove the decimals, and return the float number closest to zero. Use the trunc() and fix() functions.**"
   ]
  },
  {
   "cell_type": "markdown",
   "id": "147ff3a3-f62e-44fd-8d82-2fbac881ede6",
   "metadata": {},
   "source": [
    "### Truncate elements of following array:"
   ]
  },
  {
   "cell_type": "code",
   "execution_count": 1,
   "id": "3f14e379-df52-4f10-a7f9-c66be2f59baf",
   "metadata": {},
   "outputs": [
    {
     "name": "stdout",
     "output_type": "stream",
     "text": [
      "[-3.  3.]\n"
     ]
    }
   ],
   "source": [
    "import numpy as np\n",
    "\n",
    "arr = np.trunc([-3.1666, 3.6667])\n",
    "\n",
    "print(arr)"
   ]
  },
  {
   "cell_type": "markdown",
   "id": "260bdcd3-922e-416c-89fc-cee779a3d364",
   "metadata": {},
   "source": [
    "**Same example, using fix():**\n",
    "\n"
   ]
  },
  {
   "cell_type": "code",
   "execution_count": 2,
   "id": "2ce31f11-d52c-4e39-b736-f0d74995bc34",
   "metadata": {},
   "outputs": [
    {
     "name": "stdout",
     "output_type": "stream",
     "text": [
      "[-3.  3.]\n"
     ]
    }
   ],
   "source": [
    "import numpy as np\n",
    "\n",
    "arr = np.fix([-3.1666, 3.6667])\n",
    "\n",
    "print(arr)"
   ]
  },
  {
   "cell_type": "markdown",
   "id": "47243919-860b-4d56-ac5e-412519e2d07f",
   "metadata": {},
   "source": [
    "### Rounding\n",
    "**The around() function increments preceding digit or decimal by 1 if >=5 else do nothing.**\n",
    "\n",
    "**E.g. round off to 1 decimal point, 3.16666 is 3.2**"
   ]
  },
  {
   "cell_type": "markdown",
   "id": "c55ed0b1-66a5-4151-8252-c4076b150b6a",
   "metadata": {},
   "source": [
    "### Round off 3.1666 to 2 decimal places:"
   ]
  },
  {
   "cell_type": "code",
   "execution_count": 3,
   "id": "fcadf910-47ec-41b0-bc44-5c3c55b51192",
   "metadata": {},
   "outputs": [
    {
     "name": "stdout",
     "output_type": "stream",
     "text": [
      "3.17\n"
     ]
    }
   ],
   "source": [
    "import numpy as np\n",
    "\n",
    "arr = np.around(3.1666, 2)\n",
    "\n",
    "print(arr)"
   ]
  },
  {
   "cell_type": "markdown",
   "id": "5626be71-0db2-497e-956a-4314f94dc4f2",
   "metadata": {},
   "source": [
    "### Floor\n",
    "**The floor() function rounds off decimal to nearest lower integer.**\n",
    "\n",
    "E.g. floor of 3.166 is 3."
   ]
  },
  {
   "cell_type": "markdown",
   "id": "10750f8c-0c0c-45b3-a1ff-c77fff2d3e28",
   "metadata": {},
   "source": [
    "### Floor the elements of following array:"
   ]
  },
  {
   "cell_type": "code",
   "execution_count": 4,
   "id": "d980abe2-2a5d-4fbb-9681-297ca0182aed",
   "metadata": {},
   "outputs": [
    {
     "name": "stdout",
     "output_type": "stream",
     "text": [
      "[-4.  3.]\n"
     ]
    }
   ],
   "source": [
    "import numpy as np\n",
    "\n",
    "arr = np.floor([-3.1666, 3.6667])\n",
    "\n",
    "print(arr)"
   ]
  },
  {
   "cell_type": "markdown",
   "id": "9fb43983-c3fe-4c4c-806c-14f808b544a1",
   "metadata": {},
   "source": [
    "### Ceil\n",
    "**The ceil() function rounds off decimal to nearest upper integer.**\n",
    "\n",
    "E.g. ceil of 3.166 is 4."
   ]
  },
  {
   "cell_type": "markdown",
   "id": "046f5294-816d-4e6e-bb37-1f219eab354e",
   "metadata": {},
   "source": [
    "### Ceil the elements of following array:"
   ]
  },
  {
   "cell_type": "code",
   "execution_count": 5,
   "id": "f3c5d74d-447c-4a4b-a538-cde1690eb3a8",
   "metadata": {},
   "outputs": [
    {
     "name": "stdout",
     "output_type": "stream",
     "text": [
      "[-3.  4.]\n"
     ]
    }
   ],
   "source": [
    "import numpy as np\n",
    "\n",
    "arr = np.ceil([-3.1666, 3.6667])\n",
    "\n",
    "print(arr)"
   ]
  },
  {
   "cell_type": "markdown",
   "id": "742bb313-dc8a-4418-abea-576d4ce23618",
   "metadata": {},
   "source": [
    "## NumPy Logs"
   ]
  },
  {
   "cell_type": "markdown",
   "id": "e80980d7-c0c6-42e6-b40a-6fb284336097",
   "metadata": {},
   "source": [
    "**Find log at base 2 of all elements of following array:**"
   ]
  },
  {
   "cell_type": "code",
   "execution_count": 6,
   "id": "0804345a-feea-4684-9028-a922c5cf7aed",
   "metadata": {},
   "outputs": [
    {
     "name": "stdout",
     "output_type": "stream",
     "text": [
      "[0.         1.         1.5849625  2.         2.32192809 2.5849625\n",
      " 2.80735492 3.         3.169925  ]\n"
     ]
    }
   ],
   "source": [
    "import numpy as np\n",
    "\n",
    "arr = np.arange(1, 10)\n",
    "\n",
    "print(np.log2(arr))"
   ]
  },
  {
   "cell_type": "markdown",
   "id": "57a73563-eb34-4343-aeb3-00f3c509f57c",
   "metadata": {},
   "source": [
    "**Find log at base 10 of all elements of following array:**"
   ]
  },
  {
   "cell_type": "code",
   "execution_count": 7,
   "id": "f68edd30-71ab-4d07-b71a-143b66f09c0f",
   "metadata": {},
   "outputs": [
    {
     "name": "stdout",
     "output_type": "stream",
     "text": [
      "[0.         0.30103    0.47712125 0.60205999 0.69897    0.77815125\n",
      " 0.84509804 0.90308999 0.95424251]\n"
     ]
    }
   ],
   "source": [
    "import numpy as np\n",
    "\n",
    "arr = np.arange(1, 10)\n",
    "\n",
    "print(np.log10(arr))"
   ]
  },
  {
   "cell_type": "markdown",
   "id": "97088371-f181-4156-8bb4-b02ba7d198fc",
   "metadata": {},
   "source": [
    "### Natural Log, or Log at Base e\n",
    "**Use the log() function to perform log at the base e.**"
   ]
  },
  {
   "cell_type": "markdown",
   "id": "74166d20-d8c1-4e37-853e-dc0895edbfc0",
   "metadata": {},
   "source": [
    "### Find log at base e of all elements of following array:"
   ]
  },
  {
   "cell_type": "code",
   "execution_count": 8,
   "id": "99765589-a35f-4cdf-bbf7-2d5c65839602",
   "metadata": {},
   "outputs": [
    {
     "name": "stdout",
     "output_type": "stream",
     "text": [
      "[0.         0.69314718 1.09861229 1.38629436 1.60943791 1.79175947\n",
      " 1.94591015 2.07944154 2.19722458]\n"
     ]
    }
   ],
   "source": [
    "import numpy as np\n",
    "\n",
    "arr = np.arange(1, 10)\n",
    "\n",
    "print(np.log(arr))"
   ]
  },
  {
   "cell_type": "markdown",
   "id": "e5a3a276-7dd7-4ba5-8d36-da5421085d99",
   "metadata": {},
   "source": [
    "### Log at Any Base\n",
    "NumPy does not provide any function to take log at any base, so we can use the frompyfunc() function along with inbuilt function math.log() with two input parameters and one output parameter:"
   ]
  },
  {
   "cell_type": "code",
   "execution_count": 9,
   "id": "9c0a2d39-6ebd-41e4-95bd-1a50ac9e2bce",
   "metadata": {},
   "outputs": [
    {
     "name": "stdout",
     "output_type": "stream",
     "text": [
      "1.7005483074552052\n"
     ]
    }
   ],
   "source": [
    "from math import log\n",
    "import numpy as np\n",
    "\n",
    "nplog = np.frompyfunc(log, 2, 1)\n",
    "\n",
    "print(nplog(100, 15))"
   ]
  },
  {
   "cell_type": "markdown",
   "id": "eede71f1-3f37-4ff0-9df9-3c16ac611b83",
   "metadata": {},
   "source": [
    "## NumPy Summations"
   ]
  },
  {
   "cell_type": "markdown",
   "id": "a2e74395-9f09-4bfd-ae87-8d358eba0b44",
   "metadata": {},
   "source": [
    "**Add the values in arr1 to the values in arr2:**"
   ]
  },
  {
   "cell_type": "code",
   "execution_count": 10,
   "id": "c1c702e0-79ec-4588-b286-0c0b60f05905",
   "metadata": {},
   "outputs": [
    {
     "name": "stdout",
     "output_type": "stream",
     "text": [
      "[2 4 6]\n"
     ]
    }
   ],
   "source": [
    "import numpy as np\n",
    "\n",
    "arr1 = np.array([1, 2, 3])\n",
    "arr2 = np.array([1, 2, 3])\n",
    "\n",
    "newarr = np.add(arr1, arr2)\n",
    "\n",
    "print(newarr)"
   ]
  },
  {
   "cell_type": "markdown",
   "id": "2c78cf92-e7ff-46e8-9445-264d09484113",
   "metadata": {},
   "source": [
    "**Sum the values in arr1 and the values in arr2:**"
   ]
  },
  {
   "cell_type": "code",
   "execution_count": 11,
   "id": "a7c30389-4131-4f07-8ab7-9c1b9b9bda4a",
   "metadata": {},
   "outputs": [
    {
     "name": "stdout",
     "output_type": "stream",
     "text": [
      "12\n"
     ]
    }
   ],
   "source": [
    "import numpy as np\n",
    "\n",
    "arr1 = np.array([1, 2, 3])\n",
    "arr2 = np.array([1, 2, 3])\n",
    "\n",
    "newarr = np.sum([arr1, arr2])\n",
    "\n",
    "print(newarr)"
   ]
  },
  {
   "cell_type": "markdown",
   "id": "762f036c-2f53-4537-9964-65f0ccbc770e",
   "metadata": {},
   "source": [
    "## Summation Over an Axis\n",
    "**If you specify axis=1, NumPy will sum the numbers in each array.**"
   ]
  },
  {
   "cell_type": "markdown",
   "id": "12559542-5a30-4156-bede-173a73c1e5f8",
   "metadata": {},
   "source": [
    "**Perform summation in the following array over 1st axis:**"
   ]
  },
  {
   "cell_type": "code",
   "execution_count": 12,
   "id": "a0cb54f4-4678-4918-8a08-d908cdddce4c",
   "metadata": {},
   "outputs": [
    {
     "name": "stdout",
     "output_type": "stream",
     "text": [
      "[6 6]\n"
     ]
    }
   ],
   "source": [
    "import numpy as np\n",
    "\n",
    "arr1 = np.array([1, 2, 3])\n",
    "arr2 = np.array([1, 2, 3])\n",
    "\n",
    "newarr = np.sum([arr1, arr2], axis=1)\n",
    "\n",
    "print(newarr)"
   ]
  },
  {
   "cell_type": "markdown",
   "id": "bc0ac811-f62c-4ff7-96d8-459cf620e668",
   "metadata": {},
   "source": [
    "## Cummulative Sum"
   ]
  },
  {
   "cell_type": "markdown",
   "id": "3dc7497b-339d-4515-88a4-77a7d04fb04d",
   "metadata": {},
   "source": [
    "**Perform cummulative summation in the following array:**"
   ]
  },
  {
   "cell_type": "code",
   "execution_count": 13,
   "id": "6dc66072-5d6b-4794-b24a-f8582c26a8b8",
   "metadata": {},
   "outputs": [
    {
     "name": "stdout",
     "output_type": "stream",
     "text": [
      "[1 3 6]\n"
     ]
    }
   ],
   "source": [
    "import numpy as np\n",
    "\n",
    "arr = np.array([1, 2, 3])\n",
    "\n",
    "newarr = np.cumsum(arr)\n",
    "\n",
    "print(newarr)"
   ]
  },
  {
   "cell_type": "markdown",
   "id": "5aee9c20-232d-4669-bfc7-03c0123f012a",
   "metadata": {},
   "source": [
    "## NumPy Products"
   ]
  },
  {
   "cell_type": "markdown",
   "id": "58676ac4-157a-4a8d-96a4-2b17d29bd7b1",
   "metadata": {},
   "source": [
    "**To find the product of the elements in an array, use the prod() function.**"
   ]
  },
  {
   "cell_type": "markdown",
   "id": "fdbfc3ae-6606-4e2e-8f4d-0cff9949be06",
   "metadata": {},
   "source": [
    "Find the product of the elements of this array:"
   ]
  },
  {
   "cell_type": "code",
   "execution_count": 14,
   "id": "a5384a94-1d3f-419b-98a3-7363e2b2ed97",
   "metadata": {},
   "outputs": [
    {
     "name": "stdout",
     "output_type": "stream",
     "text": [
      "24\n"
     ]
    }
   ],
   "source": [
    "import numpy as np\n",
    "\n",
    "arr = np.array([1, 2, 3, 4])\n",
    "\n",
    "x = np.prod(arr)\n",
    "\n",
    "print(x)"
   ]
  },
  {
   "cell_type": "markdown",
   "id": "2b777486-375f-4148-a95e-a4990babc5c6",
   "metadata": {},
   "source": [
    "Find the product of the elements of two arrays:"
   ]
  },
  {
   "cell_type": "code",
   "execution_count": 16,
   "id": "b2a450dc-5c3e-410f-9d5d-8114c4dcdf1c",
   "metadata": {},
   "outputs": [
    {
     "name": "stdout",
     "output_type": "stream",
     "text": [
      "40320\n"
     ]
    }
   ],
   "source": [
    "import numpy as np\n",
    "\n",
    "arr1 = np.array([1, 2, 3, 4])\n",
    "arr2 = np.array([5, 6, 7, 8])\n",
    "\n",
    "x = np.prod([arr1, arr2])\n",
    "\n",
    "print(x)"
   ]
  },
  {
   "cell_type": "markdown",
   "id": "ac4c1261-500c-4ffd-9a71-77f11df6ceac",
   "metadata": {},
   "source": [
    "### Product Over an Axis\n",
    "**If you specify axis=1, NumPy will return the product of each array.**"
   ]
  },
  {
   "cell_type": "markdown",
   "id": "db9c6100-4e27-431d-b0d8-74cabaa48aa5",
   "metadata": {},
   "source": [
    "Perform summation in the following array over 1st axis:"
   ]
  },
  {
   "cell_type": "code",
   "execution_count": 18,
   "id": "1bc40b32-9562-4dc5-b42a-5fb051def6cd",
   "metadata": {},
   "outputs": [
    {
     "name": "stdout",
     "output_type": "stream",
     "text": [
      "[  24 1680]\n"
     ]
    }
   ],
   "source": [
    "import numpy as np\n",
    "\n",
    "arr1 = np.array([1, 2, 3, 4])\n",
    "arr2 = np.array([5, 6, 7, 8])\n",
    "\n",
    "newarr = np.prod([arr1, arr2], axis=1)\n",
    "\n",
    "print(newarr)"
   ]
  },
  {
   "cell_type": "markdown",
   "id": "c3cb59e4-280b-492e-8043-905577fa6125",
   "metadata": {},
   "source": [
    "## Cummulative Product"
   ]
  },
  {
   "cell_type": "markdown",
   "id": "bc00b0a1-92fc-4c35-824f-c59dabb3e5c6",
   "metadata": {},
   "source": [
    "Take cummulative product of all elements for following array:"
   ]
  },
  {
   "cell_type": "code",
   "execution_count": 19,
   "id": "db19f87c-55f7-4655-8e79-9b517ef120bb",
   "metadata": {},
   "outputs": [
    {
     "name": "stdout",
     "output_type": "stream",
     "text": [
      "[   5   30  210 1680]\n"
     ]
    }
   ],
   "source": [
    "import numpy as np\n",
    "\n",
    "arr = np.array([5, 6, 7, 8])\n",
    "\n",
    "newarr = np.cumprod(arr)\n",
    "\n",
    "print(newarr)"
   ]
  },
  {
   "cell_type": "markdown",
   "id": "750c4080-bd5b-4aaf-9a5c-8fe7c82a2303",
   "metadata": {},
   "source": [
    "# NumPy Differences"
   ]
  },
  {
   "cell_type": "markdown",
   "id": "734936d2-b9e8-485e-b647-53ff3653874f",
   "metadata": {},
   "source": [
    "**Compute discrete difference of the following array:**"
   ]
  },
  {
   "cell_type": "code",
   "execution_count": 20,
   "id": "ab124739-25d0-4803-bc04-3d08a6cb302c",
   "metadata": {},
   "outputs": [
    {
     "name": "stdout",
     "output_type": "stream",
     "text": [
      "[  5  10 -20]\n"
     ]
    }
   ],
   "source": [
    "import numpy as np\n",
    "\n",
    "arr = np.array([10, 15, 25, 5])\n",
    "\n",
    "newarr = np.diff(arr)\n",
    "\n",
    "print(newarr)"
   ]
  },
  {
   "cell_type": "markdown",
   "id": "9ba04afd-1c5a-4ef3-9eb2-afaa6091a5cc",
   "metadata": {},
   "source": [
    "**Compute discrete difference of the following array twice:**"
   ]
  },
  {
   "cell_type": "code",
   "execution_count": 21,
   "id": "3059c4dc-fbfc-49b3-a351-7bbf209cd37c",
   "metadata": {},
   "outputs": [
    {
     "name": "stdout",
     "output_type": "stream",
     "text": [
      "[  5 -30]\n"
     ]
    }
   ],
   "source": [
    "import numpy as np\n",
    "\n",
    "arr = np.array([10, 15, 25, 5])\n",
    "\n",
    "newarr = np.diff(arr, n=2)\n",
    "\n",
    "print(newarr)"
   ]
  },
  {
   "cell_type": "markdown",
   "id": "5c955e5d-7918-4f6c-98dd-2c1d48daa0b6",
   "metadata": {},
   "source": [
    "## NumPy LCM Lowest Common Multiple"
   ]
  },
  {
   "cell_type": "markdown",
   "id": "fda529c7-d68e-41d1-ac4a-53fe2433198a",
   "metadata": {},
   "source": [
    "**Find the LCM of the following two numbers:**"
   ]
  },
  {
   "cell_type": "code",
   "execution_count": 22,
   "id": "115ef430-fd53-4ed5-8db1-fbc77ea3c42b",
   "metadata": {},
   "outputs": [
    {
     "name": "stdout",
     "output_type": "stream",
     "text": [
      "12\n"
     ]
    }
   ],
   "source": [
    "import numpy as np\n",
    "\n",
    "num1 = 4\n",
    "num2 = 6\n",
    "\n",
    "x = np.lcm(num1, num2)\n",
    "\n",
    "print(x)"
   ]
  },
  {
   "cell_type": "markdown",
   "id": "ea3aeffd-46c4-407c-8ffd-fe5e3018912f",
   "metadata": {},
   "source": [
    "**Find the LCM of the values of the following array:**"
   ]
  },
  {
   "cell_type": "code",
   "execution_count": 23,
   "id": "93dcc25c-93bc-479c-971c-702d821d8a86",
   "metadata": {},
   "outputs": [
    {
     "name": "stdout",
     "output_type": "stream",
     "text": [
      "18\n"
     ]
    }
   ],
   "source": [
    "import numpy as np\n",
    "\n",
    "arr = np.array([3, 6, 9])\n",
    "\n",
    "x = np.lcm.reduce(arr)\n",
    "\n",
    "print(x)"
   ]
  },
  {
   "cell_type": "markdown",
   "id": "4a504a10-f180-43a3-9265-257aff69da0b",
   "metadata": {},
   "source": [
    "**Find the LCM of all values of an array where the array contains all integers from 1 to 10:**"
   ]
  },
  {
   "cell_type": "code",
   "execution_count": 24,
   "id": "2d5ee5f4-76da-4406-9fdb-18caa62e7f2a",
   "metadata": {},
   "outputs": [
    {
     "name": "stdout",
     "output_type": "stream",
     "text": [
      "2520\n"
     ]
    }
   ],
   "source": [
    "import numpy as np\n",
    "\n",
    "arr = np.arange(1, 11)\n",
    "\n",
    "x = np.lcm.reduce(arr)\n",
    "\n",
    "print(x)"
   ]
  },
  {
   "cell_type": "markdown",
   "id": "5c41ebde-5617-4b39-a0d3-968c9e1a515d",
   "metadata": {},
   "source": [
    "## NumPy GCD Greatest Common Denominator"
   ]
  },
  {
   "cell_type": "markdown",
   "id": "211cec1f-fc19-489a-8c18-2ab895b2eabb",
   "metadata": {},
   "source": [
    "**Find the HCF of the following two numbers:**"
   ]
  },
  {
   "cell_type": "code",
   "execution_count": 25,
   "id": "332ee70b-b429-4f4e-9259-e049cdf9ed7f",
   "metadata": {},
   "outputs": [
    {
     "name": "stdout",
     "output_type": "stream",
     "text": [
      "3\n"
     ]
    }
   ],
   "source": [
    "import numpy as np\n",
    "\n",
    "num1 = 6\n",
    "num2 = 9\n",
    "\n",
    "x = np.gcd(num1, num2)\n",
    "\n",
    "print(x)"
   ]
  },
  {
   "cell_type": "markdown",
   "id": "6636ec8a-5717-49b6-b24e-10cd57afbd91",
   "metadata": {},
   "source": [
    "**Find the GCD for all of the numbers in the following array:**"
   ]
  },
  {
   "cell_type": "code",
   "execution_count": 26,
   "id": "20fc3339-bd3f-4148-a616-8d7d42de9201",
   "metadata": {},
   "outputs": [
    {
     "name": "stdout",
     "output_type": "stream",
     "text": [
      "4\n"
     ]
    }
   ],
   "source": [
    "import numpy as np\n",
    "\n",
    "arr = np.array([20, 8, 32, 36, 16])\n",
    "\n",
    "x = np.gcd.reduce(arr)\n",
    "\n",
    "print(x)"
   ]
  },
  {
   "cell_type": "markdown",
   "id": "3453c9f9-0461-4def-8ff5-afe4874c8b74",
   "metadata": {},
   "source": [
    "## NumPy Trigonometric Functions"
   ]
  },
  {
   "cell_type": "markdown",
   "id": "44683e51-c20c-4925-be35-3578f467faa5",
   "metadata": {},
   "source": [
    "**Find sine value of PI/2:**"
   ]
  },
  {
   "cell_type": "code",
   "execution_count": 27,
   "id": "3998053e-3e83-4588-a5c7-a12341360c3d",
   "metadata": {},
   "outputs": [
    {
     "name": "stdout",
     "output_type": "stream",
     "text": [
      "1.0\n"
     ]
    }
   ],
   "source": [
    "import numpy as np\n",
    "\n",
    "x = np.sin(np.pi/2)\n",
    "\n",
    "print(x)"
   ]
  },
  {
   "cell_type": "markdown",
   "id": "20fd97a9-c112-4de9-ba41-e3c0e77dd032",
   "metadata": {},
   "source": [
    "**Find sine values for all of the values in arr:**"
   ]
  },
  {
   "cell_type": "code",
   "execution_count": 28,
   "id": "5d279042-c4ad-42f3-9655-c74e574d0756",
   "metadata": {},
   "outputs": [
    {
     "name": "stdout",
     "output_type": "stream",
     "text": [
      "[1.         0.8660254  0.70710678 0.58778525]\n"
     ]
    }
   ],
   "source": [
    "import numpy as np\n",
    "\n",
    "arr = np.array([np.pi/2, np.pi/3, np.pi/4, np.pi/5])\n",
    "\n",
    "x = np.sin(arr)\n",
    "\n",
    "print(x)"
   ]
  },
  {
   "cell_type": "markdown",
   "id": "542d08c5-7700-4282-b13c-2726e4f394df",
   "metadata": {},
   "source": [
    "**Convert all of the values in following array arr to radians:**"
   ]
  },
  {
   "cell_type": "code",
   "execution_count": 29,
   "id": "c7d74cc4-6e09-4de0-85b1-35cf077052a6",
   "metadata": {},
   "outputs": [
    {
     "name": "stdout",
     "output_type": "stream",
     "text": [
      "[1.57079633 3.14159265 4.71238898 6.28318531]\n"
     ]
    }
   ],
   "source": [
    "import numpy as np\n",
    "\n",
    "arr = np.array([90, 180, 270, 360])\n",
    "\n",
    "x = np.deg2rad(arr)\n",
    "\n",
    "print(x)"
   ]
  },
  {
   "cell_type": "markdown",
   "id": "840c339d-5dba-4da6-b900-8baa97f776d7",
   "metadata": {},
   "source": [
    "### Radians to Degrees"
   ]
  },
  {
   "cell_type": "markdown",
   "id": "f00872bb-5ec5-455b-ad8f-5bf8d15cdb4e",
   "metadata": {},
   "source": [
    "**Convert all of the values in following array arr to degrees:**"
   ]
  },
  {
   "cell_type": "code",
   "execution_count": 30,
   "id": "a53bd1a0-b184-456a-92cf-c7ac5a2cfb1e",
   "metadata": {},
   "outputs": [
    {
     "name": "stdout",
     "output_type": "stream",
     "text": [
      "[ 90. 180. 270. 360.]\n"
     ]
    }
   ],
   "source": [
    "import numpy as np\n",
    "\n",
    "arr = np.array([np.pi/2, np.pi, 1.5*np.pi, 2*np.pi])\n",
    "\n",
    "x = np.rad2deg(arr)\n",
    "\n",
    "print(x)"
   ]
  },
  {
   "cell_type": "markdown",
   "id": "547a7b01-fa03-4404-9f39-230323a47c9c",
   "metadata": {},
   "source": [
    "**Find the angle of 1.0:**"
   ]
  },
  {
   "cell_type": "code",
   "execution_count": 31,
   "id": "b738adfc-b832-4d9e-bc6c-e10ad83bc5ee",
   "metadata": {},
   "outputs": [
    {
     "name": "stdout",
     "output_type": "stream",
     "text": [
      "1.5707963267948966\n"
     ]
    }
   ],
   "source": [
    "import numpy as np\n",
    "\n",
    "x = np.arcsin(1.0)\n",
    "\n",
    "print(x)"
   ]
  },
  {
   "cell_type": "markdown",
   "id": "afac970f-6ccc-488a-9d50-288412bd6bf5",
   "metadata": {},
   "source": [
    "**Find the angle for all of the sine values in the array**"
   ]
  },
  {
   "cell_type": "code",
   "execution_count": 32,
   "id": "8173c68e-0429-481d-a5e5-bd5783866a70",
   "metadata": {},
   "outputs": [
    {
     "name": "stdout",
     "output_type": "stream",
     "text": [
      "[ 1.57079633 -1.57079633  0.10016742]\n"
     ]
    }
   ],
   "source": [
    "import numpy as np\n",
    "\n",
    "arr = np.array([1, -1, 0.1])\n",
    "\n",
    "x = np.arcsin(arr)\n",
    "\n",
    "print(x)\n"
   ]
  },
  {
   "cell_type": "markdown",
   "id": "9f6b4a98-6f1e-4fc0-a570-217af90650d9",
   "metadata": {},
   "source": [
    "## Hypotenues"
   ]
  },
  {
   "cell_type": "markdown",
   "id": "ff8c3137-63c6-4d05-927c-356d4ff06f8d",
   "metadata": {},
   "source": [
    "**Find the hypotenues for 4 base and 3 perpendicular:**"
   ]
  },
  {
   "cell_type": "code",
   "execution_count": 33,
   "id": "9a204b23-57fb-4c46-aa16-08554111e822",
   "metadata": {},
   "outputs": [
    {
     "name": "stdout",
     "output_type": "stream",
     "text": [
      "5.0\n"
     ]
    }
   ],
   "source": [
    "import numpy as np\n",
    "\n",
    "base = 3\n",
    "perp = 4\n",
    "\n",
    "x = np.hypot(base, perp)\n",
    "\n",
    "print(x)"
   ]
  },
  {
   "cell_type": "markdown",
   "id": "33d17880-9a83-45fd-8d15-d698a6e8b3e7",
   "metadata": {},
   "source": [
    "## NumPy Hyperbolic Functions"
   ]
  },
  {
   "cell_type": "markdown",
   "id": "841e2901-a8e1-41dd-8e53-c51cf31befa9",
   "metadata": {},
   "source": [
    "**Find sinh value of PI/2:**"
   ]
  },
  {
   "cell_type": "code",
   "execution_count": 34,
   "id": "9ef3bc40-365d-40fb-ba39-ab9e2857109a",
   "metadata": {},
   "outputs": [
    {
     "name": "stdout",
     "output_type": "stream",
     "text": [
      "2.3012989023072947\n"
     ]
    }
   ],
   "source": [
    "import numpy as np\n",
    "\n",
    "x = np.sinh(np.pi/2)\n",
    "\n",
    "print(x)"
   ]
  },
  {
   "cell_type": "markdown",
   "id": "a8112c63-72c3-48fc-8fca-51678deb28c5",
   "metadata": {},
   "source": [
    "**Find cosh values for all of the values in arr:**"
   ]
  },
  {
   "cell_type": "code",
   "execution_count": 35,
   "id": "10c0540f-3763-492a-82f9-dd404ed13575",
   "metadata": {},
   "outputs": [
    {
     "name": "stdout",
     "output_type": "stream",
     "text": [
      "[2.50917848 1.60028686 1.32460909 1.20397209]\n"
     ]
    }
   ],
   "source": [
    "import numpy as np\n",
    "\n",
    "arr = np.array([np.pi/2, np.pi/3, np.pi/4, np.pi/5])\n",
    "\n",
    "x = np.cosh(arr)\n",
    "\n",
    "print(x)"
   ]
  },
  {
   "cell_type": "markdown",
   "id": "3edbde35-5ba0-4baa-876b-fab906625445",
   "metadata": {},
   "source": [
    "## Finding Angles"
   ]
  },
  {
   "cell_type": "markdown",
   "id": "5489b505-57f9-4456-968d-453cacc6f009",
   "metadata": {},
   "source": [
    "**Find the angle of 1.0:**"
   ]
  },
  {
   "cell_type": "code",
   "execution_count": 36,
   "id": "d0d99ab2-30e7-40df-a5d9-c1d2a6a980c8",
   "metadata": {},
   "outputs": [
    {
     "name": "stdout",
     "output_type": "stream",
     "text": [
      "0.881373587019543\n"
     ]
    }
   ],
   "source": [
    "import numpy as np\n",
    "\n",
    "x = np.arcsinh(1.0)\n",
    "\n",
    "print(x)"
   ]
  },
  {
   "cell_type": "markdown",
   "id": "ae48a387-b8fe-42e5-95cd-e356f0bbfe46",
   "metadata": {},
   "source": [
    "### Angles of Each Value in Arrays"
   ]
  },
  {
   "cell_type": "markdown",
   "id": "7f5c462c-803f-4891-a2f9-d85e1ffa446c",
   "metadata": {},
   "source": [
    "**Find the angle for all of the tanh values in array:**"
   ]
  },
  {
   "cell_type": "code",
   "execution_count": 37,
   "id": "324e57b1-1c28-4ab4-b406-e17aed4a8f84",
   "metadata": {},
   "outputs": [
    {
     "name": "stdout",
     "output_type": "stream",
     "text": [
      "[0.10033535 0.20273255 0.54930614]\n"
     ]
    }
   ],
   "source": [
    "import numpy as np\n",
    "\n",
    "arr = np.array([0.1, 0.2, 0.5])\n",
    "\n",
    "x = np.arctanh(arr)\n",
    "\n",
    "print(x)"
   ]
  },
  {
   "cell_type": "markdown",
   "id": "77b4fadc-382f-4083-9dc6-e75e14a50243",
   "metadata": {},
   "source": [
    "## NumPy Set Operations"
   ]
  },
  {
   "cell_type": "markdown",
   "id": "6608d949-465b-412e-b0f4-8ba74413403b",
   "metadata": {},
   "source": [
    "**Convert following array with repeated elements to a set:**"
   ]
  },
  {
   "cell_type": "code",
   "execution_count": 38,
   "id": "aeb50738-d727-44b1-b2e2-b5fa2c576ecd",
   "metadata": {},
   "outputs": [
    {
     "name": "stdout",
     "output_type": "stream",
     "text": [
      "[1 2 3 4 5 6 7]\n"
     ]
    }
   ],
   "source": [
    "import numpy as np\n",
    "\n",
    "arr = np.array([1, 1, 1, 2, 3, 4, 5, 5, 6, 7])\n",
    "\n",
    "x = np.unique(arr)\n",
    "\n",
    "print(x)"
   ]
  },
  {
   "cell_type": "markdown",
   "id": "355ea230-6651-4a48-947a-0de3e69e7eef",
   "metadata": {},
   "source": [
    "### Find union of the following two set arrays:"
   ]
  },
  {
   "cell_type": "code",
   "execution_count": 39,
   "id": "61d7562f-19af-408a-8a19-18e9b38cd554",
   "metadata": {},
   "outputs": [
    {
     "name": "stdout",
     "output_type": "stream",
     "text": [
      "[1 2 3 4 5 6]\n"
     ]
    }
   ],
   "source": [
    "import numpy as np\n",
    "\n",
    "arr1 = np.array([1, 2, 3, 4])\n",
    "arr2 = np.array([3, 4, 5, 6])\n",
    "\n",
    "newarr = np.union1d(arr1, arr2)\n",
    "\n",
    "print(newarr)"
   ]
  },
  {
   "cell_type": "markdown",
   "id": "477b5a25-106e-440c-92af-2fc344420176",
   "metadata": {},
   "source": [
    "**Find intersection of the following two set arrays:**"
   ]
  },
  {
   "cell_type": "code",
   "execution_count": 40,
   "id": "c27c99c9-a924-4453-9b33-6745a14f49f3",
   "metadata": {},
   "outputs": [
    {
     "name": "stdout",
     "output_type": "stream",
     "text": [
      "[3 4]\n"
     ]
    }
   ],
   "source": [
    "import numpy as np\n",
    "\n",
    "arr1 = np.array([1, 2, 3, 4])\n",
    "arr2 = np.array([3, 4, 5, 6])\n",
    "\n",
    "newarr = np.intersect1d(arr1, arr2, assume_unique=True)\n",
    "\n",
    "print(newarr)"
   ]
  },
  {
   "cell_type": "markdown",
   "id": "22e48d11-981f-4e80-88d8-f576de57050e",
   "metadata": {},
   "source": [
    "**Find the difference of the set1 from set2:**"
   ]
  },
  {
   "cell_type": "code",
   "execution_count": 41,
   "id": "4fedd4ab-c008-4d39-b659-3af1bdddc6c7",
   "metadata": {},
   "outputs": [
    {
     "name": "stdout",
     "output_type": "stream",
     "text": [
      "[1 2]\n"
     ]
    }
   ],
   "source": [
    "import numpy as np\n",
    "\n",
    "set1 = np.array([1, 2, 3, 4])\n",
    "set2 = np.array([3, 4, 5, 6])\n",
    "\n",
    "newarr = np.setdiff1d(set1, set2, assume_unique=True)\n",
    "\n",
    "print(newarr)"
   ]
  },
  {
   "cell_type": "code",
   "execution_count": null,
   "id": "ed2189c3-f5cc-4bd7-a695-280c257c5842",
   "metadata": {},
   "outputs": [],
   "source": []
  }
 ],
 "metadata": {
  "kernelspec": {
   "display_name": "Python 3 (ipykernel)",
   "language": "python",
   "name": "python3"
  },
  "language_info": {
   "codemirror_mode": {
    "name": "ipython",
    "version": 3
   },
   "file_extension": ".py",
   "mimetype": "text/x-python",
   "name": "python",
   "nbconvert_exporter": "python",
   "pygments_lexer": "ipython3",
   "version": "3.11.7"
  }
 },
 "nbformat": 4,
 "nbformat_minor": 5
}
