{
 "cells": [
  {
   "cell_type": "markdown",
   "id": "50597c1c",
   "metadata": {},
   "source": [
    "# <div style=\"padding:20px;color:white;margin:0;font-size:35px;font-family:Georgia;text-align:left;display:fill;border-radius:5px;background-color:#254E58;overflow:hidden\"><b> Day 12- Python Date-time</b></div>"
   ]
  },
  {
   "cell_type": "markdown",
   "id": "fbc46167",
   "metadata": {},
   "source": [
    "## Python Dates"
   ]
  },
  {
   "cell_type": "markdown",
   "id": "4f9f7d63",
   "metadata": {},
   "source": [
    "**A date in Python is not a data type of its own, but we can import a module named datetime to work with dates as date objects.**"
   ]
  },
  {
   "cell_type": "markdown",
   "id": "32ec4f6b",
   "metadata": {},
   "source": [
    "### ExampleGet your own Python Server\n",
    "**Import the datetime module and display the current date:**"
   ]
  },
  {
   "cell_type": "code",
   "execution_count": 1,
   "id": "d0374891",
   "metadata": {},
   "outputs": [
    {
     "name": "stdout",
     "output_type": "stream",
     "text": [
      "2023-10-25 19:24:32.814509\n"
     ]
    }
   ],
   "source": [
    "import datetime\n",
    "\n",
    "x = datetime.datetime.now()\n",
    "print(x)"
   ]
  },
  {
   "cell_type": "markdown",
   "id": "37418fe8",
   "metadata": {},
   "source": [
    "## Date Output"
   ]
  },
  {
   "cell_type": "markdown",
   "id": "66e12941",
   "metadata": {},
   "source": [
    "* When we execute the code from the example above the result will be:\n",
    "\n",
    "* 2023-10-25 19:24:32.814509\n",
    "* The date contains year, month, day, hour, minute, second, and microsecond.\n",
    "\n",
    "* The datetime module has many methods to return information about the date object."
   ]
  },
  {
   "cell_type": "markdown",
   "id": "166eb279",
   "metadata": {},
   "source": [
    "### Example\n",
    "### Return the year and name of weekday:**"
   ]
  },
  {
   "cell_type": "code",
   "execution_count": 3,
   "id": "81a4d2ea",
   "metadata": {},
   "outputs": [
    {
     "name": "stdout",
     "output_type": "stream",
     "text": [
      "2023\n",
      "Wednesday\n"
     ]
    }
   ],
   "source": [
    "import datetime\n",
    "\n",
    "x = datetime.datetime.now()\n",
    "\n",
    "print(x.year)\n",
    "print(x.strftime(\"%A\"))"
   ]
  },
  {
   "cell_type": "markdown",
   "id": "015241e6",
   "metadata": {},
   "source": [
    "## Creating Date Objects"
   ]
  },
  {
   "cell_type": "markdown",
   "id": "848405df",
   "metadata": {},
   "source": [
    "**To create a date, we can use the datetime() class (constructor) of the datetime module.**\n",
    "\n",
    "**The datetime() class requires three parameters to create a date: year, month, day.**\n",
    "\n",
    "### Example"
   ]
  },
  {
   "cell_type": "markdown",
   "id": "c4567e1e",
   "metadata": {},
   "source": [
    "### Create a date object:"
   ]
  },
  {
   "cell_type": "code",
   "execution_count": 5,
   "id": "d732d8d2",
   "metadata": {},
   "outputs": [
    {
     "name": "stdout",
     "output_type": "stream",
     "text": [
      "2023-10-17 00:00:00\n"
     ]
    }
   ],
   "source": [
    "import datetime\n",
    "\n",
    "x = datetime.datetime(2023, 10, 17)\n",
    "\n",
    "print(x)"
   ]
  },
  {
   "cell_type": "markdown",
   "id": "ea387bd5",
   "metadata": {},
   "source": [
    "**The datetime() class also takes parameters for time and timezone (hour, minute, second, microsecond, tzone), but they are optional, and has a default value of 0, (None for timezone).**"
   ]
  },
  {
   "cell_type": "markdown",
   "id": "6bc9b13a",
   "metadata": {},
   "source": [
    "## The strftime() Method"
   ]
  },
  {
   "cell_type": "markdown",
   "id": "38710e42",
   "metadata": {},
   "source": [
    "**The datetime object has a method for formatting date objects into readable strings**\n",
    "\n",
    "**The method is called strftime(), and takes one parameter, format, to specify the format of the returned string:**"
   ]
  },
  {
   "cell_type": "markdown",
   "id": "ef19016f",
   "metadata": {},
   "source": [
    "### Example\n",
    "**Display the name of the month:**"
   ]
  },
  {
   "cell_type": "code",
   "execution_count": 7,
   "id": "86de7b0d",
   "metadata": {},
   "outputs": [
    {
     "name": "stdout",
     "output_type": "stream",
     "text": [
      "October\n"
     ]
    }
   ],
   "source": [
    "import datetime\n",
    "\n",
    "x = datetime.datetime(2023, 10, 28)\n",
    "\n",
    "print(x.strftime(\"%B\"))"
   ]
  },
  {
   "cell_type": "markdown",
   "id": "86ff287b",
   "metadata": {},
   "source": []
  }
 ],
 "metadata": {
  "kernelspec": {
   "display_name": "Python 3 (ipykernel)",
   "language": "python",
   "name": "python3"
  },
  "language_info": {
   "codemirror_mode": {
    "name": "ipython",
    "version": 3
   },
   "file_extension": ".py",
   "mimetype": "text/x-python",
   "name": "python",
   "nbconvert_exporter": "python",
   "pygments_lexer": "ipython3",
   "version": "3.10.13"
  }
 },
 "nbformat": 4,
 "nbformat_minor": 5
}
