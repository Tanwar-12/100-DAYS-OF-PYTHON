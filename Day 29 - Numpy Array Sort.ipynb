{
 "cells": [
  {
   "cell_type": "markdown",
   "id": "ead55c84",
   "metadata": {},
   "source": [
    "# <div style=\"padding:20px;color:white;margin:0;font-size:35px;font-family:Georgia;text-align:left;display:fill;border-radius:5px;background-color:#254E58;overflow:hidden\"><b> Day 29- Numpy Array Sorting   </b>"
   ]
  },
  {
   "cell_type": "markdown",
   "id": "c03c2d05",
   "metadata": {},
   "source": [
    "## Sorting Arrays"
   ]
  },
  {
   "cell_type": "markdown",
   "id": "9a93deb5",
   "metadata": {},
   "source": [
    "* Sorting means putting elements in an ordered sequence.\n",
    "\n",
    "* Ordered sequence is any sequence that has an order corresponding to elements, like numeric or alphabetical, ascending or descending.\n",
    "\n",
    "* The NumPy ndarray object has a function called sort(), that will sort a specified array."
   ]
  },
  {
   "cell_type": "markdown",
   "id": "cfaf7230",
   "metadata": {},
   "source": [
    "### Example\n",
    "\n",
    "**Sort the array:**"
   ]
  },
  {
   "cell_type": "code",
   "execution_count": 1,
   "id": "5a89fea9",
   "metadata": {},
   "outputs": [
    {
     "name": "stdout",
     "output_type": "stream",
     "text": [
      "[0 1 2 3]\n"
     ]
    }
   ],
   "source": [
    "import numpy as np\n",
    "\n",
    "arr = np.array([3, 2, 0, 1])\n",
    "\n",
    "print(np.sort(arr))"
   ]
  },
  {
   "cell_type": "markdown",
   "id": "22019c1e",
   "metadata": {},
   "source": [
    "### Example\n",
    "**Sort the array alphabetically:**"
   ]
  },
  {
   "cell_type": "code",
   "execution_count": 2,
   "id": "1b7033d2",
   "metadata": {},
   "outputs": [
    {
     "name": "stdout",
     "output_type": "stream",
     "text": [
      "['apple' 'banana' 'cherry']\n"
     ]
    }
   ],
   "source": [
    "import numpy as np\n",
    "\n",
    "arr = np.array(['banana', 'cherry', 'apple'])\n",
    "\n",
    "print(np.sort(arr))"
   ]
  },
  {
   "cell_type": "markdown",
   "id": "9665901e",
   "metadata": {},
   "source": [
    "### Example\n",
    "**Sort a boolean array:**"
   ]
  },
  {
   "cell_type": "code",
   "execution_count": 3,
   "id": "2b3d62a5",
   "metadata": {},
   "outputs": [
    {
     "name": "stdout",
     "output_type": "stream",
     "text": [
      "[False  True  True]\n"
     ]
    }
   ],
   "source": [
    "import numpy as np\n",
    "\n",
    "arr = np.array([True, False, True])\n",
    "\n",
    "print(np.sort(arr))"
   ]
  },
  {
   "cell_type": "markdown",
   "id": "80cc90bc",
   "metadata": {},
   "source": [
    "### Sorting a 2-D Array\n",
    "**If you use the sort() method on a 2-D array, both arrays will be sorted:**"
   ]
  },
  {
   "cell_type": "markdown",
   "id": "7ded7129",
   "metadata": {},
   "source": [
    "### Example\n",
    "**Sort a 2-D array:**"
   ]
  },
  {
   "cell_type": "code",
   "execution_count": 4,
   "id": "c524df85",
   "metadata": {},
   "outputs": [
    {
     "name": "stdout",
     "output_type": "stream",
     "text": [
      "[[2 3 4]\n",
      " [0 1 5]]\n"
     ]
    }
   ],
   "source": [
    "import numpy as np\n",
    "\n",
    "arr = np.array([[3, 2, 4], [5, 0, 1]])\n",
    "\n",
    "print(np.sort(arr))"
   ]
  },
  {
   "cell_type": "code",
   "execution_count": null,
   "id": "1452dd7f",
   "metadata": {},
   "outputs": [],
   "source": []
  }
 ],
 "metadata": {
  "kernelspec": {
   "display_name": "Python 3 (ipykernel)",
   "language": "python",
   "name": "python3"
  },
  "language_info": {
   "codemirror_mode": {
    "name": "ipython",
    "version": 3
   },
   "file_extension": ".py",
   "mimetype": "text/x-python",
   "name": "python",
   "nbconvert_exporter": "python",
   "pygments_lexer": "ipython3",
   "version": "3.10.13"
  }
 },
 "nbformat": 4,
 "nbformat_minor": 5
}
