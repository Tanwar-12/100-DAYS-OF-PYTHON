{
 "cells": [
  {
   "cell_type": "markdown",
   "id": "6431674a",
   "metadata": {},
   "source": [
    "# <div style=\"padding:20px;color:white;margin:0;font-size:35px;font-family:Georgia;text-align:left;display:fill;border-radius:5px;background-color:#254E58;overflow:hidden\"><b> Day 5: Python loops </b></div>"
   ]
  },
  {
   "cell_type": "markdown",
   "id": "0c2436c8",
   "metadata": {},
   "source": [
    "## Python While Loops"
   ]
  },
  {
   "cell_type": "markdown",
   "id": "d8f6a48d",
   "metadata": {},
   "source": [
    "### Python Loops"
   ]
  },
  {
   "cell_type": "markdown",
   "id": "e6bc5b03",
   "metadata": {},
   "source": [
    "**Python has two primitive loop commands:**\n",
    "\n",
    "* while loops\n",
    "* for loops"
   ]
  },
  {
   "cell_type": "markdown",
   "id": "5bafafc9",
   "metadata": {},
   "source": [
    "### The while Loop"
   ]
  },
  {
   "cell_type": "markdown",
   "id": "690234b6",
   "metadata": {},
   "source": [
    "**With the while loop we can execute a set of statements as long as a condition is true.**"
   ]
  },
  {
   "cell_type": "markdown",
   "id": "e44bb9b5",
   "metadata": {},
   "source": [
    "## Example:\n",
    "### 1. Print i as long as i is less than 6:"
   ]
  },
  {
   "cell_type": "code",
   "execution_count": 1,
   "id": "c58f7eaa",
   "metadata": {},
   "outputs": [
    {
     "name": "stdout",
     "output_type": "stream",
     "text": [
      "1\n",
      "2\n",
      "3\n",
      "4\n",
      "5\n"
     ]
    }
   ],
   "source": [
    "i = 1\n",
    "while i < 6:\n",
    "  print(i)\n",
    "  i += 1"
   ]
  },
  {
   "cell_type": "markdown",
   "id": "9322e800",
   "metadata": {},
   "source": [
    "**The while loop requires relevant variables to be ready, in this example we need to define an indexing variable, i, which we set to 1.**"
   ]
  },
  {
   "cell_type": "markdown",
   "id": "32e04fe1",
   "metadata": {},
   "source": [
    "## The break Statement"
   ]
  },
  {
   "cell_type": "markdown",
   "id": "981ae231",
   "metadata": {},
   "source": [
    "**With the break statement we can stop the loop even if the while condition is true:**"
   ]
  },
  {
   "cell_type": "markdown",
   "id": "5dba3f3c",
   "metadata": {},
   "source": [
    "## Example\n",
    "## 2.Exit the loop when i is 3:\n",
    "\n"
   ]
  },
  {
   "cell_type": "code",
   "execution_count": 2,
   "id": "727d9d6e",
   "metadata": {},
   "outputs": [
    {
     "name": "stdout",
     "output_type": "stream",
     "text": [
      "1\n",
      "2\n",
      "3\n"
     ]
    }
   ],
   "source": [
    "i = 1\n",
    "while i < 6:\n",
    "  print(i)\n",
    "  if i == 3:\n",
    "    break\n",
    "  i += 1"
   ]
  },
  {
   "cell_type": "markdown",
   "id": "40f8e04a",
   "metadata": {},
   "source": [
    "## The continue Statement\n",
    "**With the continue statement we can stop the current iteration, and continue with the next:**"
   ]
  },
  {
   "cell_type": "markdown",
   "id": "01ec5a04",
   "metadata": {},
   "source": [
    "## Example\n",
    "### 3.Continue to the next iteration if i is 3:"
   ]
  },
  {
   "cell_type": "code",
   "execution_count": 3,
   "id": "aaad6059",
   "metadata": {},
   "outputs": [
    {
     "name": "stdout",
     "output_type": "stream",
     "text": [
      "1\n",
      "2\n",
      "4\n",
      "5\n",
      "6\n"
     ]
    }
   ],
   "source": [
    "i = 0\n",
    "while i < 6:\n",
    "  i += 1\n",
    "  if i == 3:\n",
    "    continue\n",
    "  print(i)"
   ]
  },
  {
   "cell_type": "markdown",
   "id": "8ee975fd",
   "metadata": {},
   "source": [
    "## The else Statement\n",
    "**With the else statement we can run a block of code once when the condition no longer is true:**"
   ]
  },
  {
   "cell_type": "markdown",
   "id": "156c10d4",
   "metadata": {},
   "source": [
    "## Example\n",
    "### 4.Print a message once the condition is false:"
   ]
  },
  {
   "cell_type": "code",
   "execution_count": 4,
   "id": "e39ea96c",
   "metadata": {},
   "outputs": [
    {
     "name": "stdout",
     "output_type": "stream",
     "text": [
      "1\n",
      "2\n",
      "3\n",
      "4\n",
      "5\n",
      "i is no longer less than 6\n"
     ]
    }
   ],
   "source": [
    "i = 1\n",
    "while i < 6:\n",
    "  print(i)\n",
    "  i += 1\n",
    "else:\n",
    "  print(\"i is no longer less than 6\")"
   ]
  },
  {
   "cell_type": "markdown",
   "id": "aa62eb21",
   "metadata": {},
   "source": [
    "## Python For Loops"
   ]
  },
  {
   "cell_type": "markdown",
   "id": "8d1f121a",
   "metadata": {},
   "source": [
    "**A for loop is used for iterating over a sequence (that is either a list, a tuple, a dictionary, a set, or a string).**\n",
    "\n",
    "**This is less like the for keyword in other programming languages, and works more like an iterator method as found in other object-orientated programming languages.**\n",
    "\n",
    "**With the for loop we can execute a set of statements, once for each item in a list, tuple, set etc.**"
   ]
  },
  {
   "cell_type": "markdown",
   "id": "22c8ce93",
   "metadata": {},
   "source": [
    "## Example\n",
    "### 5.Print each fruit in a fruit list:"
   ]
  },
  {
   "cell_type": "code",
   "execution_count": 5,
   "id": "0d6640b0",
   "metadata": {},
   "outputs": [
    {
     "name": "stdout",
     "output_type": "stream",
     "text": [
      "apple\n",
      "banana\n",
      "cherry\n"
     ]
    }
   ],
   "source": [
    "fruits = [\"apple\", \"banana\", \"cherry\"]\n",
    "for x in fruits:\n",
    "  print(x)"
   ]
  },
  {
   "cell_type": "markdown",
   "id": "f7254023",
   "metadata": {},
   "source": [
    "**The for loop does not require an indexing variable to set beforehand.**"
   ]
  },
  {
   "cell_type": "markdown",
   "id": "5a9eef57",
   "metadata": {},
   "source": [
    "## Looping Through a String"
   ]
  },
  {
   "cell_type": "markdown",
   "id": "31f19fb6",
   "metadata": {},
   "source": [
    "**Even strings are iterable objects, they contain a sequence of characters:**"
   ]
  },
  {
   "cell_type": "markdown",
   "id": "e6e66ddf",
   "metadata": {},
   "source": [
    "### Example\n",
    "### 6.Loop through the letters in the word \"banana\":"
   ]
  },
  {
   "cell_type": "code",
   "execution_count": 6,
   "id": "2467a7f1",
   "metadata": {},
   "outputs": [
    {
     "name": "stdout",
     "output_type": "stream",
     "text": [
      "b\n",
      "a\n",
      "n\n",
      "a\n",
      "n\n",
      "a\n"
     ]
    }
   ],
   "source": [
    "for x in \"banana\":\n",
    "  print(x)"
   ]
  },
  {
   "cell_type": "markdown",
   "id": "3d03d1ba",
   "metadata": {},
   "source": [
    "## The break Statement\n",
    "**With the break statement we can stop the loop before it has looped through all the items:**"
   ]
  },
  {
   "cell_type": "markdown",
   "id": "dd7492f1",
   "metadata": {},
   "source": [
    "### Example\n",
    "### 7.Exit the loop when x is \"banana\":"
   ]
  },
  {
   "cell_type": "code",
   "execution_count": 7,
   "id": "24dbb056",
   "metadata": {},
   "outputs": [
    {
     "name": "stdout",
     "output_type": "stream",
     "text": [
      "apple\n",
      "banana\n"
     ]
    }
   ],
   "source": [
    "fruits = [\"apple\", \"banana\", \"cherry\"]\n",
    "for x in fruits:\n",
    "  print(x)\n",
    "  if x == \"banana\":\n",
    "    break"
   ]
  },
  {
   "cell_type": "markdown",
   "id": "7931eaa7",
   "metadata": {},
   "source": [
    "### Example\n",
    "### 8.Exit the loop when x is \"banana\", but this time the break comes before the print:"
   ]
  },
  {
   "cell_type": "code",
   "execution_count": 8,
   "id": "9b4dc5c3",
   "metadata": {},
   "outputs": [
    {
     "name": "stdout",
     "output_type": "stream",
     "text": [
      "apple\n"
     ]
    }
   ],
   "source": [
    "fruits = [\"apple\", \"banana\", \"cherry\"]\n",
    "for x in fruits:\n",
    "  if x == \"banana\":\n",
    "    break\n",
    "  print(x)"
   ]
  },
  {
   "cell_type": "markdown",
   "id": "a1f2d7a8",
   "metadata": {},
   "source": [
    "## The continue Statement\n",
    "**With the continue statement we can stop the current iteration of the loop, and continue with the next:**"
   ]
  },
  {
   "cell_type": "markdown",
   "id": "2c9d2ce1",
   "metadata": {},
   "source": [
    "### Example\n",
    "### 8.Do not print banana:\n",
    "\n"
   ]
  },
  {
   "cell_type": "code",
   "execution_count": 9,
   "id": "d911e692",
   "metadata": {},
   "outputs": [
    {
     "name": "stdout",
     "output_type": "stream",
     "text": [
      "apple\n",
      "cherry\n"
     ]
    }
   ],
   "source": [
    "fruits = [\"apple\", \"banana\", \"cherry\"]\n",
    "for x in fruits:\n",
    "  if x == \"banana\":\n",
    "    continue\n",
    "  print(x)"
   ]
  },
  {
   "cell_type": "markdown",
   "id": "017827fd",
   "metadata": {},
   "source": [
    "## The range() Function\n",
    "**To loop through a set of code a specified number of times, we can use the range() function,**\n",
    "**The range() function returns a sequence of numbers, starting from 0 by default, and increments by 1 (by default), and ends at a specified number.**"
   ]
  },
  {
   "cell_type": "markdown",
   "id": "a9eac4b4",
   "metadata": {},
   "source": [
    "###  Example\n",
    "### 9.Using the range() function:\n",
    "\n"
   ]
  },
  {
   "cell_type": "code",
   "execution_count": 10,
   "id": "55791f4c",
   "metadata": {},
   "outputs": [
    {
     "name": "stdout",
     "output_type": "stream",
     "text": [
      "0\n",
      "1\n",
      "2\n",
      "3\n",
      "4\n",
      "5\n"
     ]
    }
   ],
   "source": [
    "for x in range(6):\n",
    "  print(x)"
   ]
  },
  {
   "cell_type": "markdown",
   "id": "819fd06f",
   "metadata": {},
   "source": [
    "**The range() function defaults to 0 as a starting value, however it is possible to specify the starting value by adding a parameter: range(2, 6), which means values from 2 to 6 (but not including 6):**"
   ]
  },
  {
   "cell_type": "markdown",
   "id": "7d589f99",
   "metadata": {},
   "source": [
    "### Example\n",
    "### Using the start parameter:\n",
    "\n"
   ]
  },
  {
   "cell_type": "code",
   "execution_count": 11,
   "id": "009e5e6f",
   "metadata": {},
   "outputs": [
    {
     "name": "stdout",
     "output_type": "stream",
     "text": [
      "2\n",
      "3\n",
      "4\n",
      "5\n"
     ]
    }
   ],
   "source": [
    "for x in range(2, 6):\n",
    "  print(x)"
   ]
  },
  {
   "cell_type": "markdown",
   "id": "0d095e74",
   "metadata": {},
   "source": [
    "**The range() function defaults to increment the sequence by 1, however it is possible to specify the increment value by adding a third parameter: range(2, 30, 3):**"
   ]
  },
  {
   "cell_type": "markdown",
   "id": "1d032a3f",
   "metadata": {},
   "source": [
    "### Example\n",
    "### Increment the sequence with 3 (default is 1):\n",
    "\n"
   ]
  },
  {
   "cell_type": "code",
   "execution_count": 12,
   "id": "f98fbdf5",
   "metadata": {},
   "outputs": [
    {
     "name": "stdout",
     "output_type": "stream",
     "text": [
      "2\n",
      "5\n",
      "8\n",
      "11\n",
      "14\n",
      "17\n",
      "20\n",
      "23\n",
      "26\n",
      "29\n"
     ]
    }
   ],
   "source": [
    "for x in range(2, 30, 3):\n",
    "  print(x)"
   ]
  },
  {
   "cell_type": "markdown",
   "id": "c4c5a1e4",
   "metadata": {},
   "source": [
    "## Else in For Loop\n",
    "**The else keyword in a for loop specifies a block of code to be executed when the loop is finished:**"
   ]
  },
  {
   "cell_type": "markdown",
   "id": "d9850e03",
   "metadata": {},
   "source": [
    "### Example\n",
    "### Print all numbers from 0 to 5, and print a message when the loop has ended:"
   ]
  },
  {
   "cell_type": "code",
   "execution_count": 13,
   "id": "ae441c8f",
   "metadata": {},
   "outputs": [
    {
     "name": "stdout",
     "output_type": "stream",
     "text": [
      "0\n",
      "1\n",
      "2\n",
      "3\n",
      "4\n",
      "5\n",
      "Finally finished!\n"
     ]
    }
   ],
   "source": [
    "for x in range(6):\n",
    "  print(x)\n",
    "else:\n",
    "  print(\"Finally finished!\")\n"
   ]
  },
  {
   "cell_type": "markdown",
   "id": "ae0aec86",
   "metadata": {},
   "source": [
    "### Example\n",
    "### Break the loop when x is 3, and see what happens with the else block:\n",
    "\n"
   ]
  },
  {
   "cell_type": "code",
   "execution_count": 14,
   "id": "020ab9c7",
   "metadata": {},
   "outputs": [
    {
     "name": "stdout",
     "output_type": "stream",
     "text": [
      "0\n",
      "1\n",
      "2\n"
     ]
    }
   ],
   "source": [
    "for x in range(6):\n",
    "  if x == 3: break\n",
    "  print(x)\n",
    "else:\n",
    "  print(\"Finally finished!\")"
   ]
  },
  {
   "cell_type": "markdown",
   "id": "b07628e3",
   "metadata": {},
   "source": [
    "## Nested Loops\n",
    "**A nested loop is a loop inside a loop.**\n",
    "\n",
    "**The \"inner loop\" will be executed one time for each iteration of the \"outer loop\":**"
   ]
  },
  {
   "cell_type": "markdown",
   "id": "d329acd1",
   "metadata": {},
   "source": [
    "### Example\n",
    "### Print each adjective for every fruit:\n",
    "\n"
   ]
  },
  {
   "cell_type": "code",
   "execution_count": 15,
   "id": "7ae411cd",
   "metadata": {},
   "outputs": [
    {
     "name": "stdout",
     "output_type": "stream",
     "text": [
      "red apple\n",
      "red banana\n",
      "red cherry\n",
      "big apple\n",
      "big banana\n",
      "big cherry\n",
      "tasty apple\n",
      "tasty banana\n",
      "tasty cherry\n"
     ]
    }
   ],
   "source": [
    "adj = [\"red\", \"big\", \"tasty\"]\n",
    "fruits = [\"apple\", \"banana\", \"cherry\"]\n",
    "\n",
    "for x in adj:\n",
    "  for y in fruits:\n",
    "    print(x, y)"
   ]
  },
  {
   "cell_type": "markdown",
   "id": "6f1cd312",
   "metadata": {},
   "source": [
    "## The pass Statement\n",
    "**for loops cannot be empty, but if you for some reason have a for loop with no content, put in the pass statement to avoid getting an error.**"
   ]
  },
  {
   "cell_type": "markdown",
   "id": "f282292d",
   "metadata": {},
   "source": [
    "### Example\n"
   ]
  },
  {
   "cell_type": "code",
   "execution_count": 16,
   "id": "caa6a8ef",
   "metadata": {},
   "outputs": [],
   "source": [
    "for x in [0, 1, 2]:\n",
    "  pass"
   ]
  },
  {
   "cell_type": "code",
   "execution_count": null,
   "id": "5db29542",
   "metadata": {},
   "outputs": [],
   "source": []
  }
 ],
 "metadata": {
  "kernelspec": {
   "display_name": "Python 3 (ipykernel)",
   "language": "python",
   "name": "python3"
  },
  "language_info": {
   "codemirror_mode": {
    "name": "ipython",
    "version": 3
   },
   "file_extension": ".py",
   "mimetype": "text/x-python",
   "name": "python",
   "nbconvert_exporter": "python",
   "pygments_lexer": "ipython3",
   "version": "3.10.10"
  }
 },
 "nbformat": 4,
 "nbformat_minor": 5
}
