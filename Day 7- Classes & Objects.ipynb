{
 "cells": [
  {
   "cell_type": "markdown",
   "id": "dfb214fd",
   "metadata": {},
   "source": [
    "# <div style=\"padding:20px;color:white;margin:0;font-size:35px;font-family:Georgia;text-align:left;display:fill;border-radius:5px;background-color:#254E58;overflow:hidden\"><b>Day-7: Objects & Classes</b></div>"
   ]
  },
  {
   "cell_type": "markdown",
   "id": "2ec9a31a",
   "metadata": {},
   "source": [
    "## Python Classes/Objects"
   ]
  },
  {
   "cell_type": "markdown",
   "id": "8b540739",
   "metadata": {},
   "source": [
    "**1.Python is an object oriented programming language.**\n",
    "\n",
    "**2.Almost everything in Python is an object, with its properties and methods.**\n",
    "\n",
    "**3.A Class is like an object constructor, or a \"blueprint\" for creating objects.**"
   ]
  },
  {
   "cell_type": "markdown",
   "id": "b0f446e6",
   "metadata": {},
   "source": [
    "## Create a Class\n",
    "**To create a class, use the keyword class:**"
   ]
  },
  {
   "cell_type": "markdown",
   "id": "0a5b6e0a",
   "metadata": {},
   "source": [
    "## Example\n",
    "**Create a class named MyClass, with a property named x**"
   ]
  },
  {
   "cell_type": "code",
   "execution_count": 1,
   "id": "0596ae2f",
   "metadata": {},
   "outputs": [
    {
     "name": "stdout",
     "output_type": "stream",
     "text": [
      "<class '__main__.MyClass'>\n"
     ]
    }
   ],
   "source": [
    "class MyClass:\n",
    "  x = 5\n",
    "\n",
    "print(MyClass)"
   ]
  },
  {
   "cell_type": "markdown",
   "id": "d191794c",
   "metadata": {},
   "source": [
    "## Create Object\n",
    "**Now we can use the class named MyClass to create objects:**"
   ]
  },
  {
   "cell_type": "markdown",
   "id": "a6935c60",
   "metadata": {},
   "source": [
    "### Example\n",
    "**Create an object named p1, and print the value of x:**"
   ]
  },
  {
   "cell_type": "code",
   "execution_count": 2,
   "id": "cb2bf9fa",
   "metadata": {},
   "outputs": [
    {
     "name": "stdout",
     "output_type": "stream",
     "text": [
      "5\n"
     ]
    }
   ],
   "source": [
    "class MyClass:\n",
    "  x = 5\n",
    "\n",
    "p1 = MyClass()\n",
    "print(p1.x)"
   ]
  },
  {
   "cell_type": "markdown",
   "id": "e01ab927",
   "metadata": {},
   "source": [
    "## The __init__() Function"
   ]
  },
  {
   "cell_type": "markdown",
   "id": "a9c4fe4c",
   "metadata": {},
   "source": [
    "**1.The examples above are classes and objects in their simplest form, and are not really useful in real life applications.**\n",
    "\n",
    "**2.To understand the meaning of classes we have to understand the built-in __init__() function.**\n",
    "\n",
    "**3.All classes have a function called __init__(), which is always executed when the class is being initiated.**\n",
    "\n",
    "**4.Use the __init__() function to assign values to object properties, or other operations that are necessary to do when the object is being created:**"
   ]
  },
  {
   "cell_type": "markdown",
   "id": "d0257ce7",
   "metadata": {},
   "source": [
    "### Example\n",
    "**Create a class named Person, use the __init__() function to assign values for name and age:**"
   ]
  },
  {
   "cell_type": "code",
   "execution_count": 4,
   "id": "c030aeb5",
   "metadata": {},
   "outputs": [
    {
     "name": "stdout",
     "output_type": "stream",
     "text": [
      "Sakshi\n",
      "24\n"
     ]
    }
   ],
   "source": [
    "class Person:\n",
    "  def __init__(self, name, age):\n",
    "    self.name = name\n",
    "    self.age = age\n",
    "\n",
    "p1 = Person(\"Sakshi\", 24)\n",
    "\n",
    "print(p1.name)\n",
    "print(p1.age)"
   ]
  },
  {
   "cell_type": "markdown",
   "id": "58750c57",
   "metadata": {},
   "source": [
    "## The __str__() Function\n",
    "**The __str__() function controls what should be returned when the class object is represented as a string.**\n",
    "\n",
    "**If the __str__() function is not set, the string representation of the object is returned:**"
   ]
  },
  {
   "cell_type": "markdown",
   "id": "313c545a",
   "metadata": {},
   "source": [
    "### Example\n",
    "**The string representation of an object WITHOUT the __str__() function:**"
   ]
  },
  {
   "cell_type": "code",
   "execution_count": 6,
   "id": "e437fbad",
   "metadata": {},
   "outputs": [
    {
     "name": "stdout",
     "output_type": "stream",
     "text": [
      "<__main__.Person object at 0x0000021E6A11B5E0>\n"
     ]
    }
   ],
   "source": [
    "class Person:\n",
    "  def __init__(self, name, age):\n",
    "    self.name = name\n",
    "    self.age = age\n",
    "\n",
    "p1 = Person(\"Sakshi\", 24)\n",
    "\n",
    "print(p1)"
   ]
  },
  {
   "cell_type": "markdown",
   "id": "c79787b6",
   "metadata": {},
   "source": [
    "### Example\n",
    "**The string representation of an object WITH the __str__() function:**"
   ]
  },
  {
   "cell_type": "code",
   "execution_count": 7,
   "id": "e0489be3",
   "metadata": {},
   "outputs": [
    {
     "name": "stdout",
     "output_type": "stream",
     "text": [
      "Sakshi(24)\n"
     ]
    }
   ],
   "source": [
    "class Person:\n",
    "  def __init__(self, name, age):\n",
    "    self.name = name\n",
    "    self.age = age\n",
    "\n",
    "  def __str__(self):\n",
    "    return f\"{self.name}({self.age})\"\n",
    "\n",
    "p1 = Person(\"Sakshi\", 24)\n",
    "\n",
    "print(p1)"
   ]
  },
  {
   "cell_type": "markdown",
   "id": "754f4363",
   "metadata": {},
   "source": [
    "# Object Methods\n",
    "**Objects can also contain methods. Methods in objects are functions that belong to the object.**\n",
    "\n",
    "### Let us create a method in the Person class:"
   ]
  },
  {
   "cell_type": "markdown",
   "id": "505af9ac",
   "metadata": {},
   "source": [
    "### Example\n",
    "**Insert a function that prints a greeting, and execute it on the p1 object:**"
   ]
  },
  {
   "cell_type": "code",
   "execution_count": 8,
   "id": "f442a32a",
   "metadata": {},
   "outputs": [
    {
     "name": "stdout",
     "output_type": "stream",
     "text": [
      "Hello my name is Sakshi\n"
     ]
    }
   ],
   "source": [
    "class Person:\n",
    "  def __init__(self, name, age):\n",
    "    self.name = name\n",
    "    self.age = age\n",
    "\n",
    "  def myfunc(self):\n",
    "    print(\"Hello my name is \" + self.name)\n",
    "\n",
    "p1 = Person(\"Sakshi\", 24)\n",
    "p1.myfunc()"
   ]
  },
  {
   "cell_type": "markdown",
   "id": "be47dc14",
   "metadata": {},
   "source": [
    "**Note**: The self parameter is a reference to the current instance of the class, and is used to access variables that belong to the class."
   ]
  },
  {
   "cell_type": "markdown",
   "id": "afc2f20f",
   "metadata": {},
   "source": [
    "## The self Parameter\n",
    "**The self parameter is a reference to the current instance of the class, and is used to access variables that belongs to the class.**\n",
    "\n",
    "**It does not have to be named self , you can call it whatever you like, but it has to be the first parameter of any function in the class:**"
   ]
  },
  {
   "cell_type": "markdown",
   "id": "aafc3c05",
   "metadata": {},
   "source": [
    "### Example\n",
    "**Use the words mysillyobject and abc instead of self:**"
   ]
  },
  {
   "cell_type": "code",
   "execution_count": 9,
   "id": "5bc05c96",
   "metadata": {},
   "outputs": [
    {
     "name": "stdout",
     "output_type": "stream",
     "text": [
      "Hello my name is Sakshi\n"
     ]
    }
   ],
   "source": [
    "class Person:\n",
    "  def __init__(mysillyobject, name, age):\n",
    "    mysillyobject.name = name\n",
    "    mysillyobject.age = age\n",
    "\n",
    "  def myfunc(abc):\n",
    "    print(\"Hello my name is \" + abc.name)\n",
    "\n",
    "p1 = Person(\"Sakshi\", 24)\n",
    "p1.myfunc()"
   ]
  },
  {
   "cell_type": "markdown",
   "id": "c1f4872b",
   "metadata": {},
   "source": [
    "## Modify Object Properties\n",
    "**You can modify properties on objects like this:**"
   ]
  },
  {
   "cell_type": "markdown",
   "id": "fa355b84",
   "metadata": {},
   "source": [
    "### Example\n",
    "**Set the age of p1 to 40:**"
   ]
  },
  {
   "cell_type": "code",
   "execution_count": null,
   "id": "c983893b",
   "metadata": {},
   "outputs": [],
   "source": []
  }
 ],
 "metadata": {
  "kernelspec": {
   "display_name": "Python 3 (ipykernel)",
   "language": "python",
   "name": "python3"
  },
  "language_info": {
   "codemirror_mode": {
    "name": "ipython",
    "version": 3
   },
   "file_extension": ".py",
   "mimetype": "text/x-python",
   "name": "python",
   "nbconvert_exporter": "python",
   "pygments_lexer": "ipython3",
   "version": "3.10.10"
  }
 },
 "nbformat": 4,
 "nbformat_minor": 5
}
