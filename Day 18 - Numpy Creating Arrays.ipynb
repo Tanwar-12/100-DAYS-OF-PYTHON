{
 "cells": [
  {
   "cell_type": "markdown",
   "id": "2e601bc0",
   "metadata": {},
   "source": [
    "# <div style=\"padding:20px;color:white;margin:0;font-size:35px;font-family:Georgia;text-align:left;display:fill;border-radius:5px;background-color:#254E58;overflow:hidden\"><b> Day 18- Numpy Creating Arrays</b>"
   ]
  },
  {
   "cell_type": "markdown",
   "id": "de88338c",
   "metadata": {},
   "source": [
    "# NumPy Creating Arrays"
   ]
  },
  {
   "cell_type": "markdown",
   "id": "24a93b63",
   "metadata": {},
   "source": [
    "# Create a NumPy ndarray Object"
   ]
  },
  {
   "cell_type": "markdown",
   "id": "6ffd521d",
   "metadata": {},
   "source": [
    "* NumPy is used to work with arrays. The array object in NumPy is called ndarray.\n",
    "\n",
    "* We can create a NumPy ndarray object by using the array() function."
   ]
  },
  {
   "cell_type": "markdown",
   "id": "1202bbf9",
   "metadata": {},
   "source": [
    "## Example"
   ]
  },
  {
   "cell_type": "code",
   "execution_count": 1,
   "id": "106bf175",
   "metadata": {},
   "outputs": [
    {
     "name": "stdout",
     "output_type": "stream",
     "text": [
      "[1 2 3 4 5]\n",
      "<class 'numpy.ndarray'>\n"
     ]
    }
   ],
   "source": [
    "import numpy as np\n",
    "\n",
    "arr = np.array([1, 2, 3, 4, 5])\n",
    "\n",
    "print(arr)\n",
    "\n",
    "print(type(arr))"
   ]
  },
  {
   "cell_type": "markdown",
   "id": "fc0fdab3",
   "metadata": {},
   "source": [
    "**type()**: This built-in Python function tells us the type of the object passed to it. Like in above code it shows that arr is numpy.ndarray type."
   ]
  },
  {
   "cell_type": "markdown",
   "id": "6095c662",
   "metadata": {},
   "source": [
    "**To create an ndarray, we can pass a list, tuple or any array-like object into the array() method, and it will be converted into an ndarray:**"
   ]
  },
  {
   "cell_type": "markdown",
   "id": "ce68f075",
   "metadata": {},
   "source": [
    "### Example\n",
    "**Use a tuple to create a NumPy array:**"
   ]
  },
  {
   "cell_type": "code",
   "execution_count": 2,
   "id": "41aa039a",
   "metadata": {},
   "outputs": [
    {
     "name": "stdout",
     "output_type": "stream",
     "text": [
      "[1 2 3 4 5]\n"
     ]
    }
   ],
   "source": [
    "import numpy as np\n",
    "\n",
    "arr = np.array((1, 2, 3, 4, 5))\n",
    "\n",
    "print(arr)\n"
   ]
  },
  {
   "cell_type": "markdown",
   "id": "e4b3dbde",
   "metadata": {},
   "source": [
    "### Dimensions in Arrays\n",
    "* A dimension in arrays is one level of array depth (nested arrays)."
   ]
  },
  {
   "cell_type": "markdown",
   "id": "39c54619",
   "metadata": {},
   "source": [
    "### 0-D Arrays"
   ]
  },
  {
   "cell_type": "markdown",
   "id": "e9624275",
   "metadata": {},
   "source": [
    "* 0-D arrays, or Scalars, are the elements in an array. Each value in an array is a 0-D array."
   ]
  },
  {
   "cell_type": "markdown",
   "id": "53e66d2a",
   "metadata": {},
   "source": [
    "### Example\n",
    "**Create a 0-D array with value 42**"
   ]
  },
  {
   "cell_type": "code",
   "execution_count": 3,
   "id": "b6c07634",
   "metadata": {},
   "outputs": [
    {
     "name": "stdout",
     "output_type": "stream",
     "text": [
      "42\n"
     ]
    }
   ],
   "source": [
    "import numpy as np\n",
    "\n",
    "arr = np.array(42)\n",
    "\n",
    "print(arr)"
   ]
  },
  {
   "cell_type": "markdown",
   "id": "439c422f",
   "metadata": {},
   "source": [
    "### 1-D Arrays\n",
    "* An array that has 0-D arrays as its elements is called uni-dimensional or 1-D array.\n",
    "\n",
    "* These are the most common and basic arrays."
   ]
  },
  {
   "cell_type": "markdown",
   "id": "8e480e80",
   "metadata": {},
   "source": [
    "### Example\n",
    "**Create a 1-D array containing the values 1,2,3,4,5:**"
   ]
  },
  {
   "cell_type": "code",
   "execution_count": 4,
   "id": "8f3a55b9",
   "metadata": {},
   "outputs": [
    {
     "name": "stdout",
     "output_type": "stream",
     "text": [
      "[1 2 3 4 5]\n"
     ]
    }
   ],
   "source": [
    "import numpy as np\n",
    "\n",
    "arr = np.array([1, 2, 3, 4, 5])\n",
    "\n",
    "print(arr)"
   ]
  },
  {
   "cell_type": "markdown",
   "id": "370d1b9c",
   "metadata": {},
   "source": [
    "### 2-D Arrays\n",
    "* An array that has 1-D arrays as its elements is called a 2-D array.\n",
    "\n",
    "* These are often used to represent matrix or 2nd order tensors."
   ]
  },
  {
   "cell_type": "markdown",
   "id": "7750d7fb",
   "metadata": {},
   "source": [
    "### Example\n",
    "**Create a 2-D array containing two arrays with the values 1,2,3 and 4,5,6:**"
   ]
  },
  {
   "cell_type": "code",
   "execution_count": 5,
   "id": "fb466028",
   "metadata": {},
   "outputs": [
    {
     "name": "stdout",
     "output_type": "stream",
     "text": [
      "[[1 2 3]\n",
      " [4 5 6]]\n"
     ]
    }
   ],
   "source": [
    "import numpy as np\n",
    "\n",
    "arr = np.array([[1, 2, 3], [4, 5, 6]])\n",
    "\n",
    "print(arr)"
   ]
  },
  {
   "cell_type": "markdown",
   "id": "8a7c5e33",
   "metadata": {},
   "source": [
    "### 3-D arrays\n",
    "* An array that has 2-D arrays (matrices) as its elements is called 3-D array.\n",
    "\n",
    "* These are often used to represent a 3rd order tensor."
   ]
  },
  {
   "cell_type": "markdown",
   "id": "002f687a",
   "metadata": {},
   "source": [
    "### Example\n",
    "**Create a 3-D array with two 2-D arrays, both containing two arrays with the values 1,2,3 and 4,5,6:**"
   ]
  },
  {
   "cell_type": "code",
   "execution_count": 6,
   "id": "7ad4ee3d",
   "metadata": {},
   "outputs": [
    {
     "name": "stdout",
     "output_type": "stream",
     "text": [
      "[[[1 2 3]\n",
      "  [4 5 6]]\n",
      "\n",
      " [[1 2 3]\n",
      "  [4 5 6]]]\n"
     ]
    }
   ],
   "source": [
    "import numpy as np\n",
    "\n",
    "arr = np.array([[[1, 2, 3], [4, 5, 6]], [[1, 2, 3], [4, 5, 6]]])\n",
    "\n",
    "print(arr)"
   ]
  },
  {
   "cell_type": "markdown",
   "id": "241e7c94",
   "metadata": {},
   "source": [
    "### Check Number of Dimensions?\n",
    "* NumPy Arrays provides the ndim attribute that returns an integer that tells us how many dimensions the array have."
   ]
  },
  {
   "cell_type": "markdown",
   "id": "4e914673",
   "metadata": {},
   "source": [
    "### Example\n",
    "**Check how many dimensions the arrays have:**"
   ]
  },
  {
   "cell_type": "code",
   "execution_count": 7,
   "id": "40461a56",
   "metadata": {},
   "outputs": [
    {
     "name": "stdout",
     "output_type": "stream",
     "text": [
      "0\n",
      "1\n",
      "2\n",
      "3\n"
     ]
    }
   ],
   "source": [
    "import numpy as np\n",
    "\n",
    "a = np.array(42)\n",
    "b = np.array([1, 2, 3, 4, 5])\n",
    "c = np.array([[1, 2, 3], [4, 5, 6]])\n",
    "d = np.array([[[1, 2, 3], [4, 5, 6]], [[1, 2, 3], [4, 5, 6]]])\n",
    "\n",
    "print(a.ndim)\n",
    "print(b.ndim)\n",
    "print(c.ndim)\n",
    "print(d.ndim)"
   ]
  },
  {
   "cell_type": "markdown",
   "id": "e1526621",
   "metadata": {},
   "source": [
    "### Higher Dimensional Arrays\n",
    "* An array can have any number of dimensions.\n",
    "\n",
    "* When the array is created, you can define the number of dimensions by using the ndmin argument."
   ]
  },
  {
   "cell_type": "markdown",
   "id": "6fccbe43",
   "metadata": {},
   "source": [
    "### Example\n",
    "**Create an array with 5 dimensions and verify that it has 5 dimensions:**"
   ]
  },
  {
   "cell_type": "code",
   "execution_count": 8,
   "id": "cb7d4de0",
   "metadata": {},
   "outputs": [
    {
     "name": "stdout",
     "output_type": "stream",
     "text": [
      "[[[[[1 2 3 4]]]]]\n",
      "number of dimensions : 5\n"
     ]
    }
   ],
   "source": [
    "import numpy as np\n",
    "\n",
    "arr = np.array([1, 2, 3, 4], ndmin=5)\n",
    "\n",
    "print(arr)\n",
    "print('number of dimensions :', arr.ndim)\n"
   ]
  },
  {
   "cell_type": "markdown",
   "id": "e8eba8fe",
   "metadata": {},
   "source": [
    "**In this array the innermost dimension (5th dim) has 4 elements, the 4th dim has 1 element that is the vector, the 3rd dim has 1 element that is the matrix with the vector, the 2nd dim has 1 element that is 3D array and 1st dim has 1 element that is a 4D array.**\n",
    "\n"
   ]
  },
  {
   "cell_type": "code",
   "execution_count": null,
   "id": "05e68b07",
   "metadata": {},
   "outputs": [],
   "source": []
  }
 ],
 "metadata": {
  "kernelspec": {
   "display_name": "Python 3 (ipykernel)",
   "language": "python",
   "name": "python3"
  },
  "language_info": {
   "codemirror_mode": {
    "name": "ipython",
    "version": 3
   },
   "file_extension": ".py",
   "mimetype": "text/x-python",
   "name": "python",
   "nbconvert_exporter": "python",
   "pygments_lexer": "ipython3",
   "version": "3.10.13"
  }
 },
 "nbformat": 4,
 "nbformat_minor": 5
}
