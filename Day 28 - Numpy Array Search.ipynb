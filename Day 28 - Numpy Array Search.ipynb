{
 "cells": [
  {
   "cell_type": "markdown",
   "id": "79ec1602",
   "metadata": {},
   "source": [
    "# <div style=\"padding:20px;color:white;margin:0;font-size:35px;font-family:Georgia;text-align:left;display:fill;border-radius:5px;background-color:#254E58;overflow:hidden\"><b> Day 28- Numpy Array Searching   </b>"
   ]
  },
  {
   "cell_type": "markdown",
   "id": "061cbc2e",
   "metadata": {},
   "source": [
    "## Searching Arrays"
   ]
  },
  {
   "cell_type": "markdown",
   "id": "cdab9a01",
   "metadata": {},
   "source": [
    "**You can search an array for a certain value, and return the indexes that get a match.**\n",
    "\n",
    "**To search an array, use the where() method.**"
   ]
  },
  {
   "cell_type": "markdown",
   "id": "ce627e98",
   "metadata": {},
   "source": [
    "#### Example\n",
    "**Find the indexes where the value is 4:**"
   ]
  },
  {
   "cell_type": "code",
   "execution_count": 1,
   "id": "d9a3ceda",
   "metadata": {},
   "outputs": [
    {
     "name": "stdout",
     "output_type": "stream",
     "text": [
      "(array([3, 5, 6], dtype=int64),)\n"
     ]
    }
   ],
   "source": [
    "import numpy as np\n",
    "\n",
    "arr = np.array([1, 2, 3, 4, 5, 4, 4])\n",
    "\n",
    "x = np.where(arr == 4)\n",
    "\n",
    "print(x)"
   ]
  },
  {
   "cell_type": "markdown",
   "id": "c120c4db",
   "metadata": {},
   "source": [
    "* The example above will return a tuple: (array([3, 5, 6],)\n",
    "\n",
    "* Which means that the value 4 is present at index 3, 5, and 6."
   ]
  },
  {
   "cell_type": "markdown",
   "id": "ba7622b9",
   "metadata": {},
   "source": [
    "**Example**\n",
    "\n",
    "**Find the indexes where the values are even:**"
   ]
  },
  {
   "cell_type": "code",
   "execution_count": 4,
   "id": "2d4de61c",
   "metadata": {},
   "outputs": [
    {
     "name": "stdout",
     "output_type": "stream",
     "text": [
      "(array([1, 3, 5, 7], dtype=int64),)\n"
     ]
    }
   ],
   "source": [
    "import numpy as np\n",
    "\n",
    "arr = np.array([1, 2, 3, 4, 5, 6, 7, 8])\n",
    "\n",
    "x = np.where(arr%2 == 0)\n",
    "\n",
    "print(x)"
   ]
  },
  {
   "cell_type": "markdown",
   "id": "505f0c30",
   "metadata": {},
   "source": [
    "**Example**\n",
    "\n",
    "**Find the indexes where the values are odd:**"
   ]
  },
  {
   "cell_type": "code",
   "execution_count": 3,
   "id": "3dae61de",
   "metadata": {},
   "outputs": [
    {
     "name": "stdout",
     "output_type": "stream",
     "text": [
      "(array([0, 2, 4, 6], dtype=int64),)\n"
     ]
    }
   ],
   "source": [
    "import numpy as np\n",
    "\n",
    "arr = np.array([1, 2, 3, 4, 5, 6, 7, 8])\n",
    "\n",
    "x = np.where(arr%2 == 1)\n",
    "\n",
    "print(x)"
   ]
  },
  {
   "cell_type": "markdown",
   "id": "63877e6a",
   "metadata": {},
   "source": [
    "### Search Sorted"
   ]
  },
  {
   "cell_type": "markdown",
   "id": "4afd468c",
   "metadata": {},
   "source": [
    "**There is a method called searchsorted() which performs a binary search in the array, and returns the index where the specified value would be inserted to maintain the search order.**\n",
    "\n",
    "**The searchsorted() method is assumed to be used on sorted arrays.**"
   ]
  },
  {
   "cell_type": "markdown",
   "id": "38905566",
   "metadata": {},
   "source": [
    "**Example**\n",
    "\n",
    "**Find the indexes where the value 7 should be inserted:**"
   ]
  },
  {
   "cell_type": "code",
   "execution_count": 6,
   "id": "d32e286d",
   "metadata": {},
   "outputs": [
    {
     "name": "stdout",
     "output_type": "stream",
     "text": [
      "1\n"
     ]
    }
   ],
   "source": [
    "import numpy as np\n",
    "\n",
    "arr = np.array([6, 7, 8, 9])\n",
    "\n",
    "x = np.searchsorted(arr, 7)\n",
    "\n",
    "print(x)"
   ]
  },
  {
   "cell_type": "markdown",
   "id": "61c9ed76",
   "metadata": {},
   "source": [
    "* Example explained: The number 7 should be inserted on index 1 to remain the sort order.\n",
    "\n",
    "* The method starts the search from the left and returns the first index where the number 7 is no longer larger than the next value."
   ]
  },
  {
   "cell_type": "markdown",
   "id": "e5b9e65b",
   "metadata": {},
   "source": [
    "### Search From the Right Side\n",
    "**By default the left most index is returned, but we can give side='right' to return the right most index instead.**"
   ]
  },
  {
   "cell_type": "markdown",
   "id": "5e45d7f4",
   "metadata": {},
   "source": [
    "#### Example\n",
    "**Find the indexes where the value 7 should be inserted, starting from the right:**"
   ]
  },
  {
   "cell_type": "code",
   "execution_count": 7,
   "id": "2d7461c4",
   "metadata": {},
   "outputs": [
    {
     "name": "stdout",
     "output_type": "stream",
     "text": [
      "2\n"
     ]
    }
   ],
   "source": [
    "import numpy as np\n",
    "\n",
    "arr = np.array([6, 7, 8, 9])\n",
    "\n",
    "x = np.searchsorted(arr, 7, side='right')\n",
    "\n",
    "print(x)"
   ]
  },
  {
   "cell_type": "markdown",
   "id": "a95ca313",
   "metadata": {},
   "source": [
    "* Example explained: The number 7 should be inserted on index 2 to remain the sort order.\n",
    "\n",
    "* The method starts the search from the right and returns the first index where the number 7 is no longer less than the next value."
   ]
  },
  {
   "cell_type": "markdown",
   "id": "c073bdb7",
   "metadata": {},
   "source": [
    "### Multiple Values\n",
    "**To search for more than one value, use an array with the specified values.**"
   ]
  },
  {
   "cell_type": "markdown",
   "id": "75dd72a8",
   "metadata": {},
   "source": [
    "### Example\n",
    "**Find the indexes where the values 2, 4, and 6 should be inserted:**"
   ]
  },
  {
   "cell_type": "code",
   "execution_count": 8,
   "id": "a5b499b9",
   "metadata": {},
   "outputs": [
    {
     "name": "stdout",
     "output_type": "stream",
     "text": [
      "[1 2 3]\n"
     ]
    }
   ],
   "source": [
    "import numpy as np\n",
    "\n",
    "arr = np.array([1, 3, 5, 7])\n",
    "\n",
    "x = np.searchsorted(arr, [2, 4, 6])\n",
    "\n",
    "print(x)"
   ]
  },
  {
   "cell_type": "markdown",
   "id": "a1ae33f5",
   "metadata": {},
   "source": [
    "**The return value is an array: [1 2 3] containing the three indexes where 2, 4, 6 would be inserted in the original array to maintain the order.**"
   ]
  },
  {
   "cell_type": "code",
   "execution_count": null,
   "id": "80c35ec7",
   "metadata": {},
   "outputs": [],
   "source": []
  }
 ],
 "metadata": {
  "kernelspec": {
   "display_name": "Python 3 (ipykernel)",
   "language": "python",
   "name": "python3"
  },
  "language_info": {
   "codemirror_mode": {
    "name": "ipython",
    "version": 3
   },
   "file_extension": ".py",
   "mimetype": "text/x-python",
   "name": "python",
   "nbconvert_exporter": "python",
   "pygments_lexer": "ipython3",
   "version": "3.10.13"
  }
 },
 "nbformat": 4,
 "nbformat_minor": 5
}
