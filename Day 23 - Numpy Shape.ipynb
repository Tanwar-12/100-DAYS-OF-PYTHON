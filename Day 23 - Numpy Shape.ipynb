{
 "cells": [
  {
   "cell_type": "markdown",
   "id": "ac8b2425",
   "metadata": {},
   "source": [
    "# <div style=\"padding:20px;color:white;margin:0;font-size:35px;font-family:Georgia;text-align:left;display:fill;border-radius:5px;background-color:#254E58;overflow:hidden\"><b> Day 23- Numpy Shape </b>"
   ]
  },
  {
   "cell_type": "markdown",
   "id": "cffedf5e",
   "metadata": {},
   "source": [
    "## Shape of an Array"
   ]
  },
  {
   "cell_type": "markdown",
   "id": "98e5593f",
   "metadata": {},
   "source": [
    "**The shape of an array is the number of elements in each dimension.**\n",
    "\n"
   ]
  },
  {
   "cell_type": "markdown",
   "id": "b89b97d7",
   "metadata": {},
   "source": [
    "## Get the Shape of an Array"
   ]
  },
  {
   "cell_type": "markdown",
   "id": "76ee11e8",
   "metadata": {},
   "source": [
    "**Numpy arrays have an attribute called shape that returns a tuple with each index having the number of corresponding elements**"
   ]
  },
  {
   "cell_type": "markdown",
   "id": "2b32388f",
   "metadata": {},
   "source": [
    "### Example\n",
    "**Print the shape of a 2-D array:**"
   ]
  },
  {
   "cell_type": "code",
   "execution_count": 1,
   "id": "88b0b49c",
   "metadata": {},
   "outputs": [
    {
     "name": "stdout",
     "output_type": "stream",
     "text": [
      "(2, 4)\n"
     ]
    }
   ],
   "source": [
    "import numpy as np\n",
    "\n",
    "arr = np.array([[1, 2, 3, 4], [5, 6, 7, 8]])\n",
    "\n",
    "print(arr.shape)"
   ]
  },
  {
   "cell_type": "markdown",
   "id": "cffe381c",
   "metadata": {},
   "source": [
    "**The example above returns (2, 4), which means that the array has 2 dimensions, where the first dimension has 2 elements and the second has 4.**"
   ]
  },
  {
   "cell_type": "markdown",
   "id": "5642a50f",
   "metadata": {},
   "source": [
    "### Example\n",
    "**Create an array with 5 dimensions using ndmin using a vector with values 1,2,3,4 and verify that last dimension has value 4:**"
   ]
  },
  {
   "cell_type": "code",
   "execution_count": 2,
   "id": "7e56c0e2",
   "metadata": {},
   "outputs": [
    {
     "name": "stdout",
     "output_type": "stream",
     "text": [
      "[[[[[1 2 3 4]]]]]\n",
      "shape of array : (1, 1, 1, 1, 4)\n"
     ]
    }
   ],
   "source": [
    "import numpy as np\n",
    "\n",
    "arr = np.array([1, 2, 3, 4], ndmin=5)\n",
    "\n",
    "print(arr)\n",
    "print('shape of array :', arr.shape)"
   ]
  },
  {
   "cell_type": "markdown",
   "id": "1ff233a6",
   "metadata": {},
   "source": [
    "### What does the shape tuple represent?"
   ]
  },
  {
   "cell_type": "markdown",
   "id": "d86d3986",
   "metadata": {},
   "source": [
    "**Integers at every index tells about the number of elements the corresponding dimension has.**\n",
    "\n",
    "**In the example above at index-4 we have value 4, so we can say that 5th ( 4 + 1 th) dimension has 4 elements.**"
   ]
  },
  {
   "cell_type": "code",
   "execution_count": null,
   "id": "2183708c",
   "metadata": {},
   "outputs": [],
   "source": []
  }
 ],
 "metadata": {
  "kernelspec": {
   "display_name": "Python 3 (ipykernel)",
   "language": "python",
   "name": "python3"
  },
  "language_info": {
   "codemirror_mode": {
    "name": "ipython",
    "version": 3
   },
   "file_extension": ".py",
   "mimetype": "text/x-python",
   "name": "python",
   "nbconvert_exporter": "python",
   "pygments_lexer": "ipython3",
   "version": "3.10.13"
  }
 },
 "nbformat": 4,
 "nbformat_minor": 5
}
