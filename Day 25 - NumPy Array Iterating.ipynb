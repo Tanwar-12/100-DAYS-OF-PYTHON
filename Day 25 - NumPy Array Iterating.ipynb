{
 "cells": [
  {
   "cell_type": "markdown",
   "id": "3110abc8",
   "metadata": {},
   "source": [
    "# <div style=\"padding:20px;color:white;margin:0;font-size:35px;font-family:Georgia;text-align:left;display:fill;border-radius:5px;background-color:#254E58;overflow:hidden\"><b> Day 25- Numpy Array Iterating </b>"
   ]
  },
  {
   "cell_type": "markdown",
   "id": "60f7bca7",
   "metadata": {},
   "source": [
    "## Iterating Arrays"
   ]
  },
  {
   "cell_type": "markdown",
   "id": "6a8821bd",
   "metadata": {},
   "source": [
    "* Iterating means going through elements one by one.\n",
    "\n",
    "* As we deal with multi-dimensional arrays in numpy, we can do this using basic for loop of python.\n",
    "\n",
    "* If we iterate on a 1-D array it will go through each element one by one."
   ]
  },
  {
   "cell_type": "markdown",
   "id": "2bb5a69e",
   "metadata": {},
   "source": [
    "### Example\n",
    "**Iterate on the elements of the following 1-D array:**"
   ]
  },
  {
   "cell_type": "code",
   "execution_count": 1,
   "id": "7a148331",
   "metadata": {},
   "outputs": [
    {
     "name": "stdout",
     "output_type": "stream",
     "text": [
      "1\n",
      "2\n",
      "3\n"
     ]
    }
   ],
   "source": [
    "import numpy as np\n",
    "\n",
    "arr = np.array([1, 2, 3])\n",
    "\n",
    "for x in arr:\n",
    "  print(x)"
   ]
  },
  {
   "cell_type": "markdown",
   "id": "f953dc0e",
   "metadata": {},
   "source": [
    "### Iterating 2-D Arrays\n",
    "**In a 2-D array it will go through all the rows.**"
   ]
  },
  {
   "cell_type": "markdown",
   "id": "fd5c117c",
   "metadata": {},
   "source": [
    "### Example\n",
    "**Iterate on the elements of the following 2-D array:**"
   ]
  },
  {
   "cell_type": "code",
   "execution_count": 2,
   "id": "85a8dd98",
   "metadata": {},
   "outputs": [
    {
     "name": "stdout",
     "output_type": "stream",
     "text": [
      "[1 2 3]\n",
      "[4 5 6]\n"
     ]
    }
   ],
   "source": [
    "import numpy as np\n",
    "\n",
    "arr = np.array([[1, 2, 3], [4, 5, 6]])\n",
    "\n",
    "for x in arr:\n",
    "  print(x)"
   ]
  },
  {
   "cell_type": "markdown",
   "id": "a8b69cda",
   "metadata": {},
   "source": [
    "* To return the actual values, the scalars, we have to iterate the arrays in each dimension."
   ]
  },
  {
   "cell_type": "markdown",
   "id": "31546b52",
   "metadata": {},
   "source": [
    "### Example\n",
    "**Iterate on each scalar element of the 2-D array:**"
   ]
  },
  {
   "cell_type": "code",
   "execution_count": 3,
   "id": "c3ba0d97",
   "metadata": {},
   "outputs": [
    {
     "name": "stdout",
     "output_type": "stream",
     "text": [
      "1\n",
      "2\n",
      "3\n",
      "4\n",
      "5\n",
      "6\n"
     ]
    }
   ],
   "source": [
    "import numpy as np\n",
    "\n",
    "arr = np.array([[1, 2, 3], [4, 5, 6]])\n",
    "\n",
    "for x in arr:\n",
    "  for y in x:\n",
    "    print(y)"
   ]
  },
  {
   "cell_type": "markdown",
   "id": "2340b8ab",
   "metadata": {},
   "source": [
    "### Iterating 3-D Arrays\n",
    "**In a 3-D array it will go through all the 2-D arrays.**"
   ]
  },
  {
   "cell_type": "markdown",
   "id": "e4bd3cfe",
   "metadata": {},
   "source": [
    "### Example\n",
    "**Iterate on the elements of the following 3-D array:**"
   ]
  },
  {
   "cell_type": "code",
   "execution_count": 4,
   "id": "1f2ec4f6",
   "metadata": {},
   "outputs": [
    {
     "name": "stdout",
     "output_type": "stream",
     "text": [
      "[[1 2 3]\n",
      " [4 5 6]]\n",
      "[[ 7  8  9]\n",
      " [10 11 12]]\n"
     ]
    }
   ],
   "source": [
    "import numpy as np\n",
    "\n",
    "arr = np.array([[[1, 2, 3], [4, 5, 6]], [[7, 8, 9], [10, 11, 12]]])\n",
    "\n",
    "for x in arr:\n",
    "  print(x)"
   ]
  },
  {
   "cell_type": "markdown",
   "id": "43bdf1e0",
   "metadata": {},
   "source": [
    "* To return the actual values, the scalars, we have to iterate the arrays in each dimension."
   ]
  },
  {
   "cell_type": "markdown",
   "id": "8c2bde3f",
   "metadata": {},
   "source": [
    "### Example\n",
    "**Iterate down to the scalars:**"
   ]
  },
  {
   "cell_type": "code",
   "execution_count": 5,
   "id": "0f30cf5e",
   "metadata": {},
   "outputs": [
    {
     "name": "stdout",
     "output_type": "stream",
     "text": [
      "1\n",
      "2\n",
      "3\n",
      "4\n",
      "5\n",
      "6\n",
      "7\n",
      "8\n",
      "9\n",
      "10\n",
      "11\n",
      "12\n"
     ]
    }
   ],
   "source": [
    "import numpy as np\n",
    "\n",
    "arr = np.array([[[1, 2, 3], [4, 5, 6]], [[7, 8, 9], [10, 11, 12]]])\n",
    "\n",
    "for x in arr:\n",
    "  for y in x:\n",
    "    for z in y:\n",
    "      print(z)"
   ]
  },
  {
   "cell_type": "markdown",
   "id": "f04f26e8",
   "metadata": {},
   "source": [
    "### Iterating Arrays Using nditer()\n",
    "* The function nditer() is a helping function that can be used from very basic to very advanced iterations. It solves some basic issues which we face in iteration, lets go through it with examples.\n",
    "\n",
    "### Iterating on Each Scalar Element\n",
    "* In basic for loops, iterating through each scalar of an array we need to use n for loops which can be difficult to write for arrays with very high dimensionality."
   ]
  },
  {
   "cell_type": "markdown",
   "id": "c067e169",
   "metadata": {},
   "source": [
    "### Example\n",
    "**Iterate through the following 3-D array:**"
   ]
  },
  {
   "cell_type": "code",
   "execution_count": 6,
   "id": "08d34bdb",
   "metadata": {},
   "outputs": [
    {
     "name": "stdout",
     "output_type": "stream",
     "text": [
      "1\n",
      "2\n",
      "3\n",
      "4\n",
      "5\n",
      "6\n",
      "7\n",
      "8\n"
     ]
    }
   ],
   "source": [
    "import numpy as np\n",
    "\n",
    "arr = np.array([[[1, 2], [3, 4]], [[5, 6], [7, 8]]])\n",
    "\n",
    "for x in np.nditer(arr):\n",
    "  print(x)"
   ]
  },
  {
   "cell_type": "markdown",
   "id": "8015f3ed",
   "metadata": {},
   "source": [
    "### Iterating Array With Different Data Types\n",
    "* We can use op_dtypes argument and pass it the expected datatype to change the datatype of elements while iterating.\n",
    "\n",
    "* NumPy does not change the data type of the element in-place (where the element is in array) so it needs some other space to perform this action, that extra space is called buffer, and in order to enable it in nditer() we pass flags=['buffered']."
   ]
  },
  {
   "cell_type": "markdown",
   "id": "dd424e6a",
   "metadata": {},
   "source": [
    "### Example\n",
    "**Iterate through the array as a string:**"
   ]
  },
  {
   "cell_type": "code",
   "execution_count": 7,
   "id": "9ace61bc",
   "metadata": {},
   "outputs": [
    {
     "name": "stdout",
     "output_type": "stream",
     "text": [
      "b'1'\n",
      "b'2'\n",
      "b'3'\n"
     ]
    }
   ],
   "source": [
    "import numpy as np\n",
    "\n",
    "arr = np.array([1, 2, 3])\n",
    "\n",
    "for x in np.nditer(arr, flags=['buffered'], op_dtypes=['S']):\n",
    "  print(x)"
   ]
  },
  {
   "cell_type": "markdown",
   "id": "bcbe73bf",
   "metadata": {},
   "source": [
    "### Iterating With Different Step Size\n",
    "* We can use filtering and followed by iteration."
   ]
  },
  {
   "cell_type": "markdown",
   "id": "953839eb",
   "metadata": {},
   "source": [
    "### Example\n",
    "**Iterate through every scalar element of the 2D array skipping 1 element:**"
   ]
  },
  {
   "cell_type": "code",
   "execution_count": 8,
   "id": "ce284849",
   "metadata": {},
   "outputs": [
    {
     "name": "stdout",
     "output_type": "stream",
     "text": [
      "1\n",
      "3\n",
      "5\n",
      "7\n"
     ]
    }
   ],
   "source": [
    "import numpy as np\n",
    "\n",
    "arr = np.array([[1, 2, 3, 4], [5, 6, 7, 8]])\n",
    "\n",
    "for x in np.nditer(arr[:, ::2]):\n",
    "  print(x)"
   ]
  },
  {
   "cell_type": "markdown",
   "id": "15931a62",
   "metadata": {},
   "source": [
    "### Enumerated Iteration Using ndenumerate()\n",
    "* Enumeration means mentioning sequence number of somethings one by one.\n",
    "\n",
    "* Sometimes we require corresponding index of the element while iterating, the ndenumerate() method can be used for those usecases."
   ]
  },
  {
   "cell_type": "markdown",
   "id": "f0530338",
   "metadata": {},
   "source": [
    "### Example\n",
    "**Enumerate on following 1D arrays elements:**"
   ]
  },
  {
   "cell_type": "code",
   "execution_count": 9,
   "id": "3e960205",
   "metadata": {},
   "outputs": [
    {
     "name": "stdout",
     "output_type": "stream",
     "text": [
      "(0,) 1\n",
      "(1,) 2\n",
      "(2,) 3\n"
     ]
    }
   ],
   "source": [
    "import numpy as np\n",
    "\n",
    "arr = np.array([1, 2, 3])\n",
    "\n",
    "for idx, x in np.ndenumerate(arr):\n",
    "  print(idx, x)"
   ]
  },
  {
   "cell_type": "markdown",
   "id": "a1f13ca6",
   "metadata": {},
   "source": [
    "### Example\n",
    "**Enumerate on following 2D array's elements:**"
   ]
  },
  {
   "cell_type": "code",
   "execution_count": 10,
   "id": "a79e5c53",
   "metadata": {},
   "outputs": [
    {
     "name": "stdout",
     "output_type": "stream",
     "text": [
      "(0, 0) 1\n",
      "(0, 1) 2\n",
      "(0, 2) 3\n",
      "(0, 3) 4\n",
      "(1, 0) 5\n",
      "(1, 1) 6\n",
      "(1, 2) 7\n",
      "(1, 3) 8\n"
     ]
    }
   ],
   "source": [
    "import numpy as np\n",
    "\n",
    "arr = np.array([[1, 2, 3, 4], [5, 6, 7, 8]])\n",
    "\n",
    "for idx, x in np.ndenumerate(arr):\n",
    "  print(idx, x)"
   ]
  },
  {
   "cell_type": "code",
   "execution_count": null,
   "id": "63790522",
   "metadata": {},
   "outputs": [],
   "source": []
  }
 ],
 "metadata": {
  "kernelspec": {
   "display_name": "Python 3 (ipykernel)",
   "language": "python",
   "name": "python3"
  },
  "language_info": {
   "codemirror_mode": {
    "name": "ipython",
    "version": 3
   },
   "file_extension": ".py",
   "mimetype": "text/x-python",
   "name": "python",
   "nbconvert_exporter": "python",
   "pygments_lexer": "ipython3",
   "version": "3.10.13"
  }
 },
 "nbformat": 4,
 "nbformat_minor": 5
}
