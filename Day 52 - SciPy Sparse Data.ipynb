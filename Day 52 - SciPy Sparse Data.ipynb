{
 "cells": [
  {
   "cell_type": "markdown",
   "id": "6ec312a9-27f1-4134-b626-37fcef2bce12",
   "metadata": {},
   "source": [
    "# <div style=\"padding:20px;color:white;margin:0;font-size:35px;font-family:Georgia;text-align:left;display:fill;border-radius:5px;background-color:#254E58;overflow:hidden\"><b>Day 52- Scipy Sparse Data</b></div>"
   ]
  },
  {
   "cell_type": "markdown",
   "id": "649a4dd2-9a31-49c5-b22b-0c0e10cc81eb",
   "metadata": {},
   "source": [
    "## **What is Sparse Data**\n",
    "* Sparse data is data that has mostly unused elements (elements that don't carry any information ).\n",
    "\n",
    "* It can be an array like this one:\n",
    "\n",
    "[1, 0, 2, 0, 0, 3, 0, 0, 0, 0, 0, 0]\n",
    "\n",
    "**Sparse Data**: is a data set where most of the item values are zero.\n",
    "\n",
    "**Dense Array**: is the opposite of a sparse array: most of the values are not zero."
   ]
  },
  {
   "cell_type": "markdown",
   "id": "8e373b6a-4c1f-4d4d-80d5-2676dd3e4b9d",
   "metadata": {},
   "source": [
    "## **How to Work With Sparse Data**\n",
    "* SciPy has a module, scipy.sparse that provides functions to deal with sparse data.\n",
    "\n",
    "* There are primarily two types of sparse matrices that we use:\n",
    "\n",
    "**CSC** - Compressed Sparse Column. For efficient arithmetic, fast column slicing.\n",
    "\n",
    "**CSR** - Compressed Sparse Row. For fast row slicing, faster matrix vector products\n",
    "\n",
    "\n",
    "\n",
    "## **CSR Matrix**\n",
    "* We can create CSR matrix by passing an arrray into function scipy.sparse.csr_matrix()."
   ]
  },
  {
   "cell_type": "markdown",
   "id": "8762a10d-05ab-4dbd-8ffb-3d91761d2889",
   "metadata": {},
   "source": [
    "### **Create a CSR matrix from an array:**"
   ]
  },
  {
   "cell_type": "code",
   "execution_count": 1,
   "id": "4f0ff18d-44e2-4153-b500-796a862fc7a8",
   "metadata": {},
   "outputs": [
    {
     "name": "stdout",
     "output_type": "stream",
     "text": [
      "  (0, 5)\t1\n",
      "  (0, 6)\t1\n",
      "  (0, 8)\t2\n"
     ]
    }
   ],
   "source": [
    "import numpy as np\n",
    "from scipy.sparse import csr_matrix\n",
    "\n",
    "arr = np.array([0, 0, 0, 0, 0, 1, 1, 0, 2])\n",
    "\n",
    "print(csr_matrix(arr))"
   ]
  },
  {
   "cell_type": "markdown",
   "id": "def2e1b4-0048-46b3-9bc5-326a61ad0e50",
   "metadata": {},
   "source": [
    "## **Sparse Matrix Methods**\n",
    "### **Viewing stored data (not the zero items) with the data property:**"
   ]
  },
  {
   "cell_type": "code",
   "execution_count": 2,
   "id": "d3014e7f-74d7-4203-8582-5ca315c8c790",
   "metadata": {},
   "outputs": [
    {
     "name": "stdout",
     "output_type": "stream",
     "text": [
      "[1 1 2]\n"
     ]
    }
   ],
   "source": [
    "import numpy as np\n",
    "from scipy.sparse import csr_matrix\n",
    "\n",
    "arr = np.array([[0, 0, 0], [0, 0, 1], [1, 0, 2]])\n",
    "\n",
    "print(csr_matrix(arr).data)"
   ]
  },
  {
   "cell_type": "markdown",
   "id": "d19b251d-3739-427f-9fbf-5dfac707cdd9",
   "metadata": {},
   "source": [
    "### **Counting nonzeros with the count_nonzero() method:**"
   ]
  },
  {
   "cell_type": "code",
   "execution_count": 3,
   "id": "a77efae0-0888-4196-811c-9d72f8369ff9",
   "metadata": {},
   "outputs": [
    {
     "name": "stdout",
     "output_type": "stream",
     "text": [
      "3\n"
     ]
    }
   ],
   "source": [
    "import numpy as np\n",
    "from scipy.sparse import csr_matrix\n",
    "\n",
    "arr = np.array([[0, 0, 0], [0, 0, 1], [1, 0, 2]])\n",
    "\n",
    "print(csr_matrix(arr).count_nonzero())"
   ]
  },
  {
   "cell_type": "markdown",
   "id": "80a243db-080a-4dfd-8993-1eaf9430a8b1",
   "metadata": {},
   "source": [
    "### **Removing zero-entries from the matrix with the eliminate_zeros() method:**"
   ]
  },
  {
   "cell_type": "code",
   "execution_count": 4,
   "id": "eaf6aa88-2093-4be7-9e35-7bf1bdd344ce",
   "metadata": {},
   "outputs": [
    {
     "name": "stdout",
     "output_type": "stream",
     "text": [
      "  (1, 2)\t1\n",
      "  (2, 0)\t1\n",
      "  (2, 2)\t2\n"
     ]
    }
   ],
   "source": [
    "import numpy as np\n",
    "from scipy.sparse import csr_matrix\n",
    "\n",
    "arr = np.array([[0, 0, 0], [0, 0, 1], [1, 0, 2]])\n",
    "\n",
    "mat = csr_matrix(arr)\n",
    "mat.eliminate_zeros()\n",
    "\n",
    "print(mat)"
   ]
  },
  {
   "cell_type": "markdown",
   "id": "e3fe2b9e-f9af-42d5-927a-58851e04857e",
   "metadata": {},
   "source": [
    "### **Eliminating duplicate entries with the sum_duplicates() method:**"
   ]
  },
  {
   "cell_type": "code",
   "execution_count": 5,
   "id": "b5cefd1b-7e72-4036-be11-201f6da4a056",
   "metadata": {},
   "outputs": [
    {
     "name": "stdout",
     "output_type": "stream",
     "text": [
      "  (1, 2)\t1\n",
      "  (2, 0)\t1\n",
      "  (2, 2)\t2\n"
     ]
    }
   ],
   "source": [
    "import numpy as np\n",
    "from scipy.sparse import csr_matrix\n",
    "\n",
    "arr = np.array([[0, 0, 0], [0, 0, 1], [1, 0, 2]])\n",
    "\n",
    "mat = csr_matrix(arr)\n",
    "mat.sum_duplicates()\n",
    "\n",
    "print(mat)\n"
   ]
  },
  {
   "cell_type": "markdown",
   "id": "d5f109dd-a445-4325-a537-882f431eb4ee",
   "metadata": {},
   "source": [
    "### **Converting from csr to csc with the tocsc() method:**"
   ]
  },
  {
   "cell_type": "code",
   "execution_count": null,
   "id": "edbb0188-6351-4a02-918a-7888977c7f92",
   "metadata": {},
   "outputs": [],
   "source": []
  }
 ],
 "metadata": {
  "kernelspec": {
   "display_name": "Python 3 (ipykernel)",
   "language": "python",
   "name": "python3"
  },
  "language_info": {
   "codemirror_mode": {
    "name": "ipython",
    "version": 3
   },
   "file_extension": ".py",
   "mimetype": "text/x-python",
   "name": "python",
   "nbconvert_exporter": "python",
   "pygments_lexer": "ipython3",
   "version": "3.11.7"
  }
 },
 "nbformat": 4,
 "nbformat_minor": 5
}
