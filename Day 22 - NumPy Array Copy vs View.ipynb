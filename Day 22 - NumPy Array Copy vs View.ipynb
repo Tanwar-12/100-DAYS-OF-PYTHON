{
 "cells": [
  {
   "cell_type": "markdown",
   "id": "2597aa14",
   "metadata": {},
   "source": [
    "# <div style=\"padding:20px;color:white;margin:0;font-size:35px;font-family:Georgia;text-align:left;display:fill;border-radius:5px;background-color:#254E58;overflow:hidden\"><b> Day 22- Numpy Array Copy vs View</b>"
   ]
  },
  {
   "cell_type": "markdown",
   "id": "dabfda4b",
   "metadata": {},
   "source": [
    "## The Difference Between Copy and View"
   ]
  },
  {
   "cell_type": "markdown",
   "id": "2de59f75",
   "metadata": {},
   "source": [
    "* The main difference between a copy and a view of an array is that the copy is a new array, and the view is just a view of the original array.\n",
    "\n",
    "* The copy owns the data and any changes made to the copy will not affect original array, and any changes made to the original array will not affect the copy.\n",
    "\n",
    "* The view does not own the data and any changes made to the view will affect the original array, and any changes made to the original array will affect the view."
   ]
  },
  {
   "cell_type": "markdown",
   "id": "7aac899c",
   "metadata": {},
   "source": [
    "## COPY:"
   ]
  },
  {
   "cell_type": "markdown",
   "id": "eab4bac1",
   "metadata": {},
   "source": [
    "### Example\n",
    "**Make a copy, change the original array, and display both arrays:**"
   ]
  },
  {
   "cell_type": "code",
   "execution_count": 1,
   "id": "aa35fb1b",
   "metadata": {},
   "outputs": [
    {
     "name": "stdout",
     "output_type": "stream",
     "text": [
      "[42  2  3  4  5]\n",
      "[1 2 3 4 5]\n"
     ]
    }
   ],
   "source": [
    "import numpy as np\n",
    "\n",
    "arr = np.array([1, 2, 3, 4, 5])\n",
    "x = arr.copy()\n",
    "arr[0] = 42\n",
    "\n",
    "print(arr)\n",
    "print(x)"
   ]
  },
  {
   "cell_type": "markdown",
   "id": "33de5127",
   "metadata": {},
   "source": [
    "### VIEW:"
   ]
  },
  {
   "cell_type": "markdown",
   "id": "980f7dc8",
   "metadata": {},
   "source": [
    "### Example\n",
    "**Make a view, change the original array, and display both arrays:**"
   ]
  },
  {
   "cell_type": "code",
   "execution_count": 2,
   "id": "9dcc857a",
   "metadata": {},
   "outputs": [
    {
     "name": "stdout",
     "output_type": "stream",
     "text": [
      "[42  2  3  4  5]\n",
      "[42  2  3  4  5]\n"
     ]
    }
   ],
   "source": [
    "import numpy as np\n",
    "\n",
    "arr = np.array([1, 2, 3, 4, 5])\n",
    "x = arr.view()\n",
    "arr[0] = 42\n",
    "\n",
    "print(arr)\n",
    "print(x)"
   ]
  },
  {
   "cell_type": "markdown",
   "id": "f3fef36c",
   "metadata": {},
   "source": [
    "## Make Changes in the VIEW:"
   ]
  },
  {
   "cell_type": "markdown",
   "id": "1aa53c1b",
   "metadata": {},
   "source": [
    "### Example\n",
    "**Make a view, change the view, and display both arrays:**"
   ]
  },
  {
   "cell_type": "code",
   "execution_count": 3,
   "id": "ab70e054",
   "metadata": {},
   "outputs": [
    {
     "name": "stdout",
     "output_type": "stream",
     "text": [
      "[31  2  3  4  5]\n",
      "[31  2  3  4  5]\n"
     ]
    }
   ],
   "source": [
    "import numpy as np\n",
    "\n",
    "arr = np.array([1, 2, 3, 4, 5])\n",
    "x = arr.view()\n",
    "x[0] = 31\n",
    "\n",
    "print(arr)\n",
    "print(x)"
   ]
  },
  {
   "cell_type": "markdown",
   "id": "0ddafdae",
   "metadata": {},
   "source": [
    "### Check if Array Owns its Data\n",
    "* As mentioned above, copies owns the data, and views does not own the data, but how can we check this?\n",
    "\n",
    "* Every NumPy array has the attribute base that returns None if the array owns the data.\n",
    "\n",
    "* Otherwise, the base  attribute refers to the original object."
   ]
  },
  {
   "cell_type": "markdown",
   "id": "d877f113",
   "metadata": {},
   "source": [
    "### Example\n",
    "**Print the value of the base attribute to check if an array owns it's data or not:**"
   ]
  },
  {
   "cell_type": "code",
   "execution_count": 4,
   "id": "96fc14ab",
   "metadata": {},
   "outputs": [
    {
     "name": "stdout",
     "output_type": "stream",
     "text": [
      "None\n",
      "[1 2 3 4 5]\n"
     ]
    }
   ],
   "source": [
    "import numpy as np\n",
    "\n",
    "arr = np.array([1, 2, 3, 4, 5])\n",
    "\n",
    "x = arr.copy()\n",
    "y = arr.view()\n",
    "\n",
    "print(x.base)\n",
    "print(y.base)"
   ]
  },
  {
   "cell_type": "code",
   "execution_count": null,
   "id": "a9fb7b63",
   "metadata": {},
   "outputs": [],
   "source": []
  }
 ],
 "metadata": {
  "kernelspec": {
   "display_name": "Python 3 (ipykernel)",
   "language": "python",
   "name": "python3"
  },
  "language_info": {
   "codemirror_mode": {
    "name": "ipython",
    "version": 3
   },
   "file_extension": ".py",
   "mimetype": "text/x-python",
   "name": "python",
   "nbconvert_exporter": "python",
   "pygments_lexer": "ipython3",
   "version": "3.10.13"
  }
 },
 "nbformat": 4,
 "nbformat_minor": 5
}
