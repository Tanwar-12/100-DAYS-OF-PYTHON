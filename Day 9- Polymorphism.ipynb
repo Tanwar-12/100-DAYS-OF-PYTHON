{
 "cells": [
  {
   "cell_type": "markdown",
   "id": "bce5d705",
   "metadata": {},
   "source": [
    "# <div style=\"padding:20px;color:white;margin:0;font-size:35px;font-family:Georgia;text-align:left;display:fill;border-radius:5px;background-color:#254E58;overflow:hidden\"><b> Day 9: Polymorphism</b></div>"
   ]
  },
  {
   "cell_type": "markdown",
   "id": "43eba651",
   "metadata": {},
   "source": [
    "### The word \"polymorphism\" means \"many forms\", and in programming it refers to methods/functions/operators with the same name that can be executed on many objects or classes."
   ]
  },
  {
   "cell_type": "markdown",
   "id": "d66d7d51",
   "metadata": {},
   "source": [
    "## Function Polymorphism"
   ]
  },
  {
   "cell_type": "markdown",
   "id": "fd92e241",
   "metadata": {},
   "source": [
    "**An example of a Python function that can be used on different objects is the len() function**"
   ]
  },
  {
   "cell_type": "markdown",
   "id": "05befcb6",
   "metadata": {},
   "source": [
    "### String"
   ]
  },
  {
   "cell_type": "markdown",
   "id": "b1fde296",
   "metadata": {},
   "source": [
    "**For strings le**n() returns the number of characters:**"
   ]
  },
  {
   "cell_type": "markdown",
   "id": "016164e9",
   "metadata": {},
   "source": [
    "### Example"
   ]
  },
  {
   "cell_type": "code",
   "execution_count": 1,
   "id": "5365267b",
   "metadata": {},
   "outputs": [
    {
     "name": "stdout",
     "output_type": "stream",
     "text": [
      "12\n"
     ]
    }
   ],
   "source": [
    "x = \"Hello World!\"\n",
    "\n",
    "print(len(x))"
   ]
  },
  {
   "cell_type": "markdown",
   "id": "2a6d52de",
   "metadata": {},
   "source": [
    "### Tuple"
   ]
  },
  {
   "cell_type": "markdown",
   "id": "77f90f3c",
   "metadata": {},
   "source": [
    "**For tuples len() returns the number of items in the tuple:**"
   ]
  },
  {
   "cell_type": "markdown",
   "id": "e8208271",
   "metadata": {},
   "source": [
    "### Example"
   ]
  },
  {
   "cell_type": "code",
   "execution_count": 2,
   "id": "c2863d3c",
   "metadata": {},
   "outputs": [
    {
     "name": "stdout",
     "output_type": "stream",
     "text": [
      "3\n"
     ]
    }
   ],
   "source": [
    "mytuple = (\"apple\", \"banana\", \"cherry\")\n",
    "\n",
    "print(len(mytuple))"
   ]
  },
  {
   "cell_type": "markdown",
   "id": "62f54e2c",
   "metadata": {},
   "source": [
    "### Dictionary"
   ]
  },
  {
   "cell_type": "markdown",
   "id": "278d7194",
   "metadata": {},
   "source": [
    "**For dictionaries len() returns the number of key/value pairs in the dictionary:**"
   ]
  },
  {
   "cell_type": "code",
   "execution_count": 3,
   "id": "cf580d59",
   "metadata": {},
   "outputs": [
    {
     "name": "stdout",
     "output_type": "stream",
     "text": [
      "3\n"
     ]
    }
   ],
   "source": [
    "thisdict = {\n",
    "  \"brand\": \"Ford\",\n",
    "  \"model\": \"Mustang\",\n",
    "  \"year\": 1964\n",
    "}\n",
    "\n",
    "print(len(thisdict))"
   ]
  },
  {
   "cell_type": "markdown",
   "id": "77fdf510",
   "metadata": {},
   "source": [
    "## Class Polymorphism"
   ]
  },
  {
   "cell_type": "markdown",
   "id": "2772f1ec",
   "metadata": {},
   "source": [
    "**Polymorphism is often used in Class methods, where we can have multiple classes with the same method name.**\n",
    "\n",
    "**For example, say we have three classes: Car, Boat, and Plane, and they all have a method called move():**"
   ]
  },
  {
   "cell_type": "markdown",
   "id": "221c932a",
   "metadata": {},
   "source": [
    "### Example\n",
    "**Different classes with the same method:**"
   ]
  },
  {
   "cell_type": "code",
   "execution_count": 4,
   "id": "21774f55",
   "metadata": {},
   "outputs": [
    {
     "name": "stdout",
     "output_type": "stream",
     "text": [
      "Drive!\n",
      "Sail!\n",
      "Fly!\n"
     ]
    }
   ],
   "source": [
    "class Car:\n",
    "  def __init__(self, brand, model):\n",
    "    self.brand = brand\n",
    "    self.model = model\n",
    "\n",
    "  def move(self):\n",
    "    print(\"Drive!\")\n",
    "\n",
    "class Boat:\n",
    "  def __init__(self, brand, model):\n",
    "    self.brand = brand\n",
    "    self.model = model\n",
    "\n",
    "  def move(self):\n",
    "    print(\"Sail!\")\n",
    "\n",
    "class Plane:\n",
    "  def __init__(self, brand, model):\n",
    "    self.brand = brand\n",
    "    self.model = model\n",
    "\n",
    "  def move(self):\n",
    "    print(\"Fly!\")\n",
    "\n",
    "car1 = Car(\"Ford\", \"Mustang\")       #Create a Car class\n",
    "boat1 = Boat(\"Ibiza\", \"Touring 20\") #Create a Boat class\n",
    "plane1 = Plane(\"Boeing\", \"747\")     #Create a Plane class\n",
    "\n",
    "for x in (car1, boat1, plane1):\n",
    "  x.move()\n"
   ]
  },
  {
   "cell_type": "markdown",
   "id": "49343681",
   "metadata": {},
   "source": [
    "## Inheritance Class Polymorphism"
   ]
  },
  {
   "cell_type": "markdown",
   "id": "3b38bb1c",
   "metadata": {},
   "source": [
    "**What about classes with child classes with the same name? Can we use polymorphism there?**\n",
    "\n",
    "**Yes. If we use the example above and make a parent class called Vehicle, and make Car, Boat, Plane child classes of Vehicle, the child classes inherits the Vehicle methods, but can override them:**"
   ]
  },
  {
   "cell_type": "markdown",
   "id": "c857484d",
   "metadata": {},
   "source": [
    "### Example\n",
    "**Create a class called Vehicle and make Car, Boat, Plane child classes of Vehicle:**"
   ]
  },
  {
   "cell_type": "code",
   "execution_count": 5,
   "id": "a1a273e6",
   "metadata": {},
   "outputs": [
    {
     "name": "stdout",
     "output_type": "stream",
     "text": [
      "Ford\n",
      "Mustang\n",
      "Move!\n",
      "Ibiza\n",
      "Touring 20\n",
      "Sail!\n",
      "Boeing\n",
      "747\n",
      "Fly!\n"
     ]
    }
   ],
   "source": [
    "class Vehicle:\n",
    "  def __init__(self, brand, model):\n",
    "    self.brand = brand\n",
    "    self.model = model\n",
    "\n",
    "  def move(self):\n",
    "    print(\"Move!\")\n",
    "\n",
    "class Car(Vehicle):\n",
    "  pass\n",
    "\n",
    "class Boat(Vehicle):\n",
    "  def move(self):\n",
    "    print(\"Sail!\")\n",
    "\n",
    "class Plane(Vehicle):\n",
    "  def move(self):\n",
    "    print(\"Fly!\")\n",
    "\n",
    "car1 = Car(\"Ford\", \"Mustang\") #Create a Car object\n",
    "boat1 = Boat(\"Ibiza\", \"Touring 20\") #Create a Boat object\n",
    "plane1 = Plane(\"Boeing\", \"747\") #Create a Plane object\n",
    "\n",
    "for x in (car1, boat1, plane1):\n",
    "  print(x.brand)\n",
    "  print(x.model)\n",
    "  x.move()\n"
   ]
  },
  {
   "cell_type": "code",
   "execution_count": null,
   "id": "500c9f21",
   "metadata": {},
   "outputs": [],
   "source": []
  }
 ],
 "metadata": {
  "kernelspec": {
   "display_name": "Python 3 (ipykernel)",
   "language": "python",
   "name": "python3"
  },
  "language_info": {
   "codemirror_mode": {
    "name": "ipython",
    "version": 3
   },
   "file_extension": ".py",
   "mimetype": "text/x-python",
   "name": "python",
   "nbconvert_exporter": "python",
   "pygments_lexer": "ipython3",
   "version": "3.10.10"
  }
 },
 "nbformat": 4,
 "nbformat_minor": 5
}
