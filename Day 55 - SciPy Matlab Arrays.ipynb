{
 "cells": [
  {
   "cell_type": "markdown",
   "id": "c0d2276c-cdec-4028-abc1-75a105287218",
   "metadata": {},
   "source": [
    "# <div style=\"padding:20px;color:white;margin:0;font-size:35px;font-family:Georgia;text-align:left;display:fill;border-radius:5px;background-color:#254E58;overflow:hidden\"><b>Day 55- Scipy Matlab Arrays</b></div>"
   ]
  },
  {
   "cell_type": "markdown",
   "id": "b6718539-64b6-42c1-8a18-58092d330303",
   "metadata": {},
   "source": [
    "### **Working With Matlab Arrays**\n",
    "* We know that NumPy provides us with methods to persist the data in readable formats for Python. But SciPy provides us with interoperability with Matlab as well.\n",
    "\n",
    "* SciPy provides us with the module scipy.io, which has functions for working with Matlab arrays.\n",
    "\n",
    "### **Exporting Data in Matlab Format**\n",
    "* The savemat() function allows us to export data in Matlab format.\n",
    "\n",
    "**The method takes the following parameters:**\n",
    "\n",
    "* filename - the file name for saving data.\n",
    "* mdict - a dictionary containing the data.\n",
    "* do_compression - a boolean value that specifies whether to compress the result or not. Default False."
   ]
  },
  {
   "cell_type": "markdown",
   "id": "51b19386-511a-4892-a4b1-bf6a7639bdda",
   "metadata": {},
   "source": [
    "### **Export the following array as variable name \"vec\" to a mat file:**"
   ]
  },
  {
   "cell_type": "code",
   "execution_count": 1,
   "id": "f105d9f7-e7dc-4a3a-a4ef-514ffa1ca066",
   "metadata": {},
   "outputs": [],
   "source": [
    "from scipy import io\n",
    "import numpy as np\n",
    "\n",
    "arr = np.arange(10)\n",
    "\n",
    "io.savemat('arr.mat', {\"vec\": arr})"
   ]
  },
  {
   "cell_type": "markdown",
   "id": "312b620f-1441-4a1f-80e0-78f3bdbc7a5c",
   "metadata": {},
   "source": [
    "### **Import Data from Matlab Format**\n",
    "* The loadmat() function allows us to import data from a Matlab file.\n",
    "\n",
    "* The function takes one required parameter:\n",
    "\n",
    "* filename - the file name of the saved data.\n",
    "\n",
    "* It will return a structured array whose keys are the variable names, and the corresponding values are the variable values."
   ]
  },
  {
   "cell_type": "markdown",
   "id": "2560b9b5-40b2-48f2-b076-58ac8b14d0a2",
   "metadata": {},
   "source": [
    "### **Import the array from following mat file.:**"
   ]
  },
  {
   "cell_type": "code",
   "execution_count": 2,
   "id": "f54013c4-495c-4098-98e3-231a2455b993",
   "metadata": {},
   "outputs": [
    {
     "name": "stdout",
     "output_type": "stream",
     "text": [
      "{'__header__': b'MATLAB 5.0 MAT-file Platform: nt, Created on: Sun May 19 21:04:55 2024', '__version__': '1.0', '__globals__': [], 'vec': array([[0, 1, 2, 3, 4, 5, 6, 7, 8, 9]])}\n"
     ]
    }
   ],
   "source": [
    "from scipy import io\n",
    "import numpy as np\n",
    "\n",
    "arr = np.array([0, 1, 2, 3, 4, 5, 6, 7, 8, 9,])\n",
    "\n",
    "# Export:\n",
    "io.savemat('arr.mat', {\"vec\": arr})\n",
    "\n",
    "# Import:\n",
    "mydata = io.loadmat('arr.mat')\n",
    "\n",
    "print(mydata)"
   ]
  },
  {
   "cell_type": "markdown",
   "id": "32ba81ea-0f79-46a5-8622-f4eb95634d14",
   "metadata": {},
   "source": [
    "**Use the variable name \"vec\" to display only the array from the matlab data:**\n",
    "\n"
   ]
  },
  {
   "cell_type": "code",
   "execution_count": 3,
   "id": "6a16a302-53fe-4dc2-b38d-0ead247cd782",
   "metadata": {},
   "outputs": [
    {
     "name": "stdout",
     "output_type": "stream",
     "text": [
      "[[0 1 2 3 4 5 6 7 8 9]]\n"
     ]
    }
   ],
   "source": [
    "...\n",
    "\n",
    "print(mydata['vec'])"
   ]
  },
  {
   "cell_type": "code",
   "execution_count": null,
   "id": "24aad467-6696-44d3-a28f-7bfbdd82a77b",
   "metadata": {},
   "outputs": [],
   "source": []
  }
 ],
 "metadata": {
  "kernelspec": {
   "display_name": "Python 3 (ipykernel)",
   "language": "python",
   "name": "python3"
  },
  "language_info": {
   "codemirror_mode": {
    "name": "ipython",
    "version": 3
   },
   "file_extension": ".py",
   "mimetype": "text/x-python",
   "name": "python",
   "nbconvert_exporter": "python",
   "pygments_lexer": "ipython3",
   "version": "3.11.7"
  }
 },
 "nbformat": 4,
 "nbformat_minor": 5
}
