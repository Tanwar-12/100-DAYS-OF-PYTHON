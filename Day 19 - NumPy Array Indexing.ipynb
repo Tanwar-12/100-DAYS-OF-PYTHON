{
 "cells": [
  {
   "cell_type": "markdown",
   "id": "46e0f100",
   "metadata": {},
   "source": [
    "# <div style=\"padding:20px;color:white;margin:0;font-size:35px;font-family:Georgia;text-align:left;display:fill;border-radius:5px;background-color:#254E58;overflow:hidden\"><b> Day 19- Numpy Array Indexing </b>"
   ]
  },
  {
   "cell_type": "markdown",
   "id": "edf54e6d",
   "metadata": {},
   "source": [
    "# Numpy Array Indexing"
   ]
  },
  {
   "cell_type": "markdown",
   "id": "bdf475b2",
   "metadata": {},
   "source": [
    "## Access Array Elements"
   ]
  },
  {
   "cell_type": "markdown",
   "id": "b1e35f2b",
   "metadata": {},
   "source": [
    "* Array indexing is the same as accessing an array element.\n",
    "\n",
    "* You can access an array element by referring to its index number.\n",
    "\n",
    "* The indexes in NumPy arrays start with 0, meaning that the first element has index 0, and the second has index 1 etc."
   ]
  },
  {
   "cell_type": "markdown",
   "id": "63856714",
   "metadata": {},
   "source": [
    "### Example\n",
    "**Get the first element from the following array:**"
   ]
  },
  {
   "cell_type": "code",
   "execution_count": 1,
   "id": "c398ded9",
   "metadata": {},
   "outputs": [
    {
     "name": "stdout",
     "output_type": "stream",
     "text": [
      "1\n"
     ]
    }
   ],
   "source": [
    "import numpy as np\n",
    "\n",
    "arr = np.array([1, 2, 3, 4])\n",
    "\n",
    "print(arr[0])"
   ]
  },
  {
   "cell_type": "markdown",
   "id": "24f698f5",
   "metadata": {},
   "source": [
    "### Example\n",
    "**Get the second element from the following array.**"
   ]
  },
  {
   "cell_type": "code",
   "execution_count": 2,
   "id": "cb7b6acd",
   "metadata": {},
   "outputs": [
    {
     "name": "stdout",
     "output_type": "stream",
     "text": [
      "2\n"
     ]
    }
   ],
   "source": [
    "import numpy as np\n",
    "\n",
    "arr = np.array([1, 2, 3, 4])\n",
    "\n",
    "print(arr[1])"
   ]
  },
  {
   "cell_type": "markdown",
   "id": "1c9e1a59",
   "metadata": {},
   "source": [
    "### Example\n",
    "**Get third and fourth elements from the following array and add them.**"
   ]
  },
  {
   "cell_type": "code",
   "execution_count": 3,
   "id": "6c851d16",
   "metadata": {},
   "outputs": [
    {
     "name": "stdout",
     "output_type": "stream",
     "text": [
      "7\n"
     ]
    }
   ],
   "source": [
    "import numpy as np\n",
    "\n",
    "arr = np.array([1, 2, 3, 4])\n",
    "\n",
    "print(arr[2] + arr[3])\n"
   ]
  },
  {
   "cell_type": "markdown",
   "id": "65067f8a",
   "metadata": {},
   "source": [
    "## Access 2-D Arrays\n",
    "* To access elements from 2-D arrays we can use comma separated integers representing the dimension and the index of the element.\n",
    "\n",
    "* Think of 2-D arrays like a table with rows and columns, where the dimension represents the row and the index represents the column."
   ]
  },
  {
   "cell_type": "markdown",
   "id": "03c12d7d",
   "metadata": {},
   "source": [
    "### Example\n",
    "**Access the element on the first row, second column:**"
   ]
  },
  {
   "cell_type": "code",
   "execution_count": 4,
   "id": "64475d47",
   "metadata": {},
   "outputs": [
    {
     "name": "stdout",
     "output_type": "stream",
     "text": [
      "2nd element on 1st row:  2\n"
     ]
    }
   ],
   "source": [
    "import numpy as np\n",
    "\n",
    "arr = np.array([[1,2,3,4,5], [6,7,8,9,10]])\n",
    "\n",
    "print('2nd element on 1st row: ', arr[0, 1])"
   ]
  },
  {
   "cell_type": "markdown",
   "id": "634e13b8",
   "metadata": {},
   "source": [
    "### Example\n",
    "**Access the element on the 2nd row, 5th column:**"
   ]
  },
  {
   "cell_type": "code",
   "execution_count": 5,
   "id": "df72664a",
   "metadata": {},
   "outputs": [
    {
     "name": "stdout",
     "output_type": "stream",
     "text": [
      "5th element on 2nd row:  10\n"
     ]
    }
   ],
   "source": [
    "import numpy as np\n",
    "\n",
    "arr = np.array([[1,2,3,4,5], [6,7,8,9,10]])\n",
    "\n",
    "print('5th element on 2nd row: ', arr[1, 4])"
   ]
  },
  {
   "cell_type": "markdown",
   "id": "16d87214",
   "metadata": {},
   "source": [
    "### Access 3-D Arrays\n",
    "**To access elements from 3-D arrays we can use comma separated integers representing the dimensions and the index of the element.**"
   ]
  },
  {
   "cell_type": "markdown",
   "id": "2ecaa878",
   "metadata": {},
   "source": [
    "### Example\n",
    "**Access the third element of the second array of the first array:**"
   ]
  },
  {
   "cell_type": "code",
   "execution_count": 6,
   "id": "28925e3f",
   "metadata": {},
   "outputs": [
    {
     "name": "stdout",
     "output_type": "stream",
     "text": [
      "6\n"
     ]
    }
   ],
   "source": [
    "import numpy as np\n",
    "\n",
    "arr = np.array([[[1, 2, 3], [4, 5, 6]], [[7, 8, 9], [10, 11, 12]]])\n",
    "\n",
    "print(arr[0, 1, 2])"
   ]
  },
  {
   "cell_type": "markdown",
   "id": "9c8b9cd1",
   "metadata": {},
   "source": [
    "### Example Explained\n",
    "**And this is why:**\n",
    "\n",
    "The first number represents the first dimension, which contains two arrays:\n",
    "[[1, 2, 3], [4, 5, 6]]\n",
    "and:\n",
    "[[7, 8, 9], [10, 11, 12]]\n",
    "Since we selected 0, we are left with the first array:\n",
    "[[1, 2, 3], [4, 5, 6]]\n",
    "\n",
    "The second number represents the second dimension, which also contains two arrays:\n",
    "[1, 2, 3]\n",
    "and:\n",
    "[4, 5, 6]\n",
    "Since we selected 1, we are left with the second array:\n",
    "[4, 5, 6]\n",
    "\n",
    "The third number represents the third dimension, which contains three values:\n",
    "4\n",
    "5\n",
    "6\n",
    "Since we selected 2, we end up with the third value:\n",
    "6"
   ]
  },
  {
   "cell_type": "markdown",
   "id": "f626b730",
   "metadata": {},
   "source": [
    "### Negative Indexing\n",
    "**Use negative indexing to access an array from the end.**"
   ]
  },
  {
   "cell_type": "markdown",
   "id": "315c8c58",
   "metadata": {},
   "source": [
    "### Example\n",
    "**Print the last element from the 2nd dim:**"
   ]
  },
  {
   "cell_type": "code",
   "execution_count": 7,
   "id": "1f4138cd",
   "metadata": {},
   "outputs": [
    {
     "name": "stdout",
     "output_type": "stream",
     "text": [
      "Last element from 2nd dim:  10\n"
     ]
    }
   ],
   "source": [
    "import numpy as np\n",
    "\n",
    "arr = np.array([[1,2,3,4,5], [6,7,8,9,10]])\n",
    "\n",
    "print('Last element from 2nd dim: ', arr[1, -1])\n"
   ]
  },
  {
   "cell_type": "code",
   "execution_count": null,
   "id": "96373e10",
   "metadata": {},
   "outputs": [],
   "source": []
  }
 ],
 "metadata": {
  "kernelspec": {
   "display_name": "Python 3 (ipykernel)",
   "language": "python",
   "name": "python3"
  },
  "language_info": {
   "codemirror_mode": {
    "name": "ipython",
    "version": 3
   },
   "file_extension": ".py",
   "mimetype": "text/x-python",
   "name": "python",
   "nbconvert_exporter": "python",
   "pygments_lexer": "ipython3",
   "version": "3.10.13"
  }
 },
 "nbformat": 4,
 "nbformat_minor": 5
}
