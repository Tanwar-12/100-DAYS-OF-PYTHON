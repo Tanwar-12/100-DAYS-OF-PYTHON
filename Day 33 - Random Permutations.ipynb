{
 "cells": [
  {
   "cell_type": "markdown",
   "id": "73a247d8",
   "metadata": {},
   "source": [
    "# <div style=\"padding:20px;color:white;margin:0;font-size:35px;font-family:Georgia;text-align:left;display:fill;border-radius:5px;background-color:#254E58;overflow:hidden\"><b>Day 33- Random Permutations </b></div>"
   ]
  },
  {
   "cell_type": "markdown",
   "id": "0feedd5b",
   "metadata": {},
   "source": [
    "## Random Permutations of Elements"
   ]
  },
  {
   "cell_type": "markdown",
   "id": "8e2ea288",
   "metadata": {},
   "source": [
    "**A permutation refers to an arrangement of elements. e.g. [3, 2, 1] is a permutation of [1, 2, 3] and vice-versa.**\n",
    "\n",
    "**The NumPy Random module provides two methods for this: shuffle() and permutation().**"
   ]
  },
  {
   "cell_type": "markdown",
   "id": "8c4105a5",
   "metadata": {},
   "source": [
    "## Shuffling Arrays"
   ]
  },
  {
   "cell_type": "markdown",
   "id": "1d8f6857",
   "metadata": {},
   "source": [
    "* Shuffle means changing arrangement of elements in-place. i.e. in the array itself."
   ]
  },
  {
   "cell_type": "markdown",
   "id": "b2e69135",
   "metadata": {},
   "source": [
    "### Randomly shuffle elements of following array:"
   ]
  },
  {
   "cell_type": "code",
   "execution_count": 1,
   "id": "06eb1aad",
   "metadata": {},
   "outputs": [
    {
     "name": "stdout",
     "output_type": "stream",
     "text": [
      "[4 5 3 2 1]\n"
     ]
    }
   ],
   "source": [
    "from numpy import random\n",
    "import numpy as np\n",
    "\n",
    "arr = np.array([1, 2, 3, 4, 5])\n",
    "\n",
    "random.shuffle(arr)\n",
    "\n",
    "print(arr)"
   ]
  },
  {
   "cell_type": "markdown",
   "id": "80fa38db",
   "metadata": {},
   "source": [
    "### Generating Permutation of Arrays"
   ]
  },
  {
   "cell_type": "markdown",
   "id": "f8dc2d69",
   "metadata": {},
   "source": [
    "**Generate a random permutation of elements of following array:**"
   ]
  },
  {
   "cell_type": "code",
   "execution_count": 2,
   "id": "bdb838f1",
   "metadata": {},
   "outputs": [
    {
     "name": "stdout",
     "output_type": "stream",
     "text": [
      "[5 3 2 1 4]\n"
     ]
    }
   ],
   "source": [
    "from numpy import random\n",
    "import numpy as np\n",
    "\n",
    "arr = np.array([1, 2, 3, 4, 5])\n",
    "\n",
    "print(random.permutation(arr))\n"
   ]
  },
  {
   "cell_type": "markdown",
   "id": "fe0611cc",
   "metadata": {},
   "source": [
    "**Note:The permutation() method returns a re-arranged array (and leaves the original array un-changed).**"
   ]
  },
  {
   "cell_type": "code",
   "execution_count": null,
   "id": "9a613dcc",
   "metadata": {},
   "outputs": [],
   "source": []
  }
 ],
 "metadata": {
  "kernelspec": {
   "display_name": "Python 3 (ipykernel)",
   "language": "python",
   "name": "python3"
  },
  "language_info": {
   "codemirror_mode": {
    "name": "ipython",
    "version": 3
   },
   "file_extension": ".py",
   "mimetype": "text/x-python",
   "name": "python",
   "nbconvert_exporter": "python",
   "pygments_lexer": "ipython3",
   "version": "3.11.5"
  }
 },
 "nbformat": 4,
 "nbformat_minor": 5
}
