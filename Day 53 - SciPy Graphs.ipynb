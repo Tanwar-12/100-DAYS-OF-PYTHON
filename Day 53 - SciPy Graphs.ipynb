{
 "cells": [
  {
   "cell_type": "markdown",
   "id": "ce98c299-04d2-4148-bd4b-fb78d00dd516",
   "metadata": {},
   "source": [
    "# <div style=\"padding:20px;color:white;margin:0;font-size:35px;font-family:Georgia;text-align:left;display:fill;border-radius:5px;background-color:#254E58;overflow:hidden\"><b>Day 53- Scipy Graphs</b></div>"
   ]
  },
  {
   "cell_type": "markdown",
   "id": "9f7e47fc-bd11-4572-9031-51f40d647038",
   "metadata": {},
   "source": [
    "### **Working with Graphs**\n",
    "* Graphs are an essential data structure.\n",
    "\n",
    "* SciPy provides us with the module scipy.sparse.csgraph for working with such data structures.\n",
    "\n",
    "### **Adjacency Matrix**\n",
    "* Adjacency matrix is a nxn matrix where n is the number of elements in a graph.\n",
    "\n",
    "* And the values represents the connection between the elements."
   ]
  },
  {
   "attachments": {
    "eff6bc1a-f5c4-4600-bcef-b9f2b1725107.png": {
     "image/png": "[encoded data removed]"
    }
   },
   "cell_type": "markdown",
   "id": "14ace996-2ed5-416b-97a7-4058fae0e91b",
   "metadata": {},
   "source": [
    "![image.png](attachment:eff6bc1a-f5c4-4600-bcef-b9f2b1725107.png)"
   ]
  },
  {
   "cell_type": "markdown",
   "id": "b3badc75-ee2d-4ee5-8310-54ca5ce83dda",
   "metadata": {},
   "source": [
    "**For a graph like this, with elements A, B and C, the connections are:**\n",
    "\n",
    "* A & B are connected with weight 1.\n",
    "\n",
    "* A & C are connected with weight 2.\n",
    "\n",
    "* C & B is not connected.\n",
    "\n",
    "**The Adjency Matrix would look like this:**\n",
    " "
   ]
  },
  {
   "cell_type": "raw",
   "id": "4d546993-4508-4b62-9b64-e88ac2b8b5af",
   "metadata": {},
   "source": [
    "A B C\n",
    "   A:[0 1 2]  \n",
    "   B:[1 0 0]\n",
    "   C:[2 0 0]"
   ]
  },
  {
   "cell_type": "markdown",
   "id": "d27ba090-3623-4f9e-a5c3-0b2a8d93dd7a",
   "metadata": {},
   "source": [
    "### **Connected Components**\n",
    "**Find all of the connected components with the connected_components() method.**"
   ]
  },
  {
   "cell_type": "code",
   "execution_count": 1,
   "id": "d8054ec3-bcb0-4dd2-a5d2-14b9cc1cd626",
   "metadata": {},
   "outputs": [
    {
     "name": "stdout",
     "output_type": "stream",
     "text": [
      "(1, array([0, 0, 0]))\n"
     ]
    }
   ],
   "source": [
    "import numpy as np\n",
    "from scipy.sparse.csgraph import connected_components\n",
    "from scipy.sparse import csr_matrix\n",
    "\n",
    "arr = np.array([\n",
    "  [0, 1, 2],\n",
    "  [1, 0, 0],\n",
    "  [2, 0, 0]\n",
    "])\n",
    "\n",
    "newarr = csr_matrix(arr)\n",
    "\n",
    "print(connected_components(newarr))"
   ]
  },
  {
   "cell_type": "markdown",
   "id": "d1eee7b7-be37-4543-aa38-1db45d55eff0",
   "metadata": {},
   "source": [
    "### **Dijkstra**\n",
    "* Use the dijkstra method to find the shortest path in a graph from one element to another.\n",
    "\n",
    "**It takes following arguments:**\n",
    "\n",
    "1. return_predecessors: boolean (True to return whole path of traversal otherwise False).\n",
    "\n",
    "2. indices: index of the element to return all paths from that element only.\n",
    "\n",
    "3. limit: max weight of path."
   ]
  },
  {
   "cell_type": "code",
   "execution_count": null,
   "id": "3ba71455-3bdb-410b-a157-1d9caf16a1c0",
   "metadata": {},
   "outputs": [],
   "source": [
    "###"
   ]
  }
 ],
 "metadata": {
  "kernelspec": {
   "display_name": "Python 3 (ipykernel)",
   "language": "python",
   "name": "python3"
  },
  "language_info": {
   "codemirror_mode": {
    "name": "ipython",
    "version": 3
   },
   "file_extension": ".py",
   "mimetype": "text/x-python",
   "name": "python",
   "nbconvert_exporter": "python",
   "pygments_lexer": "ipython3",
   "version": "3.11.7"
  }
 },
 "nbformat": 4,
 "nbformat_minor": 5
}
