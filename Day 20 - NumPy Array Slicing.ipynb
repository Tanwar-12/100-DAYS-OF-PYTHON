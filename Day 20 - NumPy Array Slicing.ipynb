{
 "cells": [
  {
   "cell_type": "markdown",
   "id": "6c6f8fa7",
   "metadata": {},
   "source": [
    "# <div style=\"padding:20px;color:white;margin:0;font-size:35px;font-family:Georgia;text-align:left;display:fill;border-radius:5px;background-color:#254E58;overflow:hidden\"><b> Day 20- NumPy Array Slicing</b>"
   ]
  },
  {
   "cell_type": "markdown",
   "id": "f36925a1",
   "metadata": {},
   "source": [
    "# Slicing arrays"
   ]
  },
  {
   "cell_type": "markdown",
   "id": "e19218a8",
   "metadata": {},
   "source": [
    "* Slicing in python means taking elements from one given index to another given index.\n",
    "\n",
    "* We pass slice instead of index like this: [start:end].\n",
    "\n",
    "* We can also define the step, like this: [start:end:step].\n",
    "\n",
    "* If we don't pass start its considered 0\n",
    "\n",
    "* If we don't pass end its considered length of array in that dimension\n",
    "\n",
    "* If we don't pass step its considered 1"
   ]
  },
  {
   "cell_type": "markdown",
   "id": "c0fb0c7a",
   "metadata": {},
   "source": [
    "### Example\n",
    "**Slice elements from index 1 to index 5 from the following array:**"
   ]
  },
  {
   "cell_type": "code",
   "execution_count": 1,
   "id": "1f9d8f2f",
   "metadata": {},
   "outputs": [
    {
     "name": "stdout",
     "output_type": "stream",
     "text": [
      "[2 3 4 5]\n"
     ]
    }
   ],
   "source": [
    "import numpy as np\n",
    "\n",
    "arr = np.array([1, 2, 3, 4, 5, 6, 7])\n",
    "\n",
    "print(arr[1:5])"
   ]
  },
  {
   "cell_type": "markdown",
   "id": "d697281c",
   "metadata": {},
   "source": [
    "### Example\n",
    "**Slice elements from index 4 to the end of the array:**"
   ]
  },
  {
   "cell_type": "code",
   "execution_count": 2,
   "id": "d4af5b7a",
   "metadata": {},
   "outputs": [
    {
     "name": "stdout",
     "output_type": "stream",
     "text": [
      "[5 6 7]\n"
     ]
    }
   ],
   "source": [
    "import numpy as np\n",
    "\n",
    "arr = np.array([1, 2, 3, 4, 5, 6, 7])\n",
    "\n",
    "print(arr[4:])"
   ]
  },
  {
   "cell_type": "markdown",
   "id": "aa5af83c",
   "metadata": {},
   "source": [
    "### Example\n",
    "**Slice elements from the beginning to index 4 (not included):**"
   ]
  },
  {
   "cell_type": "code",
   "execution_count": 3,
   "id": "741a3bdf",
   "metadata": {},
   "outputs": [
    {
     "name": "stdout",
     "output_type": "stream",
     "text": [
      "[1 2 3 4]\n"
     ]
    }
   ],
   "source": [
    "import numpy as np\n",
    "\n",
    "arr = np.array([1, 2, 3, 4, 5, 6, 7])\n",
    "\n",
    "print(arr[:4])\n"
   ]
  },
  {
   "cell_type": "markdown",
   "id": "5b0d5520",
   "metadata": {},
   "source": [
    "## Negative Slicing\n",
    "**Use the minus operator to refer to an index from the end:**"
   ]
  },
  {
   "cell_type": "markdown",
   "id": "0bc8bf2e",
   "metadata": {},
   "source": [
    "### Example\n",
    "**Slice from the index 3 from the end to index 1 from the end:**"
   ]
  },
  {
   "cell_type": "code",
   "execution_count": 4,
   "id": "840f9c0d",
   "metadata": {},
   "outputs": [
    {
     "name": "stdout",
     "output_type": "stream",
     "text": [
      "[5 6]\n"
     ]
    }
   ],
   "source": [
    "import numpy as np\n",
    "\n",
    "arr = np.array([1, 2, 3, 4, 5, 6, 7])\n",
    "\n",
    "print(arr[-3:-1])"
   ]
  },
  {
   "cell_type": "markdown",
   "id": "ed53e016",
   "metadata": {},
   "source": [
    "### STEP\n",
    "**Use the step value to determine the step of the slicing:**"
   ]
  },
  {
   "cell_type": "markdown",
   "id": "63ab3d8c",
   "metadata": {},
   "source": [
    "### Example\n",
    "**Return every other element from index 1 to index 5:**"
   ]
  },
  {
   "cell_type": "code",
   "execution_count": 5,
   "id": "53857032",
   "metadata": {},
   "outputs": [
    {
     "name": "stdout",
     "output_type": "stream",
     "text": [
      "[2 4]\n"
     ]
    }
   ],
   "source": [
    "import numpy as np\n",
    "\n",
    "arr = np.array([1, 2, 3, 4, 5, 6, 7])\n",
    "\n",
    "print(arr[1:5:2])"
   ]
  },
  {
   "cell_type": "markdown",
   "id": "6526e321",
   "metadata": {},
   "source": [
    "### Example\n",
    "**Return every other element from the entire array:**"
   ]
  },
  {
   "cell_type": "code",
   "execution_count": 6,
   "id": "5bc936be",
   "metadata": {},
   "outputs": [
    {
     "name": "stdout",
     "output_type": "stream",
     "text": [
      "[1 3 5 7]\n"
     ]
    }
   ],
   "source": [
    "import numpy as np\n",
    "\n",
    "arr = np.array([1, 2, 3, 4, 5, 6, 7])\n",
    "\n",
    "print(arr[::2])\n"
   ]
  },
  {
   "cell_type": "markdown",
   "id": "2b02c936",
   "metadata": {},
   "source": [
    "## Slicing 2-D Arrays"
   ]
  },
  {
   "cell_type": "markdown",
   "id": "073b0e8c",
   "metadata": {},
   "source": [
    "### Example\n",
    "**From the second element, slice elements from index 1 to index 4 (not included):**"
   ]
  },
  {
   "cell_type": "code",
   "execution_count": 7,
   "id": "3524cdd4",
   "metadata": {},
   "outputs": [
    {
     "name": "stdout",
     "output_type": "stream",
     "text": [
      "[7 8 9]\n"
     ]
    }
   ],
   "source": [
    "import numpy as np\n",
    "\n",
    "arr = np.array([[1, 2, 3, 4, 5], [6, 7, 8, 9, 10]])\n",
    "\n",
    "print(arr[1, 1:4])"
   ]
  },
  {
   "cell_type": "markdown",
   "id": "e52cbbde",
   "metadata": {},
   "source": [
    "### Example\n",
    "**From both elements, return index 2:**"
   ]
  },
  {
   "cell_type": "code",
   "execution_count": 8,
   "id": "3ed18ad5",
   "metadata": {},
   "outputs": [
    {
     "name": "stdout",
     "output_type": "stream",
     "text": [
      "[3 8]\n"
     ]
    }
   ],
   "source": [
    "import numpy as np\n",
    "\n",
    "arr = np.array([[1, 2, 3, 4, 5], [6, 7, 8, 9, 10]])\n",
    "\n",
    "print(arr[0:2, 2])\n"
   ]
  },
  {
   "cell_type": "markdown",
   "id": "be0fe0dc",
   "metadata": {},
   "source": [
    "### Example\n",
    "**From both elements, slice index 1 to index 4 (not included), this will return a 2-D array:**"
   ]
  },
  {
   "cell_type": "code",
   "execution_count": 9,
   "id": "6fc2af9e",
   "metadata": {},
   "outputs": [
    {
     "name": "stdout",
     "output_type": "stream",
     "text": [
      "[[2 3 4]\n",
      " [7 8 9]]\n"
     ]
    }
   ],
   "source": [
    "import numpy as np\n",
    "\n",
    "arr = np.array([[1, 2, 3, 4, 5], [6, 7, 8, 9, 10]])\n",
    "\n",
    "print(arr[0:2, 1:4])"
   ]
  },
  {
   "cell_type": "code",
   "execution_count": null,
   "id": "f2f82da0",
   "metadata": {},
   "outputs": [],
   "source": []
  }
 ],
 "metadata": {
  "kernelspec": {
   "display_name": "Python 3 (ipykernel)",
   "language": "python",
   "name": "python3"
  },
  "language_info": {
   "codemirror_mode": {
    "name": "ipython",
    "version": 3
   },
   "file_extension": ".py",
   "mimetype": "text/x-python",
   "name": "python",
   "nbconvert_exporter": "python",
   "pygments_lexer": "ipython3",
   "version": "3.10.13"
  }
 },
 "nbformat": 4,
 "nbformat_minor": 5
}
