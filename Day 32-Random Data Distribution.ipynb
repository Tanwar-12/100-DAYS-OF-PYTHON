{
 "cells": [
  {
   "cell_type": "markdown",
   "id": "a19ba910",
   "metadata": {},
   "source": [
    "# <div style=\"padding:20px;color:white;margin:0;font-size:35px;font-family:Georgia;text-align:left;display:fill;border-radius:5px;background-color:#254E58;overflow:hidden\"><b>Day 32- Random Data Distribution</b></div>"
   ]
  },
  {
   "cell_type": "markdown",
   "id": "cecd2e1f",
   "metadata": {},
   "source": [
    "**Data Distribution is a list of all possible values, and how often each value occurs.**\n",
    "\n",
    "**Such lists are important when working with statistics and data science.**\n",
    "\n",
    "**The random module offer methods that returns randomly generated data distributions.**"
   ]
  },
  {
   "cell_type": "markdown",
   "id": "b7983e12",
   "metadata": {},
   "source": [
    "### Generate a 1-D array containing 100 values, where each value has to be 3, 5, 7 or 9.\n",
    "\n",
    "**The probability for the value to be 3 is set to be 0.1**\n",
    "\n",
    "**The probability for the value to be 5 is set to be 0.3**\n",
    "\n",
    "**The probability for the value to be 7 is set to be 0.6**\n",
    "\n",
    "**The probability for the value to be 9 is set to be 0**"
   ]
  },
  {
   "cell_type": "code",
   "execution_count": 1,
   "id": "63e60b48",
   "metadata": {},
   "outputs": [
    {
     "name": "stdout",
     "output_type": "stream",
     "text": [
      "[7 7 7 7 7 7 7 5 7 7 7 3 5 7 7 5 7 7 7 7 5 5 7 7 5 5 5 7 5 7 7 7 7 7 7 7 5\n",
      " 5 5 7 5 3 7 7 3 5 7 7 7 7 3 5 7 7 5 7 7 5 5 5 7 5 5 7 5 7 5 7 7 7 7 5 7 7\n",
      " 7 7 7 5 7 7 5 7 7 5 3 5 3 5 7 7 5 7 7 7 3 7 3 5 7 7]\n"
     ]
    }
   ],
   "source": [
    "from numpy import random\n",
    "\n",
    "x = random.choice([3, 5, 7, 9], p=[0.1, 0.3, 0.6, 0.0], size=(100))\n",
    "\n",
    "print(x)"
   ]
  },
  {
   "cell_type": "markdown",
   "id": "8a763721",
   "metadata": {},
   "source": [
    "### Same example as above, but return a 2-D array with 3 rows, each containing 5 values."
   ]
  },
  {
   "cell_type": "code",
   "execution_count": 2,
   "id": "34eebfac",
   "metadata": {},
   "outputs": [
    {
     "name": "stdout",
     "output_type": "stream",
     "text": [
      "[[5 5 5 7 7]\n",
      " [5 7 5 7 7]\n",
      " [3 3 7 7 7]]\n"
     ]
    }
   ],
   "source": [
    "from numpy import random\n",
    "\n",
    "x = random.choice([3, 5, 7, 9], p=[0.1, 0.3, 0.6, 0.0], size=(3, 5))\n",
    "\n",
    "print(x)"
   ]
  },
  {
   "cell_type": "code",
   "execution_count": null,
   "id": "a5c06885",
   "metadata": {},
   "outputs": [],
   "source": []
  }
 ],
 "metadata": {
  "kernelspec": {
   "display_name": "Python 3 (ipykernel)",
   "language": "python",
   "name": "python3"
  },
  "language_info": {
   "codemirror_mode": {
    "name": "ipython",
    "version": 3
   },
   "file_extension": ".py",
   "mimetype": "text/x-python",
   "name": "python",
   "nbconvert_exporter": "python",
   "pygments_lexer": "ipython3",
   "version": "3.11.5"
  }
 },
 "nbformat": 4,
 "nbformat_minor": 5
}
