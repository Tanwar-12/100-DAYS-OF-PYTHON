{
 "cells": [
  {
   "cell_type": "markdown",
   "id": "420d2141-1c74-433d-8791-5464cc3495d4",
   "metadata": {},
   "source": [
    "# <div style=\"padding:20px;color:white;margin:0;font-size:35px;font-family:Georgia;text-align:left;display:fill;border-radius:5px;background-color:#254E58;overflow:hidden\"><b> DAY-57: SciPy Statistical Significance Tests</b></div>"
   ]
  },
  {
   "cell_type": "markdown",
   "id": "624ba48b-8198-4491-918c-a5f1a42f42b6",
   "metadata": {},
   "source": [
    "### **What is Statistical Significance Test?**\n",
    "* In statistics, statistical significance means that the result that was produced has a reason behind it, it was not produced randomly, or by chance.\n",
    "\n",
    "* SciPy provides us with a module called scipy.stats, which has functions for performing statistical significance tests.\n",
    "\n",
    "**Here are some techniques and keywords that are important when performing such tests:**\n",
    "\n",
    "**Hypothesis in Statistics**\n",
    "* Hypothesis is an assumption about a parameter in population.\n",
    "\n",
    "**Null Hypothesis**\n",
    "* It assumes that the observation is not statistically significant.\n",
    "\n",
    "**Alternate Hypothesis**\n",
    "* It assumes that the observations are due to some reason.\n",
    "\n",
    "* It's alternate to Null Hypothesis.\n",
    "\n",
    "**Example:**\n",
    "\n",
    "**For an assessment of a student we would take:**\n",
    "\n",
    "* \"student is worse than average\" - as a null hypothesis, and:\n",
    "\n",
    "* \"student is better than average\" - as an alternate hypothesis.\n",
    "\n",
    "**One tailed test**\n",
    "* When our hypothesis is testing for one side of the value only, it is called \"one tailed test\"."
   ]
  },
  {
   "cell_type": "markdown",
   "id": "d076ef79-bfc7-4e2b-b488-8fd990ec1dfb",
   "metadata": {},
   "source": [
    "* \"the mean is equal to k\", we can have alternate hypothesis:\n",
    "\n",
    "* \"the mean is less than k\", or:\n",
    "\n",
    "* \"the mean is greater than k\"\n",
    "\n",
    "**Two tailed test**\n",
    "* When our hypothesis is testing for both side of the values."
   ]
  },
  {
   "cell_type": "code",
   "execution_count": 1,
   "id": "db7179fa-8f60-46ee-8f47-56bd07454915",
   "metadata": {},
   "outputs": [
    {
     "name": "stdout",
     "output_type": "stream",
     "text": [
      "TtestResult(statistic=0.3373896731753233, pvalue=0.7361805616749528, df=198.0)\n"
     ]
    }
   ],
   "source": [
    "import numpy as np\n",
    "from scipy.stats import ttest_ind\n",
    "\n",
    "v1 = np.random.normal(size=100)\n",
    "v2 = np.random.normal(size=100)\n",
    "\n",
    "res = ttest_ind(v1, v2)\n",
    "\n",
    "print(res)"
   ]
  },
  {
   "cell_type": "code",
   "execution_count": 2,
   "id": "9e18ee7e-09ab-4a7b-84f0-3cb016ecc7e2",
   "metadata": {},
   "outputs": [
    {
     "name": "stdout",
     "output_type": "stream",
     "text": [
      "0.7361805616749528\n"
     ]
    }
   ],
   "source": [
    "...\n",
    "res = ttest_ind(v1, v2).pvalue\n",
    "\n",
    "print(res)"
   ]
  },
  {
   "cell_type": "markdown",
   "id": "ab9bb97f-6942-41c7-adfd-b310b14ce692",
   "metadata": {},
   "source": [
    "**KS-Test**\n",
    "* KS test is used to check if given values follow a distribution."
   ]
  },
  {
   "cell_type": "code",
   "execution_count": 3,
   "id": "1d6ab35b-e2dd-45e6-8342-87544f448415",
   "metadata": {},
   "outputs": [
    {
     "name": "stdout",
     "output_type": "stream",
     "text": [
      "KstestResult(statistic=0.08043255473445021, pvalue=0.5113170451555196, statistic_location=0.6115053018546265, statistic_sign=1)\n"
     ]
    }
   ],
   "source": [
    "import numpy as np\n",
    "from scipy.stats import kstest\n",
    "\n",
    "v = np.random.normal(size=100)\n",
    "\n",
    "res = kstest(v, 'norm')\n",
    "\n",
    "print(res)"
   ]
  },
  {
   "cell_type": "markdown",
   "id": "d4f1322b-0857-434b-a326-e46ade05fa73",
   "metadata": {},
   "source": [
    "### **Statistical Description of Data**\n",
    "* In order to see a summary of values in an array, we can use the describe() function.\n",
    "\n",
    "**It returns the following description:**\n",
    "\n",
    "1.number of observations (nobs)\n",
    "\n",
    "2.minimum and maximum values = minmax\n",
    "\n",
    "3.mean\n",
    "\n",
    "4.variance\n",
    "\n",
    "5.skewness\n",
    "\n",
    "6.kurtosis"
   ]
  },
  {
   "cell_type": "markdown",
   "id": "9e8956ec-fb31-4c72-8295-d9133dd51201",
   "metadata": {},
   "source": [
    "**Show statistical description of the values in an array:**"
   ]
  },
  {
   "cell_type": "code",
   "execution_count": 4,
   "id": "04f8218c-1942-4489-a2fb-bdb42c845208",
   "metadata": {},
   "outputs": [
    {
     "name": "stdout",
     "output_type": "stream",
     "text": [
      "DescribeResult(nobs=100, minmax=(-2.8041320994556895, 2.645938174103387), mean=0.0850426688123569, variance=1.1454754552488895, skewness=0.20337191922330827, kurtosis=-0.015942526664888046)\n"
     ]
    }
   ],
   "source": [
    "import numpy as np\n",
    "from scipy.stats import describe\n",
    "\n",
    "v = np.random.normal(size=100)\n",
    "res = describe(v)\n",
    "\n",
    "print(res)"
   ]
  },
  {
   "cell_type": "markdown",
   "id": "be1e46bd-61d5-4579-a6cd-0a1f95520c6a",
   "metadata": {},
   "source": [
    "**Find skewness and kurtosis of values in an array:**"
   ]
  },
  {
   "cell_type": "code",
   "execution_count": 5,
   "id": "70189d08-aca6-4f10-a43b-7e97213fbc71",
   "metadata": {},
   "outputs": [
    {
     "name": "stdout",
     "output_type": "stream",
     "text": [
      "0.2424943993725415\n",
      "-0.044529862247124186\n"
     ]
    }
   ],
   "source": [
    "import numpy as np\n",
    "from scipy.stats import skew, kurtosis\n",
    "\n",
    "v = np.random.normal(size=100)\n",
    "\n",
    "print(skew(v))\n",
    "print(kurtosis(v))"
   ]
  },
  {
   "cell_type": "code",
   "execution_count": null,
   "id": "42590f1f-ba56-4ec9-b1e0-1a92c47b6d7e",
   "metadata": {},
   "outputs": [],
   "source": []
  }
 ],
 "metadata": {
  "kernelspec": {
   "display_name": "Python 3 (ipykernel)",
   "language": "python",
   "name": "python3"
  },
  "language_info": {
   "codemirror_mode": {
    "name": "ipython",
    "version": 3
   },
   "file_extension": ".py",
   "mimetype": "text/x-python",
   "name": "python",
   "nbconvert_exporter": "python",
   "pygments_lexer": "ipython3",
   "version": "3.11.7"
  }
 },
 "nbformat": 4,
 "nbformat_minor": 5
}
