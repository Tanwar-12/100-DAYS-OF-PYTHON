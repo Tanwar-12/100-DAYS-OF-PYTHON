{
 "cells": [
  {
   "cell_type": "markdown",
   "id": "2dae7d27",
   "metadata": {},
   "source": [
    "# <div style=\"padding:20px;color:white;margin:0;font-size:35px;font-family:Georgia;text-align:left;display:fill;border-radius:5px;background-color:#254E58;overflow:hidden\"><b> Day 16- Python File Handling</b>"
   ]
  },
  {
   "cell_type": "markdown",
   "id": "0b268e39",
   "metadata": {},
   "source": [
    "# Python File Open"
   ]
  },
  {
   "cell_type": "markdown",
   "id": "eaed7f52",
   "metadata": {},
   "source": [
    "**File handling is an important part of any web application.**\n",
    "\n",
    "**Python has several functions for creating, reading, updating, and deleting files**"
   ]
  },
  {
   "cell_type": "markdown",
   "id": "2bb77ee3",
   "metadata": {},
   "source": [
    "## File Handling"
   ]
  },
  {
   "cell_type": "markdown",
   "id": "70044d68",
   "metadata": {},
   "source": [
    "**The key function for working with files in Python is the open() function.**\n",
    "\n",
    "**The open() function takes two parameters; filename, and mode.**\n",
    "\n",
    "**There are four different methods (modes) for opening a file:**"
   ]
  },
  {
   "cell_type": "markdown",
   "id": "ec08c372",
   "metadata": {},
   "source": [
    "**\"r\" - Read - Default value. Opens a file for reading, error if the file does not exist**\n",
    "\n",
    "**\"a\" - Append - Opens a file for appending, creates the file if it does not exist**\n",
    "\n",
    "**\"w\" - Write - Opens a file for writing, creates the file if it does not exist**\n",
    "\n",
    "**\"x\" - Create - Creates the specified file, returns an error if the file exists**"
   ]
  },
  {
   "cell_type": "markdown",
   "id": "6c62d055",
   "metadata": {},
   "source": [
    "* In addition you can specify if the file should be handled as binary or text mode"
   ]
  },
  {
   "cell_type": "markdown",
   "id": "a26e9f56",
   "metadata": {},
   "source": [
    "**\"t\" - Text - Default value. Text mode**\n",
    "\n",
    "**\"b\" - Binary - Binary mode (e.g. images)**"
   ]
  },
  {
   "cell_type": "markdown",
   "id": "54de43c3",
   "metadata": {},
   "source": [
    "### Syntax\n",
    "**To open a file for reading it is enough to specify the name of the file:**"
   ]
  },
  {
   "cell_type": "raw",
   "id": "fff783d2",
   "metadata": {},
   "source": [
    "f = open(\"demofile.txt\")"
   ]
  },
  {
   "cell_type": "markdown",
   "id": "8b9308b9",
   "metadata": {},
   "source": [
    "**The code above is the same as:**"
   ]
  },
  {
   "cell_type": "raw",
   "id": "914997d1",
   "metadata": {},
   "source": [
    "f = open(\"demofile.txt\", \"rt\")"
   ]
  },
  {
   "cell_type": "markdown",
   "id": "a582ee7d",
   "metadata": {},
   "source": [
    "**Because \"r\" for read, and \"t\" for text are the default values, you do not need to specify them.**"
   ]
  },
  {
   "cell_type": "code",
   "execution_count": null,
   "id": "83277755",
   "metadata": {},
   "outputs": [],
   "source": []
  }
 ],
 "metadata": {
  "kernelspec": {
   "display_name": "Python 3 (ipykernel)",
   "language": "python",
   "name": "python3"
  },
  "language_info": {
   "codemirror_mode": {
    "name": "ipython",
    "version": 3
   },
   "file_extension": ".py",
   "mimetype": "text/x-python",
   "name": "python",
   "nbconvert_exporter": "python",
   "pygments_lexer": "ipython3",
   "version": "3.10.13"
  }
 },
 "nbformat": 4,
 "nbformat_minor": 5
}
