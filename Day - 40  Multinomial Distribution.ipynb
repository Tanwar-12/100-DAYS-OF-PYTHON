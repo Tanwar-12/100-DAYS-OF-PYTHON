{
 "cells": [
  {
   "cell_type": "markdown",
   "id": "335d76d3-1ecb-450f-8a67-6b4ae3dec09b",
   "metadata": {},
   "source": [
    "# <div style=\"padding:20px;color:white;margin:0;font-size:35px;font-family:Georgia;text-align:left;display:fill;border-radius:5px;background-color:#254E58;overflow:hidden\"><b>Day 40 - Multinomial Distribution </b></div>"
   ]
  },
  {
   "cell_type": "markdown",
   "id": "e89ae421-3433-4668-b6cb-bff8ccf6a9cd",
   "metadata": {},
   "source": [
    "## Multinomial Distribution\n",
    "**Multinomial distribution is a generalization of binomial distribution.**\n",
    "\n",
    "**It describes outcomes of multi-nomial scenarios unlike binomial where scenarios must be only one of two. e.g. Blood type of a population, dice roll outcome.**\n",
    "\n",
    "### It has three parameters:\n",
    "\n",
    "**n**- number of possible outcomes (e.g. 6 for dice roll).\n",
    "\n",
    "**pvals** - list of probabilties of outcomes (e.g. [1/6, 1/6, 1/6, 1/6, 1/6, 1/6] for dice roll).\n",
    "\n",
    "**size** - The shape of the returned array."
   ]
  },
  {
   "cell_type": "markdown",
   "id": "ea0165f7-6f1a-4fd5-8a5b-b4be8a4a5043",
   "metadata": {},
   "source": [
    "## Draw out a sample for dice roll:"
   ]
  },
  {
   "cell_type": "code",
   "execution_count": 1,
   "id": "d234c5c2-6aca-416e-942d-cd5d141f7adf",
   "metadata": {},
   "outputs": [
    {
     "name": "stdout",
     "output_type": "stream",
     "text": [
      "[0 3 0 1 1 1]\n"
     ]
    }
   ],
   "source": [
    "from numpy import random\n",
    "\n",
    "x = random.multinomial(n=6, pvals=[1/6, 1/6, 1/6, 1/6, 1/6, 1/6])\n",
    "\n",
    "print(x)"
   ]
  },
  {
   "cell_type": "markdown",
   "id": "4e046306-c811-445b-838a-8f5863f3c24f",
   "metadata": {},
   "source": [
    "**Note**: Multinomial samples will NOT produce a single value! They will produce one value for each pval.\n",
    "\n",
    "**Note**: As they are generalization of binomial distribution their visual representation and similarity of normal"
   ]
  },
  {
   "cell_type": "code",
   "execution_count": null,
   "id": "87693cf1-46c8-4d21-87ff-a79e5dc31da3",
   "metadata": {},
   "outputs": [],
   "source": []
  }
 ],
 "metadata": {
  "kernelspec": {
   "display_name": "Python 3 (ipykernel)",
   "language": "python",
   "name": "python3"
  },
  "language_info": {
   "codemirror_mode": {
    "name": "ipython",
    "version": 3
   },
   "file_extension": ".py",
   "mimetype": "text/x-python",
   "name": "python",
   "nbconvert_exporter": "python",
   "pygments_lexer": "ipython3",
   "version": "3.11.7"
  }
 },
 "nbformat": 4,
 "nbformat_minor": 5
}
