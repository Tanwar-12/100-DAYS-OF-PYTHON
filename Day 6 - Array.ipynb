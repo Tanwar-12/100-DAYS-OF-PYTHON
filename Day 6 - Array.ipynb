{
 "cells": [
  {
   "cell_type": "markdown",
   "id": "c3f3fe67",
   "metadata": {},
   "source": [
    "# <div style=\"padding:20px;color:white;margin:0;font-size:35px;font-family:Georgia;text-align:left;display:fill;border-radius:5px;background-color:#254E58;overflow:hidden\"><b>Day-6:Array</b></div>"
   ]
  },
  {
   "cell_type": "markdown",
   "id": "5681a771",
   "metadata": {},
   "source": [
    "# Python Arrays"
   ]
  },
  {
   "cell_type": "markdown",
   "id": "dd1a1bf4",
   "metadata": {},
   "source": [
    "Arrays are used to store multiple values in one single variable:**"
   ]
  },
  {
   "cell_type": "markdown",
   "id": "cbcde9b2",
   "metadata": {},
   "source": [
    "## ExampleGet your own Python Server\n",
    "### Create an array containing car names:"
   ]
  },
  {
   "cell_type": "code",
   "execution_count": 2,
   "id": "589d793a",
   "metadata": {},
   "outputs": [
    {
     "name": "stdout",
     "output_type": "stream",
     "text": [
      "['Ford', 'Volvo', 'BMW']\n"
     ]
    }
   ],
   "source": [
    "cars = [\"Ford\", \"Volvo\", \"BMW\"]\n",
    "print(cars)"
   ]
  },
  {
   "cell_type": "markdown",
   "id": "6fd7ab83",
   "metadata": {},
   "source": [
    "## What is an Array?"
   ]
  },
  {
   "cell_type": "markdown",
   "id": "383e66e7",
   "metadata": {},
   "source": [
    "**An array is a special variable, which can hold more than one value at a time.**\n",
    "\n",
    "**If you have a list of items (a list of car names, for example), storing the cars in single variables could look like this:**"
   ]
  },
  {
   "cell_type": "code",
   "execution_count": 3,
   "id": "a9258c29",
   "metadata": {},
   "outputs": [],
   "source": [
    "car1 = \"Ford\"\n",
    "car2 = \"Volvo\"\n",
    "car3 = \"BMW\""
   ]
  },
  {
   "cell_type": "markdown",
   "id": "b1697dfa",
   "metadata": {},
   "source": [
    "**However, what if you want to loop through the cars and find a specific one? And what if you had not 3 cars, but 300?**\n",
    "\n",
    "**The solution is an array!**\n",
    "\n",
    "**An array can hold many values under a single name, and you can access the values by referring to an index number.**"
   ]
  },
  {
   "cell_type": "markdown",
   "id": "da3bcf9d",
   "metadata": {},
   "source": [
    "## Access the Elements of an Array\n",
    "**You refer to an array element by referring to the index number.**"
   ]
  },
  {
   "cell_type": "markdown",
   "id": "78346cdc",
   "metadata": {},
   "source": [
    "### Example\n",
    "**Get the value of the first array item:**"
   ]
  },
  {
   "cell_type": "code",
   "execution_count": 4,
   "id": "431dc146",
   "metadata": {},
   "outputs": [
    {
     "name": "stdout",
     "output_type": "stream",
     "text": [
      "Ford\n"
     ]
    }
   ],
   "source": [
    "cars = [\"Ford\", \"Volvo\", \"BMW\"]\n",
    "\n",
    "x = cars[0]\n",
    "\n",
    "print(x)\n"
   ]
  },
  {
   "cell_type": "markdown",
   "id": "392ddcca",
   "metadata": {},
   "source": [
    "### Example\n",
    "**Modify the value of the first array item:**"
   ]
  },
  {
   "cell_type": "code",
   "execution_count": 6,
   "id": "490e7985",
   "metadata": {},
   "outputs": [
    {
     "name": "stdout",
     "output_type": "stream",
     "text": [
      "['Toyota', 'Volvo', 'BMW']\n"
     ]
    }
   ],
   "source": [
    "cars = [\"Ford\", \"Volvo\", \"BMW\"]\n",
    "\n",
    "cars[0] = \"Toyota\"\n",
    "\n",
    "print(cars)\n"
   ]
  },
  {
   "cell_type": "markdown",
   "id": "4fe8d251",
   "metadata": {},
   "source": [
    "## The Length of an Array\n",
    "**Use the len() method to return the length of an array (the number of elements in an array).**"
   ]
  },
  {
   "cell_type": "markdown",
   "id": "e2303958",
   "metadata": {},
   "source": [
    "### Example\n",
    "**Return the number of elements in the cars array:**\n",
    "\n"
   ]
  },
  {
   "cell_type": "code",
   "execution_count": 7,
   "id": "2aa9b8ae",
   "metadata": {},
   "outputs": [
    {
     "name": "stdout",
     "output_type": "stream",
     "text": [
      "3\n"
     ]
    }
   ],
   "source": [
    "cars = [\"Ford\", \"Volvo\", \"BMW\"]\n",
    "\n",
    "x = len(cars)\n",
    "\n",
    "print(x)\n"
   ]
  },
  {
   "cell_type": "markdown",
   "id": "59ca9678",
   "metadata": {},
   "source": [
    "## Looping Array Elements\n",
    "**You can use the for in loop to loop through all the elements of an array.**"
   ]
  },
  {
   "cell_type": "markdown",
   "id": "14d8028f",
   "metadata": {},
   "source": [
    "### Example\n",
    "**Print each item in the cars array:**"
   ]
  },
  {
   "cell_type": "code",
   "execution_count": 9,
   "id": "915edb45",
   "metadata": {},
   "outputs": [
    {
     "name": "stdout",
     "output_type": "stream",
     "text": [
      "Ford\n",
      "Volvo\n",
      "BMW\n"
     ]
    }
   ],
   "source": [
    "cars = [\"Ford\", \"Volvo\", \"BMW\"]\n",
    "\n",
    "for x in cars:\n",
    "    print(x)\n"
   ]
  },
  {
   "cell_type": "markdown",
   "id": "c4cd8399",
   "metadata": {},
   "source": [
    "## Adding Array Elements\n",
    "**You can use the append() method to add an element to an array.**"
   ]
  },
  {
   "cell_type": "markdown",
   "id": "d0ae3697",
   "metadata": {},
   "source": [
    "### Example\n",
    "**Add one more element to the cars array:**"
   ]
  },
  {
   "cell_type": "code",
   "execution_count": 10,
   "id": "2f872fca",
   "metadata": {},
   "outputs": [
    {
     "name": "stdout",
     "output_type": "stream",
     "text": [
      "['Ford', 'Volvo', 'BMW', 'Honda']\n"
     ]
    }
   ],
   "source": [
    "cars = [\"Ford\", \"Volvo\", \"BMW\"]\n",
    "\n",
    "cars.append(\"Honda\")\n",
    "\n",
    "print(cars)\n"
   ]
  },
  {
   "cell_type": "markdown",
   "id": "5418ab32",
   "metadata": {},
   "source": [
    "## Removing Array Elements\n",
    "**You can use the pop() method to remove an element from the array.**"
   ]
  },
  {
   "cell_type": "markdown",
   "id": "6799ef3a",
   "metadata": {},
   "source": [
    "### Example\n",
    "**Delete the second element of the cars array:**"
   ]
  },
  {
   "cell_type": "code",
   "execution_count": 11,
   "id": "69cff50b",
   "metadata": {},
   "outputs": [
    {
     "name": "stdout",
     "output_type": "stream",
     "text": [
      "['Ford', 'BMW']\n"
     ]
    }
   ],
   "source": [
    "cars = [\"Ford\", \"Volvo\", \"BMW\"]\n",
    "\n",
    "cars.pop(1)\n",
    "\n",
    "print(cars)\n"
   ]
  },
  {
   "cell_type": "markdown",
   "id": "742e9661",
   "metadata": {},
   "source": [
    "**You can also use the remove() method to remove an element from the array.**"
   ]
  },
  {
   "cell_type": "markdown",
   "id": "a13e699b",
   "metadata": {},
   "source": [
    "### Example\n",
    "**Delete the element that has the value \"Volvo\":**"
   ]
  },
  {
   "cell_type": "code",
   "execution_count": 12,
   "id": "c75787ae",
   "metadata": {},
   "outputs": [
    {
     "name": "stdout",
     "output_type": "stream",
     "text": [
      "['Ford', 'BMW']\n"
     ]
    }
   ],
   "source": [
    "cars = [\"Ford\", \"Volvo\", \"BMW\"]\n",
    "\n",
    "cars.remove(\"Volvo\")\n",
    "\n",
    "print(cars)\n"
   ]
  },
  {
   "cell_type": "markdown",
   "id": "b14c44d1",
   "metadata": {},
   "source": [
    "## Array Methods\n",
    "**Python has a set of built-in methods that you can use on lists/arrays.**"
   ]
  },
  {
   "cell_type": "raw",
   "id": "ef0a0c29",
   "metadata": {},
   "source": [
    "Method\t                       Description\n",
    "\n",
    "append()\t                   Adds an element at the end of the list\n",
    "\n",
    "clear()\t                       Removes all the elements from the list\n",
    "\n",
    "copy()\t                       Returns a copy of the list\n",
    "\n",
    "count()                        Returns the number of elements with the specified value\n",
    "\n",
    "extend()\t                   Add the elements of a list (or any iterable), to the end of the current list\n",
    "\n",
    "index()\t                      Returns the index of the first element with the specified value\n",
    "\n",
    "insert()\t                  Adds an element at the specified position\n",
    "\n",
    "pop()\t                      Removes the element at the specified position\n",
    "\n",
    "remove()\t                  Removes the first item with the specified value\n",
    "\n",
    "reverse()                     Reverses the order of the list\n",
    "\n",
    "sort()\t                      Sorts the list"
   ]
  },
  {
   "cell_type": "code",
   "execution_count": null,
   "id": "2661665e",
   "metadata": {},
   "outputs": [],
   "source": []
  }
 ],
 "metadata": {
  "kernelspec": {
   "display_name": "Python 3 (ipykernel)",
   "language": "python",
   "name": "python3"
  },
  "language_info": {
   "codemirror_mode": {
    "name": "ipython",
    "version": 3
   },
   "file_extension": ".py",
   "mimetype": "text/x-python",
   "name": "python",
   "nbconvert_exporter": "python",
   "pygments_lexer": "ipython3",
   "version": "3.10.10"
  }
 },
 "nbformat": 4,
 "nbformat_minor": 5
}
