{
 "cells": [
  {
   "cell_type": "markdown",
   "id": "07b3ca4e-8cea-4414-9cf9-5a4eee6e6229",
   "metadata": {},
   "source": [
    "# <div style=\"padding:20px;color:white;margin:0;font-size:35px;font-family:Georgia;text-align:left;display:fill;border-radius:5px;background-color:#254E58;overflow:hidden\"><b>Day 44 - Pareto Distribution </b></div>"
   ]
  },
  {
   "cell_type": "markdown",
   "id": "dd32ab4e-69a7-4b55-ab6f-e99d18bb9ba0",
   "metadata": {},
   "source": [
    "## Pareto Distribution\n",
    "**A distribution following Pareto's law i.e. 80-20 distribution (20% factors cause 80% outcome).**\n",
    "\n",
    "### It has two parameter:\n",
    "\n",
    "**a** - shape parameter.\n",
    "\n",
    "**size** - The shape of the returned array."
   ]
  },
  {
   "cell_type": "markdown",
   "id": "94f74b5e-fa7a-4e18-84bc-2836c133e00d",
   "metadata": {},
   "source": [
    "## **Draw out a sample for pareto distribution with shape of 2 with size 2x3:**\n",
    "\n"
   ]
  },
  {
   "cell_type": "code",
   "execution_count": 1,
   "id": "0b2b17f5-81f4-4f01-86ff-bde6eb049054",
   "metadata": {},
   "outputs": [
    {
     "name": "stdout",
     "output_type": "stream",
     "text": [
      "[[0.95605867 0.20305437 0.67448161]\n",
      " [1.0969722  0.43189766 0.11017479]]\n"
     ]
    }
   ],
   "source": [
    "from numpy import random\n",
    "\n",
    "x = random.pareto(a=2, size=(2, 3))\n",
    "\n",
    "print(x)"
   ]
  },
  {
   "cell_type": "markdown",
   "id": "f5ee15b6-fc65-4195-abeb-dea3699df9a5",
   "metadata": {},
   "source": [
    "## **Visualization of Pareto Distribution**\n"
   ]
  },
  {
   "cell_type": "code",
   "execution_count": null,
   "id": "2b96ab04-4308-4e75-9919-28d1fb1fa0e4",
   "metadata": {},
   "outputs": [],
   "source": [
    "\n",
    "from numpy import random\n",
    "import matplotlib.pyplot as plt\n",
    "import seaborn as sns\n",
    "\n",
    "sns.distplot(random.pareto(a=2, size=1000), kde=False)\n",
    "\n",
    "plt.show()"
   ]
  },
  {
   "cell_type": "code",
   "execution_count": null,
   "id": "74059746-07fa-4bd3-9750-c63ca39cc0d5",
   "metadata": {},
   "outputs": [],
   "source": []
  }
 ],
 "metadata": {
  "kernelspec": {
   "display_name": "Python 3 (ipykernel)",
   "language": "python",
   "name": "python3"
  },
  "language_info": {
   "codemirror_mode": {
    "name": "ipython",
    "version": 3
   },
   "file_extension": ".py",
   "mimetype": "text/x-python",
   "name": "python",
   "nbconvert_exporter": "python",
   "pygments_lexer": "ipython3",
   "version": "3.11.7"
  }
 },
 "nbformat": 4,
 "nbformat_minor": 5
}
